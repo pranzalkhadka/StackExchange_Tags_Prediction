{
  "nbformat": 4,
  "nbformat_minor": 0,
  "metadata": {
    "colab": {
      "provenance": []
    },
    "kernelspec": {
      "name": "python3",
      "display_name": "Python 3"
    },
    "language_info": {
      "name": "python"
    }
  },
  "cells": [
    {
      "cell_type": "code",
      "execution_count": 1,
      "metadata": {
        "colab": {
          "base_uri": "https://localhost:8080/"
        },
        "id": "sw0bsgV0oWm8",
        "outputId": "a57ec350-8fe9-41d8-a17f-79b1111ce6ae"
      },
      "outputs": [
        {
          "output_type": "stream",
          "name": "stdout",
          "text": [
            "Mounted at /content/drive\n"
          ]
        }
      ],
      "source": [
        "from google.colab import drive\n",
        "drive.mount('/content/drive')"
      ]
    },
    {
      "cell_type": "code",
      "source": [
        "!unzip /content/drive/MyDrive/facebook-recruiting-iii-keyword-extraction.zip"
      ],
      "metadata": {
        "colab": {
          "base_uri": "https://localhost:8080/"
        },
        "id": "6_qWKDYFs8f9",
        "outputId": "b904a2a9-e8bf-49d7-a4ba-01873bb49843"
      },
      "execution_count": 2,
      "outputs": [
        {
          "output_type": "stream",
          "name": "stdout",
          "text": [
            "Archive:  /content/drive/MyDrive/facebook-recruiting-iii-keyword-extraction.zip\n",
            "  inflating: SampleSubmission.csv    \n",
            "  inflating: Test.zip                \n",
            "  inflating: Train.zip               \n"
          ]
        }
      ]
    },
    {
      "cell_type": "code",
      "source": [
        "!unzip /content/Train.zip"
      ],
      "metadata": {
        "colab": {
          "base_uri": "https://localhost:8080/"
        },
        "id": "Uui0iytVtPtT",
        "outputId": "25497061-d1ff-4b05-b55f-bafef443c81c"
      },
      "execution_count": 3,
      "outputs": [
        {
          "output_type": "stream",
          "name": "stdout",
          "text": [
            "Archive:  /content/Train.zip\n",
            "  inflating: Train.csv               \n"
          ]
        }
      ]
    },
    {
      "cell_type": "code",
      "source": [
        "import numpy as np\n",
        "import pandas as pd\n",
        "import matplotlib.pyplot as plt"
      ],
      "metadata": {
        "id": "NzIojYQewYlK"
      },
      "execution_count": 4,
      "outputs": []
    },
    {
      "cell_type": "code",
      "source": [
        "train_data = pd.read_csv('/content/Train.csv')"
      ],
      "metadata": {
        "id": "4Y5dGdfDvKdA"
      },
      "execution_count": 5,
      "outputs": []
    },
    {
      "cell_type": "code",
      "source": [
        "data = train_data[:10000]"
      ],
      "metadata": {
        "id": "HBA3M5hBwjov"
      },
      "execution_count": 6,
      "outputs": []
    },
    {
      "cell_type": "markdown",
      "source": [
        "I took a slice of the data because the entire data is too large to work with ."
      ],
      "metadata": {
        "id": "cwyNFH7EGuSl"
      }
    },
    {
      "cell_type": "code",
      "source": [
        "data.head(3)"
      ],
      "metadata": {
        "colab": {
          "base_uri": "https://localhost:8080/",
          "height": 143
        },
        "id": "PFBNYa00xVCA",
        "outputId": "f021ea07-2041-4652-cd66-2fc23b4758e8"
      },
      "execution_count": 8,
      "outputs": [
        {
          "output_type": "execute_result",
          "data": {
            "text/plain": [
              "   Id                                              Title  \\\n",
              "0   1  How to check if an uploaded file is an image w...   \n",
              "1   2  How can I prevent firefox from closing when I ...   \n",
              "2   3           R Error Invalid type (list) for variable   \n",
              "\n",
              "                                                Body  \\\n",
              "0  <p>I'd like to check if an uploaded file is an...   \n",
              "1  <p>In my favorite editor (vim), I regularly us...   \n",
              "2  <p>I am import matlab file and construct a dat...   \n",
              "\n",
              "                                                Tags  \n",
              "0  php image-processing file-upload upload mime-t...  \n",
              "1                                            firefox  \n",
              "2                          r matlab machine-learning  "
            ],
            "text/html": [
              "\n",
              "  <div id=\"df-6ce3b31c-f0b9-435d-b5f7-5f789a9c17de\">\n",
              "    <div class=\"colab-df-container\">\n",
              "      <div>\n",
              "<style scoped>\n",
              "    .dataframe tbody tr th:only-of-type {\n",
              "        vertical-align: middle;\n",
              "    }\n",
              "\n",
              "    .dataframe tbody tr th {\n",
              "        vertical-align: top;\n",
              "    }\n",
              "\n",
              "    .dataframe thead th {\n",
              "        text-align: right;\n",
              "    }\n",
              "</style>\n",
              "<table border=\"1\" class=\"dataframe\">\n",
              "  <thead>\n",
              "    <tr style=\"text-align: right;\">\n",
              "      <th></th>\n",
              "      <th>Id</th>\n",
              "      <th>Title</th>\n",
              "      <th>Body</th>\n",
              "      <th>Tags</th>\n",
              "    </tr>\n",
              "  </thead>\n",
              "  <tbody>\n",
              "    <tr>\n",
              "      <th>0</th>\n",
              "      <td>1</td>\n",
              "      <td>How to check if an uploaded file is an image w...</td>\n",
              "      <td>&lt;p&gt;I'd like to check if an uploaded file is an...</td>\n",
              "      <td>php image-processing file-upload upload mime-t...</td>\n",
              "    </tr>\n",
              "    <tr>\n",
              "      <th>1</th>\n",
              "      <td>2</td>\n",
              "      <td>How can I prevent firefox from closing when I ...</td>\n",
              "      <td>&lt;p&gt;In my favorite editor (vim), I regularly us...</td>\n",
              "      <td>firefox</td>\n",
              "    </tr>\n",
              "    <tr>\n",
              "      <th>2</th>\n",
              "      <td>3</td>\n",
              "      <td>R Error Invalid type (list) for variable</td>\n",
              "      <td>&lt;p&gt;I am import matlab file and construct a dat...</td>\n",
              "      <td>r matlab machine-learning</td>\n",
              "    </tr>\n",
              "  </tbody>\n",
              "</table>\n",
              "</div>\n",
              "      <button class=\"colab-df-convert\" onclick=\"convertToInteractive('df-6ce3b31c-f0b9-435d-b5f7-5f789a9c17de')\"\n",
              "              title=\"Convert this dataframe to an interactive table.\"\n",
              "              style=\"display:none;\">\n",
              "        \n",
              "  <svg xmlns=\"http://www.w3.org/2000/svg\" height=\"24px\"viewBox=\"0 0 24 24\"\n",
              "       width=\"24px\">\n",
              "    <path d=\"M0 0h24v24H0V0z\" fill=\"none\"/>\n",
              "    <path d=\"M18.56 5.44l.94 2.06.94-2.06 2.06-.94-2.06-.94-.94-2.06-.94 2.06-2.06.94zm-11 1L8.5 8.5l.94-2.06 2.06-.94-2.06-.94L8.5 2.5l-.94 2.06-2.06.94zm10 10l.94 2.06.94-2.06 2.06-.94-2.06-.94-.94-2.06-.94 2.06-2.06.94z\"/><path d=\"M17.41 7.96l-1.37-1.37c-.4-.4-.92-.59-1.43-.59-.52 0-1.04.2-1.43.59L10.3 9.45l-7.72 7.72c-.78.78-.78 2.05 0 2.83L4 21.41c.39.39.9.59 1.41.59.51 0 1.02-.2 1.41-.59l7.78-7.78 2.81-2.81c.8-.78.8-2.07 0-2.86zM5.41 20L4 18.59l7.72-7.72 1.47 1.35L5.41 20z\"/>\n",
              "  </svg>\n",
              "      </button>\n",
              "      \n",
              "  <style>\n",
              "    .colab-df-container {\n",
              "      display:flex;\n",
              "      flex-wrap:wrap;\n",
              "      gap: 12px;\n",
              "    }\n",
              "\n",
              "    .colab-df-convert {\n",
              "      background-color: #E8F0FE;\n",
              "      border: none;\n",
              "      border-radius: 50%;\n",
              "      cursor: pointer;\n",
              "      display: none;\n",
              "      fill: #1967D2;\n",
              "      height: 32px;\n",
              "      padding: 0 0 0 0;\n",
              "      width: 32px;\n",
              "    }\n",
              "\n",
              "    .colab-df-convert:hover {\n",
              "      background-color: #E2EBFA;\n",
              "      box-shadow: 0px 1px 2px rgba(60, 64, 67, 0.3), 0px 1px 3px 1px rgba(60, 64, 67, 0.15);\n",
              "      fill: #174EA6;\n",
              "    }\n",
              "\n",
              "    [theme=dark] .colab-df-convert {\n",
              "      background-color: #3B4455;\n",
              "      fill: #D2E3FC;\n",
              "    }\n",
              "\n",
              "    [theme=dark] .colab-df-convert:hover {\n",
              "      background-color: #434B5C;\n",
              "      box-shadow: 0px 1px 3px 1px rgba(0, 0, 0, 0.15);\n",
              "      filter: drop-shadow(0px 1px 2px rgba(0, 0, 0, 0.3));\n",
              "      fill: #FFFFFF;\n",
              "    }\n",
              "  </style>\n",
              "\n",
              "      <script>\n",
              "        const buttonEl =\n",
              "          document.querySelector('#df-6ce3b31c-f0b9-435d-b5f7-5f789a9c17de button.colab-df-convert');\n",
              "        buttonEl.style.display =\n",
              "          google.colab.kernel.accessAllowed ? 'block' : 'none';\n",
              "\n",
              "        async function convertToInteractive(key) {\n",
              "          const element = document.querySelector('#df-6ce3b31c-f0b9-435d-b5f7-5f789a9c17de');\n",
              "          const dataTable =\n",
              "            await google.colab.kernel.invokeFunction('convertToInteractive',\n",
              "                                                     [key], {});\n",
              "          if (!dataTable) return;\n",
              "\n",
              "          const docLinkHtml = 'Like what you see? Visit the ' +\n",
              "            '<a target=\"_blank\" href=https://colab.research.google.com/notebooks/data_table.ipynb>data table notebook</a>'\n",
              "            + ' to learn more about interactive tables.';\n",
              "          element.innerHTML = '';\n",
              "          dataTable['output_type'] = 'display_data';\n",
              "          await google.colab.output.renderOutput(dataTable, element);\n",
              "          const docLink = document.createElement('div');\n",
              "          docLink.innerHTML = docLinkHtml;\n",
              "          element.appendChild(docLink);\n",
              "        }\n",
              "      </script>\n",
              "    </div>\n",
              "  </div>\n",
              "  "
            ]
          },
          "metadata": {},
          "execution_count": 8
        }
      ]
    },
    {
      "cell_type": "code",
      "source": [
        "data.drop('Id',axis=1,inplace=True)\n",
        "data.head(3)"
      ],
      "metadata": {
        "colab": {
          "base_uri": "https://localhost:8080/",
          "height": 346
        },
        "id": "qjTBYqiVxWp1",
        "outputId": "27b21b26-5252-49b0-a0bb-5dbbc13ce057"
      },
      "execution_count": 9,
      "outputs": [
        {
          "output_type": "stream",
          "name": "stderr",
          "text": [
            "/usr/local/lib/python3.8/dist-packages/pandas/core/frame.py:4906: SettingWithCopyWarning: \n",
            "A value is trying to be set on a copy of a slice from a DataFrame\n",
            "\n",
            "See the caveats in the documentation: https://pandas.pydata.org/pandas-docs/stable/user_guide/indexing.html#returning-a-view-versus-a-copy\n",
            "  return super().drop(\n"
          ]
        },
        {
          "output_type": "execute_result",
          "data": {
            "text/plain": [
              "                                               Title  \\\n",
              "0  How to check if an uploaded file is an image w...   \n",
              "1  How can I prevent firefox from closing when I ...   \n",
              "2           R Error Invalid type (list) for variable   \n",
              "\n",
              "                                                Body  \\\n",
              "0  <p>I'd like to check if an uploaded file is an...   \n",
              "1  <p>In my favorite editor (vim), I regularly us...   \n",
              "2  <p>I am import matlab file and construct a dat...   \n",
              "\n",
              "                                                Tags  \n",
              "0  php image-processing file-upload upload mime-t...  \n",
              "1                                            firefox  \n",
              "2                          r matlab machine-learning  "
            ],
            "text/html": [
              "\n",
              "  <div id=\"df-27c694de-2998-46fd-8797-da4f19fa62f3\">\n",
              "    <div class=\"colab-df-container\">\n",
              "      <div>\n",
              "<style scoped>\n",
              "    .dataframe tbody tr th:only-of-type {\n",
              "        vertical-align: middle;\n",
              "    }\n",
              "\n",
              "    .dataframe tbody tr th {\n",
              "        vertical-align: top;\n",
              "    }\n",
              "\n",
              "    .dataframe thead th {\n",
              "        text-align: right;\n",
              "    }\n",
              "</style>\n",
              "<table border=\"1\" class=\"dataframe\">\n",
              "  <thead>\n",
              "    <tr style=\"text-align: right;\">\n",
              "      <th></th>\n",
              "      <th>Title</th>\n",
              "      <th>Body</th>\n",
              "      <th>Tags</th>\n",
              "    </tr>\n",
              "  </thead>\n",
              "  <tbody>\n",
              "    <tr>\n",
              "      <th>0</th>\n",
              "      <td>How to check if an uploaded file is an image w...</td>\n",
              "      <td>&lt;p&gt;I'd like to check if an uploaded file is an...</td>\n",
              "      <td>php image-processing file-upload upload mime-t...</td>\n",
              "    </tr>\n",
              "    <tr>\n",
              "      <th>1</th>\n",
              "      <td>How can I prevent firefox from closing when I ...</td>\n",
              "      <td>&lt;p&gt;In my favorite editor (vim), I regularly us...</td>\n",
              "      <td>firefox</td>\n",
              "    </tr>\n",
              "    <tr>\n",
              "      <th>2</th>\n",
              "      <td>R Error Invalid type (list) for variable</td>\n",
              "      <td>&lt;p&gt;I am import matlab file and construct a dat...</td>\n",
              "      <td>r matlab machine-learning</td>\n",
              "    </tr>\n",
              "  </tbody>\n",
              "</table>\n",
              "</div>\n",
              "      <button class=\"colab-df-convert\" onclick=\"convertToInteractive('df-27c694de-2998-46fd-8797-da4f19fa62f3')\"\n",
              "              title=\"Convert this dataframe to an interactive table.\"\n",
              "              style=\"display:none;\">\n",
              "        \n",
              "  <svg xmlns=\"http://www.w3.org/2000/svg\" height=\"24px\"viewBox=\"0 0 24 24\"\n",
              "       width=\"24px\">\n",
              "    <path d=\"M0 0h24v24H0V0z\" fill=\"none\"/>\n",
              "    <path d=\"M18.56 5.44l.94 2.06.94-2.06 2.06-.94-2.06-.94-.94-2.06-.94 2.06-2.06.94zm-11 1L8.5 8.5l.94-2.06 2.06-.94-2.06-.94L8.5 2.5l-.94 2.06-2.06.94zm10 10l.94 2.06.94-2.06 2.06-.94-2.06-.94-.94-2.06-.94 2.06-2.06.94z\"/><path d=\"M17.41 7.96l-1.37-1.37c-.4-.4-.92-.59-1.43-.59-.52 0-1.04.2-1.43.59L10.3 9.45l-7.72 7.72c-.78.78-.78 2.05 0 2.83L4 21.41c.39.39.9.59 1.41.59.51 0 1.02-.2 1.41-.59l7.78-7.78 2.81-2.81c.8-.78.8-2.07 0-2.86zM5.41 20L4 18.59l7.72-7.72 1.47 1.35L5.41 20z\"/>\n",
              "  </svg>\n",
              "      </button>\n",
              "      \n",
              "  <style>\n",
              "    .colab-df-container {\n",
              "      display:flex;\n",
              "      flex-wrap:wrap;\n",
              "      gap: 12px;\n",
              "    }\n",
              "\n",
              "    .colab-df-convert {\n",
              "      background-color: #E8F0FE;\n",
              "      border: none;\n",
              "      border-radius: 50%;\n",
              "      cursor: pointer;\n",
              "      display: none;\n",
              "      fill: #1967D2;\n",
              "      height: 32px;\n",
              "      padding: 0 0 0 0;\n",
              "      width: 32px;\n",
              "    }\n",
              "\n",
              "    .colab-df-convert:hover {\n",
              "      background-color: #E2EBFA;\n",
              "      box-shadow: 0px 1px 2px rgba(60, 64, 67, 0.3), 0px 1px 3px 1px rgba(60, 64, 67, 0.15);\n",
              "      fill: #174EA6;\n",
              "    }\n",
              "\n",
              "    [theme=dark] .colab-df-convert {\n",
              "      background-color: #3B4455;\n",
              "      fill: #D2E3FC;\n",
              "    }\n",
              "\n",
              "    [theme=dark] .colab-df-convert:hover {\n",
              "      background-color: #434B5C;\n",
              "      box-shadow: 0px 1px 3px 1px rgba(0, 0, 0, 0.15);\n",
              "      filter: drop-shadow(0px 1px 2px rgba(0, 0, 0, 0.3));\n",
              "      fill: #FFFFFF;\n",
              "    }\n",
              "  </style>\n",
              "\n",
              "      <script>\n",
              "        const buttonEl =\n",
              "          document.querySelector('#df-27c694de-2998-46fd-8797-da4f19fa62f3 button.colab-df-convert');\n",
              "        buttonEl.style.display =\n",
              "          google.colab.kernel.accessAllowed ? 'block' : 'none';\n",
              "\n",
              "        async function convertToInteractive(key) {\n",
              "          const element = document.querySelector('#df-27c694de-2998-46fd-8797-da4f19fa62f3');\n",
              "          const dataTable =\n",
              "            await google.colab.kernel.invokeFunction('convertToInteractive',\n",
              "                                                     [key], {});\n",
              "          if (!dataTable) return;\n",
              "\n",
              "          const docLinkHtml = 'Like what you see? Visit the ' +\n",
              "            '<a target=\"_blank\" href=https://colab.research.google.com/notebooks/data_table.ipynb>data table notebook</a>'\n",
              "            + ' to learn more about interactive tables.';\n",
              "          element.innerHTML = '';\n",
              "          dataTable['output_type'] = 'display_data';\n",
              "          await google.colab.output.renderOutput(dataTable, element);\n",
              "          const docLink = document.createElement('div');\n",
              "          docLink.innerHTML = docLinkHtml;\n",
              "          element.appendChild(docLink);\n",
              "        }\n",
              "      </script>\n",
              "    </div>\n",
              "  </div>\n",
              "  "
            ]
          },
          "metadata": {},
          "execution_count": 9
        }
      ]
    },
    {
      "cell_type": "code",
      "source": [
        "data.info()"
      ],
      "metadata": {
        "colab": {
          "base_uri": "https://localhost:8080/"
        },
        "id": "8K548m0W52Hb",
        "outputId": "9aa97c8d-7f5a-4ae3-8434-605dc7d602a0"
      },
      "execution_count": 10,
      "outputs": [
        {
          "output_type": "stream",
          "name": "stdout",
          "text": [
            "<class 'pandas.core.frame.DataFrame'>\n",
            "RangeIndex: 10000 entries, 0 to 9999\n",
            "Data columns (total 3 columns):\n",
            " #   Column  Non-Null Count  Dtype \n",
            "---  ------  --------------  ----- \n",
            " 0   Title   10000 non-null  object\n",
            " 1   Body    10000 non-null  object\n",
            " 2   Tags    10000 non-null  object\n",
            "dtypes: object(3)\n",
            "memory usage: 234.5+ KB\n"
          ]
        }
      ]
    },
    {
      "cell_type": "code",
      "source": [
        "data.shape"
      ],
      "metadata": {
        "colab": {
          "base_uri": "https://localhost:8080/"
        },
        "id": "visl-ewX5_on",
        "outputId": "b6a36446-ab40-424e-a8dc-10bfa92c2785"
      },
      "execution_count": 11,
      "outputs": [
        {
          "output_type": "execute_result",
          "data": {
            "text/plain": [
              "(10000, 3)"
            ]
          },
          "metadata": {},
          "execution_count": 11
        }
      ]
    },
    {
      "cell_type": "code",
      "source": [
        "data.isnull().values.any()"
      ],
      "metadata": {
        "colab": {
          "base_uri": "https://localhost:8080/"
        },
        "id": "OPDiog-36Jlh",
        "outputId": "d2d1bcf7-8da5-4428-c943-93e4a11a33a7"
      },
      "execution_count": 12,
      "outputs": [
        {
          "output_type": "execute_result",
          "data": {
            "text/plain": [
              "False"
            ]
          },
          "metadata": {},
          "execution_count": 12
        }
      ]
    },
    {
      "cell_type": "code",
      "source": [
        "data.columns"
      ],
      "metadata": {
        "colab": {
          "base_uri": "https://localhost:8080/"
        },
        "id": "56tczX7a6Pd_",
        "outputId": "ecc2b9c5-1a20-4d5f-e454-34300633f01c"
      },
      "execution_count": 13,
      "outputs": [
        {
          "output_type": "execute_result",
          "data": {
            "text/plain": [
              "Index(['Title', 'Body', 'Tags'], dtype='object')"
            ]
          },
          "metadata": {},
          "execution_count": 13
        }
      ]
    },
    {
      "cell_type": "code",
      "source": [
        "data.duplicated().values.any()"
      ],
      "metadata": {
        "colab": {
          "base_uri": "https://localhost:8080/"
        },
        "id": "DuqhA5TN6bv7",
        "outputId": "74f4a2a0-1a02-401d-ec61-695b75113096"
      },
      "execution_count": 15,
      "outputs": [
        {
          "output_type": "execute_result",
          "data": {
            "text/plain": [
              "True"
            ]
          },
          "metadata": {},
          "execution_count": 15
        }
      ]
    },
    {
      "cell_type": "code",
      "source": [
        "data.drop_duplicates(inplace=True)"
      ],
      "metadata": {
        "colab": {
          "base_uri": "https://localhost:8080/"
        },
        "id": "bgjxUp116hWC",
        "outputId": "74b9d69e-296e-4fd9-e66a-cecfdb51c230"
      },
      "execution_count": 16,
      "outputs": [
        {
          "output_type": "stream",
          "name": "stderr",
          "text": [
            "/usr/local/lib/python3.8/dist-packages/pandas/util/_decorators.py:311: SettingWithCopyWarning: \n",
            "A value is trying to be set on a copy of a slice from a DataFrame\n",
            "\n",
            "See the caveats in the documentation: https://pandas.pydata.org/pandas-docs/stable/user_guide/indexing.html#returning-a-view-versus-a-copy\n",
            "  return func(*args, **kwargs)\n"
          ]
        }
      ]
    },
    {
      "cell_type": "code",
      "source": [
        "data.duplicated().values.any()"
      ],
      "metadata": {
        "colab": {
          "base_uri": "https://localhost:8080/"
        },
        "id": "XBhPjUNx6l2X",
        "outputId": "50627840-b6a3-42b0-f8ad-b19138a228d4"
      },
      "execution_count": 17,
      "outputs": [
        {
          "output_type": "execute_result",
          "data": {
            "text/plain": [
              "False"
            ]
          },
          "metadata": {},
          "execution_count": 17
        }
      ]
    },
    {
      "cell_type": "code",
      "source": [
        "data.info()"
      ],
      "metadata": {
        "colab": {
          "base_uri": "https://localhost:8080/"
        },
        "id": "qfsPaCI26nkN",
        "outputId": "9b7fe8dd-2a39-4235-e8f2-3cd033d5c31e"
      },
      "execution_count": 18,
      "outputs": [
        {
          "output_type": "stream",
          "name": "stdout",
          "text": [
            "<class 'pandas.core.frame.DataFrame'>\n",
            "Int64Index: 9997 entries, 0 to 9999\n",
            "Data columns (total 3 columns):\n",
            " #   Column  Non-Null Count  Dtype \n",
            "---  ------  --------------  ----- \n",
            " 0   Title   9997 non-null   object\n",
            " 1   Body    9997 non-null   object\n",
            " 2   Tags    9997 non-null   object\n",
            "dtypes: object(3)\n",
            "memory usage: 312.4+ KB\n"
          ]
        }
      ]
    },
    {
      "cell_type": "code",
      "source": [
        "sample_title=data[\"Title\"][20]\n",
        "sample_body=data[\"Body\"][20]"
      ],
      "metadata": {
        "id": "2sjr6b-b7czH"
      },
      "execution_count": 35,
      "outputs": []
    },
    {
      "cell_type": "code",
      "source": [
        "print(f\"Sample Title : {sample_title}\")\n",
        "print(f\"Sample Body : {sample_body}\")"
      ],
      "metadata": {
        "colab": {
          "base_uri": "https://localhost:8080/"
        },
        "id": "g9TNm4sw7nCn",
        "outputId": "8e4b2a6c-892e-4e4b-c8bf-7d69dddffeec"
      },
      "execution_count": 36,
      "outputs": [
        {
          "output_type": "stream",
          "name": "stdout",
          "text": [
            "Sample Title : Are cancer recovery rates the same as they were in 1920?\n",
            "Sample Body : <p><strong>Related:</strong> <a href=\"http://skeptics.stackexchange.com/questions/3131/have-any-cures-been-invented-since-the-1950s-or-so\">Have any “cures” been invented since the 1950's or so?</a></p>\n",
            "\n",
            "<hr>\n",
            "\n",
            "<p>I ran across the movie <a href=\"http://cutpoisonburn.com/\">Cut Poison Burn</a>, who's abstract is as follows:</p>\n",
            "\n",
            "<blockquote>\n",
            "  <p>Cut Poison Burn is a controversial, eye opening, and sometimes heartbreaking documentary that puts the business of cancer treatment under the microscope. Follow the frustrating journeys of critically ill cancer patients as they try to navigate the confusing and dangerous maze of treatment and encounter formidable obstacles in the “cancer industrial complex.”  A compelling critique of the influence of medical monopolies, the power of pharmaceutical companies and government agencies, Cut Poison Burn is essential viewing for anyone and everyone touched by cancer.</p>\n",
            "</blockquote>\n",
            "\n",
            "<p>The movie may advocate (haven't watched the whole thing) some kind of new, pennies-per-session treatment a la <a href=\"http://skeptics.stackexchange.com/questions/4611/does-burzynski-have-a-miracle-cancer-cure-being-suppressed-by-the-fda\">Burzynski</a>, or at least <a href=\"http://articles.mercola.com/sites/articles/archive/2011/09/19/cut-poison-burn.aspx\">Dr. Mercola is using it to do so</a>.</p>\n",
            "\n",
            "<p>There are a myriad of claims in the movie, I'm sure (I only watched the first 10min), but I'd like to address one in particular that struck me (<a href=\"http://vimeo.com/26874089\">occurs starting at the 7min mark</a>). It is made by Charles B. Simone, M.MS, M.D., founder of the <a href=\"http://www.drsimone.com/center.htm\">Simone Protective Cancer Center</a> (transcripted by me; may contain small errors):</p>\n",
            "\n",
            "<blockquote>\n",
            "  <p>From 1920 to the present time, we have made little or no progress in the treatment of adult cancers. So a person who gets prostate cancer or breast cancer today will live as long as a person who got it in 1920. No big change. With all the radiation therapy that began in the 10's and 20's, combination chemotherapy in the 60's, immunotherapy that began in the 70's, PET scans, MRI scans, you name it, billions and billions and billions of research dollar that we've thrown into this whole area of cancer research and treatment... little or no significant progress in the treatment of adult cancers.</p>\n",
            "</blockquote>\n",
            "\n",
            "<p>Is this the case? Has no treatment since 1920 done anything to increase the chance of [long-term] survival of adults who have cancer?</p>\n",
            "\n"
          ]
        }
      ]
    },
    {
      "cell_type": "code",
      "source": [
        "from sklearn.feature_extraction.text import CountVectorizer"
      ],
      "metadata": {
        "id": "s27ytGSi7rR9"
      },
      "execution_count": 37,
      "outputs": []
    },
    {
      "cell_type": "code",
      "source": [
        "vectorizer = CountVectorizer(tokenizer = lambda x: x.split())\n",
        "tag_matrix=vectorizer.fit_transform(data['Tags'])"
      ],
      "metadata": {
        "colab": {
          "base_uri": "https://localhost:8080/"
        },
        "id": "xGpdRVUP8jjo",
        "outputId": "585b3753-9330-4afc-e53a-5ef2735339be"
      },
      "execution_count": 64,
      "outputs": [
        {
          "output_type": "stream",
          "name": "stderr",
          "text": [
            "/usr/local/lib/python3.8/dist-packages/sklearn/feature_extraction/text.py:528: UserWarning: The parameter 'token_pattern' will not be used since 'tokenizer' is not None'\n",
            "  warnings.warn(\n"
          ]
        }
      ]
    },
    {
      "cell_type": "markdown",
      "source": [
        "Converted the text data in Tags column to a matrix of token counts by breaking down the text into individual words"
      ],
      "metadata": {
        "id": "YNk-9xOk_rV-"
      }
    },
    {
      "cell_type": "code",
      "source": [
        "tag_matrix.shape"
      ],
      "metadata": {
        "colab": {
          "base_uri": "https://localhost:8080/"
        },
        "id": "6L0y0WTc8pqT",
        "outputId": "a339479c-170b-4086-a42d-9f825c1a6b35"
      },
      "execution_count": 65,
      "outputs": [
        {
          "output_type": "execute_result",
          "data": {
            "text/plain": [
              "(9997, 6124)"
            ]
          },
          "metadata": {},
          "execution_count": 65
        }
      ]
    },
    {
      "cell_type": "markdown",
      "source": [
        "We have 9997 unique datapoints and 6124 unique tags"
      ],
      "metadata": {
        "id": "AGKudEydF4yG"
      }
    },
    {
      "cell_type": "code",
      "source": [
        "import sklearn"
      ],
      "metadata": {
        "id": "TpA9RVO2-e93"
      },
      "execution_count": 56,
      "outputs": []
    },
    {
      "cell_type": "code",
      "source": [
        "print(sklearn.__version__)"
      ],
      "metadata": {
        "colab": {
          "base_uri": "https://localhost:8080/"
        },
        "id": "xCEbI4wt-0_V",
        "outputId": "b204cfd0-3746-4606-ec53-287a12ca28da"
      },
      "execution_count": 59,
      "outputs": [
        {
          "output_type": "stream",
          "name": "stdout",
          "text": [
            "1.2.1\n"
          ]
        }
      ]
    },
    {
      "cell_type": "code",
      "source": [
        "tags = vectorizer.get_feature_names_out()"
      ],
      "metadata": {
        "id": "aHj7L5Q58sz-"
      },
      "execution_count": 66,
      "outputs": []
    },
    {
      "cell_type": "code",
      "source": [
        "print(tags[:10])"
      ],
      "metadata": {
        "colab": {
          "base_uri": "https://localhost:8080/"
        },
        "id": "-3UyfkYi-Cwu",
        "outputId": "ad2da8df-1149-4876-bcaa-302bace4d5e0"
      },
      "execution_count": 67,
      "outputs": [
        {
          "output_type": "stream",
          "name": "stdout",
          "text": [
            "['.htaccess' '.net' '.net-2.0' '.net-3.5' '.net-4.0' '.net-4.5'\n",
            " '.net-assembly' '.net-framework' '.net4.0' '.refresh']\n"
          ]
        }
      ]
    },
    {
      "cell_type": "code",
      "source": [
        "frequency = tag_matrix.sum(axis=0).A1\n",
        "tags_frequency=dict(zip(tags,frequency))"
      ],
      "metadata": {
        "id": "dDz-phQb_HUa"
      },
      "execution_count": 69,
      "outputs": []
    },
    {
      "cell_type": "markdown",
      "source": [
        "Calculated the frequency of each tag in tag matrix and stored them in tags_frequency dictionary"
      ],
      "metadata": {
        "id": "aVzPjAKa_mYJ"
      }
    },
    {
      "cell_type": "code",
      "source": [
        "tags_frequency"
      ],
      "metadata": {
        "colab": {
          "base_uri": "https://localhost:8080/"
        },
        "id": "9eYGkY8d_Lm-",
        "outputId": "8eb42c2a-50f9-4638-8f31-f940c23bdafd"
      },
      "execution_count": 70,
      "outputs": [
        {
          "output_type": "execute_result",
          "data": {
            "text/plain": [
              "{'.htaccess': 40,\n",
              " '.net': 302,\n",
              " '.net-2.0': 6,\n",
              " '.net-3.5': 7,\n",
              " '.net-4.0': 10,\n",
              " '.net-4.5': 3,\n",
              " '.net-assembly': 3,\n",
              " '.net-framework': 1,\n",
              " '.net4.0': 1,\n",
              " '.refresh': 1,\n",
              " '.war': 1,\n",
              " '.x': 1,\n",
              " '1080p': 1,\n",
              " '10gbethernet': 1,\n",
              " '1and1': 1,\n",
              " '2003': 1,\n",
              " '2007': 10,\n",
              " '2010': 12,\n",
              " '2013': 1,\n",
              " '24bit': 1,\n",
              " '2d': 3,\n",
              " '2d-array': 2,\n",
              " '3.0': 2,\n",
              " '32-bit': 1,\n",
              " '32bit-64bit': 1,\n",
              " '3d': 11,\n",
              " '3d-engine': 1,\n",
              " '3d-model': 1,\n",
              " '3d-modelling': 1,\n",
              " '3dsmax': 1,\n",
              " '404-error': 1,\n",
              " '5.1': 1,\n",
              " '64-bit': 6,\n",
              " '64bit': 2,\n",
              " '6502': 1,\n",
              " '7-zip': 1,\n",
              " '802.11n': 1,\n",
              " '8086': 1,\n",
              " '8bit': 1,\n",
              " 'a-record': 1,\n",
              " 'a-star': 1,\n",
              " 'aabb': 1,\n",
              " 'abaddressbook': 1,\n",
              " 'abap': 1,\n",
              " 'absolute-path': 1,\n",
              " 'absolute-positioning': 3,\n",
              " 'abstract': 1,\n",
              " 'abstract-algebra': 8,\n",
              " 'abstract-class': 1,\n",
              " 'accelerate-framework': 1,\n",
              " 'accelerated-c++': 1,\n",
              " 'accelerometer': 2,\n",
              " 'access': 1,\n",
              " 'access-control': 1,\n",
              " 'access-denied': 1,\n",
              " 'access-token': 1,\n",
              " 'access-violation': 1,\n",
              " 'accessibility': 2,\n",
              " 'accordion': 5,\n",
              " 'account': 2,\n",
              " 'account-restrictions': 1,\n",
              " 'accountmanager': 1,\n",
              " 'accounts': 1,\n",
              " 'ace': 1,\n",
              " 'achartengine': 2,\n",
              " 'acl': 2,\n",
              " 'acm': 1,\n",
              " 'acrobat': 1,\n",
              " 'acronyms': 1,\n",
              " 'action': 4,\n",
              " 'actionbarsherlock': 1,\n",
              " 'actionlink': 3,\n",
              " 'actionmailer': 2,\n",
              " 'actionscript': 23,\n",
              " 'actionscript-2': 4,\n",
              " 'actionscript-3': 65,\n",
              " 'active-directory': 16,\n",
              " 'activeadmin': 2,\n",
              " 'activemq': 3,\n",
              " 'activerecord': 14,\n",
              " 'activex': 5,\n",
              " 'activexobject': 1,\n",
              " 'activity': 13,\n",
              " 'actor': 2,\n",
              " 'acts-as-list': 1,\n",
              " 'ad-hoc-distribution': 1,\n",
              " 'ada': 2,\n",
              " 'adapter': 4,\n",
              " 'adb': 4,\n",
              " 'add': 2,\n",
              " 'add-in': 4,\n",
              " 'add-rewrite-rule': 1,\n",
              " 'address': 2,\n",
              " 'address-bar': 1,\n",
              " 'addressbook': 1,\n",
              " 'addsubview': 3,\n",
              " 'adfs': 1,\n",
              " 'admin': 4,\n",
              " 'admin-menu': 1,\n",
              " 'administration': 3,\n",
              " 'administrator': 2,\n",
              " 'admob': 5,\n",
              " 'ado': 4,\n",
              " 'ado.net': 10,\n",
              " 'ado.net-entity-data-model': 3,\n",
              " 'adobe': 8,\n",
              " 'adobe-illustrator': 1,\n",
              " 'adobe-photoshop': 2,\n",
              " 'adobe-reader': 1,\n",
              " 'ads': 2,\n",
              " 'adserver': 1,\n",
              " 'adsi': 1,\n",
              " 'adt': 1,\n",
              " 'advanced-custom-fields': 1,\n",
              " 'advanced-search': 1,\n",
              " 'advertisement': 1,\n",
              " 'advertisements': 1,\n",
              " 'advice': 1,\n",
              " 'adware': 1,\n",
              " 'aec': 1,\n",
              " 'aero': 1,\n",
              " 'aes': 2,\n",
              " 'afnetworking': 1,\n",
              " 'aforge': 1,\n",
              " 'agent': 1,\n",
              " 'aggregate': 2,\n",
              " 'aggregation': 1,\n",
              " 'agile': 4,\n",
              " 'air': 7,\n",
              " 'air-native-extension': 1,\n",
              " 'airprint': 1,\n",
              " 'aix': 4,\n",
              " 'ajax': 107,\n",
              " 'ajax-upload': 2,\n",
              " 'ajaxcontroltoolkit': 1,\n",
              " 'akka': 2,\n",
              " 'alarm': 1,\n",
              " 'alarmmanager': 2,\n",
              " 'aleph': 1,\n",
              " 'alert': 4,\n",
              " 'alertdialog': 1,\n",
              " 'algebra': 1,\n",
              " 'algebra-precalculus': 12,\n",
              " 'algebraic-geometry': 6,\n",
              " 'algebraic-number-theory': 3,\n",
              " 'algebraic-topology': 1,\n",
              " 'algorithm': 61,\n",
              " 'algorithms': 2,\n",
              " 'alias': 3,\n",
              " 'aliens': 1,\n",
              " 'align': 2,\n",
              " 'alignment': 3,\n",
              " 'alphablending': 1,\n",
              " 'alt': 2,\n",
              " 'alternative-proof': 1,\n",
              " 'amazon': 4,\n",
              " 'amazon-ami': 2,\n",
              " 'amazon-cloudsearch': 1,\n",
              " 'amazon-dynamodb': 1,\n",
              " 'amazon-ebs': 1,\n",
              " 'amazon-ec2': 16,\n",
              " 'amazon-product-api': 1,\n",
              " 'amazon-rds': 2,\n",
              " 'amazon-s3': 6,\n",
              " 'amazon-sqs': 1,\n",
              " 'amazon-web-services': 16,\n",
              " 'ambiguity': 2,\n",
              " 'amd-catalyst': 1,\n",
              " 'ampersand': 1,\n",
              " 'amqp': 1,\n",
              " 'amsart': 2,\n",
              " 'amsmath': 4,\n",
              " 'amsrefs': 1,\n",
              " 'analysis': 15,\n",
              " 'analytic-geometry': 2,\n",
              " 'analytic-number-theory': 2,\n",
              " 'analyticity': 1,\n",
              " 'analytics': 2,\n",
              " 'anchor': 2,\n",
              " 'android': 518,\n",
              " 'android-3.1': 1,\n",
              " 'android-4.0': 2,\n",
              " 'android-activity': 3,\n",
              " 'android-alertdialog': 1,\n",
              " 'android-apk': 1,\n",
              " 'android-arrayadapter': 1,\n",
              " 'android-asynctask': 5,\n",
              " 'android-audiorecord': 1,\n",
              " 'android-browser': 1,\n",
              " 'android-c2dm': 1,\n",
              " 'android-camera': 3,\n",
              " 'android-contentprovider': 3,\n",
              " 'android-cursor': 1,\n",
              " 'android-custom-view': 2,\n",
              " 'android-edittext': 3,\n",
              " 'android-emulator': 6,\n",
              " 'android-fragments': 5,\n",
              " 'android-framework': 1,\n",
              " 'android-gallery': 1,\n",
              " 'android-gridview': 2,\n",
              " 'android-handler': 1,\n",
              " 'android-images': 2,\n",
              " 'android-imageview': 3,\n",
              " 'android-intent': 13,\n",
              " 'android-ksoap2': 1,\n",
              " 'android-launcher': 1,\n",
              " 'android-layout': 28,\n",
              " 'android-linearlayout': 4,\n",
              " 'android-listview': 7,\n",
              " 'android-location': 1,\n",
              " 'android-lru-cache': 1,\n",
              " 'android-lvl': 1,\n",
              " 'android-manifest': 5,\n",
              " 'android-maps': 2,\n",
              " 'android-maps-v2': 1,\n",
              " 'android-mapview': 4,\n",
              " 'android-market': 1,\n",
              " 'android-mediaplayer': 2,\n",
              " 'android-mediarecorder': 1,\n",
              " 'android-music-player': 1,\n",
              " 'android-ndk': 12,\n",
              " 'android-networking': 1,\n",
              " 'android-pageradapter': 1,\n",
              " 'android-performance': 1,\n",
              " 'android-preferences': 1,\n",
              " 'android-progressbar': 1,\n",
              " 'android-sdk-2.1': 1,\n",
              " 'android-sdk-2.2': 3,\n",
              " 'android-searchmanager': 1,\n",
              " 'android-sensors': 1,\n",
              " 'android-service': 2,\n",
              " 'android-sliding': 1,\n",
              " 'android-source': 3,\n",
              " 'android-spinner': 1,\n",
              " 'android-sqlite': 1,\n",
              " 'android-tabhost': 1,\n",
              " 'android-textview': 2,\n",
              " 'android-ui': 3,\n",
              " 'android-viewpager': 3,\n",
              " 'android-wake-lock': 1,\n",
              " 'android-webview': 2,\n",
              " 'android-widget': 12,\n",
              " 'angstrom': 1,\n",
              " 'angularjs': 6,\n",
              " 'animated-gif': 1,\n",
              " 'animation': 25,\n",
              " 'annotations': 6,\n",
              " 'anonymous-class': 1,\n",
              " 'anonymous-function': 1,\n",
              " 'ansi': 3,\n",
              " 'ant': 10,\n",
              " 'anti-aliasing': 1,\n",
              " 'anti-spyware': 1,\n",
              " 'anti-virus': 2,\n",
              " 'antivirus': 2,\n",
              " 'antlr': 1,\n",
              " 'aop': 2,\n",
              " 'apache': 44,\n",
              " 'apache-camel': 6,\n",
              " 'apache-commons': 6,\n",
              " 'apache-commons-beanutils': 1,\n",
              " 'apache-commons-codec': 1,\n",
              " 'apache-commons-exec': 1,\n",
              " 'apache-commons-vfs': 1,\n",
              " 'apache-karaf': 2,\n",
              " 'apache-poi': 8,\n",
              " 'apache2': 41,\n",
              " 'aperture': 1,\n",
              " 'apex-code': 3,\n",
              " 'api': 38,\n",
              " 'apk': 4,\n",
              " 'apns': 1,\n",
              " 'app-config': 3,\n",
              " 'app-store': 4,\n",
              " 'appbar': 1,\n",
              " 'appcelerator': 2,\n",
              " 'appcelerator-mobile': 2,\n",
              " 'appdelegate': 1,\n",
              " 'appdomain': 1,\n",
              " 'append': 4,\n",
              " 'appendto': 1,\n",
              " 'appfabric': 1,\n",
              " 'appfabric-caching': 1,\n",
              " 'appfog': 1,\n",
              " 'apple': 9,\n",
              " 'apple-mail': 1,\n",
              " 'apple-push-notifications': 2,\n",
              " 'applescript': 7,\n",
              " 'applet': 3,\n",
              " 'appliance': 1,\n",
              " 'application': 26,\n",
              " 'application-blocks': 1,\n",
              " 'application-design': 1,\n",
              " 'application-loader': 1,\n",
              " 'application-server': 1,\n",
              " 'applications': 2,\n",
              " 'appmobi': 1,\n",
              " 'apprequests': 1,\n",
              " 'approximation': 4,\n",
              " 'approximation-algorithms': 1,\n",
              " 'approximation-theory': 1,\n",
              " 'apps': 1,\n",
              " 'appwidget': 1,\n",
              " 'apr': 2,\n",
              " 'apt': 1,\n",
              " 'apt-get': 1,\n",
              " 'aptana': 4,\n",
              " 'aptitude': 1,\n",
              " 'aquamacs': 1,\n",
              " 'arabic': 2,\n",
              " 'arangodb': 1,\n",
              " 'arch-linux': 3,\n",
              " 'architecture': 17,\n",
              " 'archiva': 1,\n",
              " 'archive': 4,\n",
              " 'archives': 1,\n",
              " 'archlinux': 1,\n",
              " 'arduino': 1,\n",
              " 'area': 1,\n",
              " 'argument-passing': 2,\n",
              " 'arguments': 6,\n",
              " 'arithmetic': 4,\n",
              " 'arm': 3,\n",
              " 'arm7': 1,\n",
              " 'array': 1,\n",
              " 'array-sorting': 1,\n",
              " 'arraylist': 7,\n",
              " 'arrays': 88,\n",
              " 'arrow': 1,\n",
              " 'arrows': 1,\n",
              " 'article': 1,\n",
              " 'artificial-intelligence': 5,\n",
              " 'artistic': 1,\n",
              " 'ascii': 6,\n",
              " 'asciidoc': 1,\n",
              " 'ascx': 1,\n",
              " 'asdf': 1,\n",
              " 'asenumerable': 1,\n",
              " 'ashx': 1,\n",
              " 'asihttprequest': 1,\n",
              " 'asio': 1,\n",
              " 'asmack': 1,\n",
              " 'asmx': 1,\n",
              " 'asp': 1,\n",
              " 'asp-classic': 19,\n",
              " 'asp.net': 309,\n",
              " 'asp.net-2.0': 1,\n",
              " 'asp.net-3.5': 4,\n",
              " 'asp.net-4.0': 3,\n",
              " 'asp.net-ajax': 4,\n",
              " 'asp.net-authentication': 1,\n",
              " 'asp.net-authorization': 1,\n",
              " 'asp.net-membership': 8,\n",
              " 'asp.net-mvc': 103,\n",
              " 'asp.net-mvc-2': 10,\n",
              " 'asp.net-mvc-3': 53,\n",
              " 'asp.net-mvc-4': 10,\n",
              " 'asp.net-mvc-routing': 4,\n",
              " 'asp.net-optimization': 1,\n",
              " 'asp.net-profiles': 2,\n",
              " 'asp.net-roles': 1,\n",
              " 'asp.net-web-api': 6,\n",
              " 'asp.net-webcontrol': 1,\n",
              " 'asp.net-webforms': 1,\n",
              " 'aspect-oriented': 1,\n",
              " 'aspectj': 3,\n",
              " 'aspects': 1,\n",
              " 'aspmenu': 1,\n",
              " 'aspmenu-control': 1,\n",
              " 'aspnet-regiis.exe': 1,\n",
              " 'aspx': 1,\n",
              " 'assemblies': 1,\n",
              " 'assembly': 14,\n",
              " 'assert': 1,\n",
              " 'asset': 1,\n",
              " 'asset-pipeline': 3,\n",
              " 'assign': 1,\n",
              " 'associations': 4,\n",
              " 'ast': 2,\n",
              " 'asterisk': 2,\n",
              " 'asus': 1,\n",
              " 'asymptote': 1,\n",
              " 'asymptotics': 3,\n",
              " 'async-await': 1,\n",
              " 'asynchronous': 14,\n",
              " 'asyncsocket': 2,\n",
              " 'atd': 1,\n",
              " 'ati': 1,\n",
              " 'atl': 1,\n",
              " 'atoi': 1,\n",
              " 'atom': 1,\n",
              " 'attach': 1,\n",
              " 'attachment': 1,\n",
              " 'attachments': 3,\n",
              " 'attributes': 9,\n",
              " 'audio': 26,\n",
              " 'audio-recording': 4,\n",
              " 'audio-streaming': 2,\n",
              " 'audioqueue': 1,\n",
              " 'audit': 2,\n",
              " 'audit-trail': 1,\n",
              " 'authblk': 1,\n",
              " 'authentication': 30,\n",
              " 'authorization': 5,\n",
              " 'authorize-attribute': 1,\n",
              " 'auto': 1,\n",
              " 'auto-generate': 1,\n",
              " 'auto-increment': 3,\n",
              " 'auto-pst-pdf': 1,\n",
              " 'auto-update': 1,\n",
              " 'autoarchive': 1,\n",
              " 'autocomplete': 9,\n",
              " 'autofocus': 1,\n",
              " 'autohotkey': 1,\n",
              " 'autoincrement': 1,\n",
              " 'autoit': 1,\n",
              " 'autoload': 1,\n",
              " 'automapper': 3,\n",
              " 'automata': 2,\n",
              " 'automata-theory': 1,\n",
              " 'automated-install': 1,\n",
              " 'automated-testing': 1,\n",
              " 'automated-tests': 1,\n",
              " 'automatic-ref-counting': 3,\n",
              " 'automation': 9,\n",
              " 'automount': 3,\n",
              " 'autoplay': 1,\n",
              " 'autorotate': 1,\n",
              " 'autorun': 2,\n",
              " 'autosize': 1,\n",
              " 'autosuggest': 1,\n",
              " 'autotools': 2,\n",
              " 'av': 1,\n",
              " 'availability': 1,\n",
              " 'avalondock': 1,\n",
              " 'avassetwriter': 1,\n",
              " 'avaudioplayer': 3,\n",
              " 'avaudiorecorder': 1,\n",
              " 'avcapturesession': 1,\n",
              " 'average': 2,\n",
              " 'avfoundation': 3,\n",
              " 'avg': 2,\n",
              " 'avplayer': 1,\n",
              " 'awesome': 1,\n",
              " 'awk': 7,\n",
              " 'awt': 6,\n",
              " 'awtrobot': 1,\n",
              " 'axapta': 1,\n",
              " 'axes': 1,\n",
              " 'axiom-of-choice': 2,\n",
              " 'axioms': 1,\n",
              " 'axis2': 2,\n",
              " 'azure': 5,\n",
              " 'azure-storage-tables': 1,\n",
              " 'azure-worker-roles': 1,\n",
              " 'b-tree': 2,\n",
              " 'baby-photos': 1,\n",
              " 'back': 1,\n",
              " 'back-button': 3,\n",
              " 'backbone-events': 1,\n",
              " 'backbone-routing': 1,\n",
              " 'backbone-views': 1,\n",
              " 'backbone.js': 17,\n",
              " 'background': 10,\n",
              " 'background-image': 2,\n",
              " 'background-process': 2,\n",
              " 'backgroundworker': 3,\n",
              " 'backslash': 3,\n",
              " 'backup': 16,\n",
              " 'backup-restoration': 2,\n",
              " 'bad-request': 1,\n",
              " 'ball': 1,\n",
              " 'banach-spaces': 5,\n",
              " 'bandwidth': 2,\n",
              " 'bapi': 1,\n",
              " 'bar-chart': 2,\n",
              " 'barcode': 2,\n",
              " 'barcode-scanner': 1,\n",
              " 'barcodes': 1,\n",
              " 'base': 1,\n",
              " 'base-class': 1,\n",
              " 'base62': 1,\n",
              " 'base64': 5,\n",
              " 'baseline': 1,\n",
              " 'bash': 55,\n",
              " 'bash-function': 1,\n",
              " 'bash-scripting': 1,\n",
              " 'bashrc': 1,\n",
              " 'basic': 1,\n",
              " 'basic-authentication': 1,\n",
              " 'batch': 12,\n",
              " 'batch-file': 12,\n",
              " 'batch-processing': 3,\n",
              " 'batch-script': 1,\n",
              " 'batik': 1,\n",
              " 'battery': 4,\n",
              " 'bayesian': 2,\n",
              " 'bazaar': 1,\n",
              " 'bbcode': 2,\n",
              " 'bbpress': 1,\n",
              " 'bcp': 1,\n",
              " 'bdd': 1,\n",
              " 'beagleboard': 1,\n",
              " 'beamer': 3,\n",
              " 'beamerposter': 1,\n",
              " 'beanstalkd': 2,\n",
              " 'beautifier': 1,\n",
              " 'beautifulsoup': 1,\n",
              " 'begininvoke': 1,\n",
              " 'beizer': 1,\n",
              " 'belkin': 1,\n",
              " 'benchmarking': 6,\n",
              " 'best-fit': 1,\n",
              " 'between': 2,\n",
              " 'bezier': 2,\n",
              " 'bezier-curve': 2,\n",
              " 'bgp': 1,\n",
              " 'biber': 1,\n",
              " 'biblatex': 3,\n",
              " 'bibliographies': 3,\n",
              " 'bibliography': 1,\n",
              " 'bibtex': 1,\n",
              " 'big-endian': 1,\n",
              " 'big-list': 1,\n",
              " 'big-o': 3,\n",
              " 'bigdata': 1,\n",
              " 'bigdecimal': 1,\n",
              " 'bignum': 2,\n",
              " 'billing': 2,\n",
              " 'bin': 1,\n",
              " 'binary': 6,\n",
              " 'binary-data': 1,\n",
              " 'binary-search': 1,\n",
              " 'binary-search-tree': 1,\n",
              " 'binary-tree': 3,\n",
              " 'binaryfiles': 3,\n",
              " 'bind': 3,\n",
              " 'binding': 18,\n",
              " 'bing': 1,\n",
              " 'bing-maps': 1,\n",
              " 'binomial-coefficients': 1,\n",
              " 'bioinformatics': 1,\n",
              " 'bios': 1,\n",
              " 'birt': 1,\n",
              " 'bison': 3,\n",
              " 'bit': 1,\n",
              " 'bit-manipulation': 1,\n",
              " 'bitbucket': 2,\n",
              " 'bitlocker': 1,\n",
              " 'bitmap': 5,\n",
              " 'bitmapdata': 2,\n",
              " 'bitmaps': 1,\n",
              " 'bitnami': 1,\n",
              " 'bitrate': 1,\n",
              " 'bitset': 1,\n",
              " 'bittorrent': 1,\n",
              " 'bitwise': 1,\n",
              " 'biztalk': 1,\n",
              " 'bjyauthorize': 1,\n",
              " 'black-box': 1,\n",
              " 'blackberry': 24,\n",
              " 'blackberry-10': 1,\n",
              " 'blackberry-eclipse-plugin': 2,\n",
              " 'blackberry-jde': 1,\n",
              " 'bladecenter': 1,\n",
              " 'blank': 2,\n",
              " 'blank-page': 1,\n",
              " 'blas': 2,\n",
              " 'blat': 1,\n",
              " 'blazeds': 1,\n",
              " 'blend': 2,\n",
              " 'blender': 1,\n",
              " 'blending': 1,\n",
              " 'blob': 4,\n",
              " 'blobstore': 1,\n",
              " 'block': 2,\n",
              " 'blocking': 1,\n",
              " 'blockingcollection': 1,\n",
              " 'blocks': 1,\n",
              " 'blogengine.net': 1,\n",
              " 'blogs': 2,\n",
              " 'blu-ray': 1,\n",
              " 'bluecloth': 1,\n",
              " 'bluetooth': 10,\n",
              " 'blur': 1,\n",
              " 'bonjour': 1,\n",
              " 'boo': 1,\n",
              " 'bookmarks': 1,\n",
              " 'books': 5,\n",
              " 'boolean': 11,\n",
              " 'boolean-algebra': 2,\n",
              " 'boost': 12,\n",
              " 'boost-asio': 2,\n",
              " 'boost-filesystem': 1,\n",
              " 'boost-format': 1,\n",
              " 'boost-propertytree': 1,\n",
              " 'boost-regex': 1,\n",
              " 'boost-spirit': 1,\n",
              " 'boot': 10,\n",
              " 'boot-failure': 1,\n",
              " 'bootstrapper': 1,\n",
              " 'bootstrapping': 1,\n",
              " 'border': 2,\n",
              " 'bordermatrix': 1,\n",
              " 'botan': 1,\n",
              " 'bots': 1,\n",
              " 'bottle': 1,\n",
              " 'bottleneck': 1,\n",
              " 'bouncycastle': 3,\n",
              " 'bounded-wildcard': 1,\n",
              " 'bounding-box': 1,\n",
              " 'bounds': 1,\n",
              " 'bounds-checker': 1,\n",
              " 'box-shadow': 1,\n",
              " 'box2d': 1,\n",
              " 'boxes': 2,\n",
              " 'boxplot': 2,\n",
              " 'boxsizer': 1,\n",
              " 'braces': 1,\n",
              " 'branch': 2,\n",
              " 'breadcrumb': 1,\n",
              " 'breadth-first-search': 1,\n",
              " 'break': 2,\n",
              " 'breakpoints': 3,\n",
              " 'breeze': 1,\n",
              " 'breqn': 1,\n",
              " 'broadcast': 1,\n",
              " 'broadcastreceiver': 3,\n",
              " 'broken-pipe': 1,\n",
              " 'browser': 19,\n",
              " 'browser-close': 1,\n",
              " 'browser-detection': 1,\n",
              " 'browser-extension': 1,\n",
              " 'browser-history': 1,\n",
              " 'browserfield': 1,\n",
              " 'bsd': 1,\n",
              " 'bsd-license': 1,\n",
              " 'bsod': 2,\n",
              " 'bucket': 1,\n",
              " 'buffer': 5,\n",
              " 'bufferedwriter': 1,\n",
              " 'buffering': 1,\n",
              " 'bug': 3,\n",
              " 'bug-report': 1,\n",
              " 'bug-tracking': 1,\n",
              " 'bugs': 1,\n",
              " 'build': 2,\n",
              " 'build-automation': 4,\n",
              " 'build-error': 1,\n",
              " 'build-numbers': 1,\n",
              " 'build-process': 3,\n",
              " 'builder': 1,\n",
              " 'buildout': 1,\n",
              " 'builds': 1,\n",
              " 'built-in': 1,\n",
              " 'bukkit': 1,\n",
              " 'bulk': 3,\n",
              " 'bulkinsert': 1,\n",
              " 'bump': 1,\n",
              " 'bundle': 2,\n",
              " 'bundler': 1,\n",
              " 'burn': 1,\n",
              " 'burning': 1,\n",
              " 'bus': 1,\n",
              " 'business': 2,\n",
              " 'busybox': 1,\n",
              " 'button': 18,\n",
              " 'buttonclick': 1,\n",
              " 'byte': 2,\n",
              " 'bytearray': 3,\n",
              " 'bytebuffer': 1,\n",
              " 'bytecode': 1,\n",
              " 'bytecode-manipulation': 1,\n",
              " 'c': 184,\n",
              " 'c#': 778,\n",
              " 'c#-2.0': 2,\n",
              " 'c#-3.0': 3,\n",
              " 'c#-4.0': 22,\n",
              " 'c++': 333,\n",
              " 'c++-cli': 6,\n",
              " 'c++-faq': 2,\n",
              " 'c++03': 1,\n",
              " 'c++11': 9,\n",
              " 'c++builder': 1,\n",
              " 'c-api': 1,\n",
              " 'c89': 1,\n",
              " 'c99': 4,\n",
              " 'cable': 4,\n",
              " 'cabling': 1,\n",
              " 'cache': 3,\n",
              " 'cache-control': 2,\n",
              " 'cachedrowset': 1,\n",
              " 'caching': 20,\n",
              " 'cad': 1,\n",
              " 'cakephp': 22,\n",
              " 'cakephp-1.3': 4,\n",
              " 'cakephp-2.0': 1,\n",
              " 'calayer': 2,\n",
              " 'calculation': 2,\n",
              " 'calculator': 4,\n",
              " 'calculus': 41,\n",
              " 'calculus-of-variations': 1,\n",
              " 'calendar': 8,\n",
              " 'calibre': 1,\n",
              " 'call': 2,\n",
              " 'callback': 6,\n",
              " 'calling-convention': 1,\n",
              " 'calls': 1,\n",
              " 'camera': 9,\n",
              " 'camera-basics': 2,\n",
              " 'camera-calibration': 1,\n",
              " 'camera-settings': 1,\n",
              " 'caml': 2,\n",
              " 'caml-query': 2,\n",
              " 'can': 1,\n",
              " 'cancel': 1,\n",
              " 'cancellation': 1,\n",
              " 'cancer': 1,\n",
              " 'canon': 4,\n",
              " 'canon-5d-mark-iii': 1,\n",
              " 'canvas': 27,\n",
              " 'capacitor': 1,\n",
              " 'capistrano': 4,\n",
              " 'captcha': 2,\n",
              " 'caption': 1,\n",
              " 'captions': 4,\n",
              " 'capture': 3,\n",
              " 'carbon': 1,\n",
              " 'cardinals': 2,\n",
              " 'cardiology': 1,\n",
              " 'career-development': 3,\n",
              " 'caret': 1,\n",
              " 'carrierwave': 1,\n",
              " 'cars': 1,\n",
              " 'cas': 1,\n",
              " 'cascade': 2,\n",
              " 'case': 3,\n",
              " 'case-insensitive': 2,\n",
              " 'case-sensitive': 1,\n",
              " 'case-statement': 1,\n",
              " 'cases': 1,\n",
              " 'cassandra': 3,\n",
              " 'casting': 11,\n",
              " 'castle-windsor': 6,\n",
              " 'cat': 1,\n",
              " 'cat5': 1,\n",
              " 'categories': 7,\n",
              " 'category': 2,\n",
              " 'category-theory': 2,\n",
              " 'causality': 1,\n",
              " 'cc.complexity-theory': 6,\n",
              " 'cck': 1,\n",
              " 'ccsprite': 1,\n",
              " 'cdi': 3,\n",
              " 'cdn': 2,\n",
              " 'cegui': 1,\n",
              " 'celery': 4,\n",
              " 'celery-task': 1,\n",
              " 'cell': 1,\n",
              " 'cellid': 2,\n",
              " 'cellphone': 1,\n",
              " 'center': 1,\n",
              " 'centering': 1,\n",
              " 'centos': 32,\n",
              " 'centos5': 1,\n",
              " 'centos6': 1,\n",
              " 'central-administration': 1,\n",
              " 'certificate': 4,\n",
              " 'certificates': 1,\n",
              " 'certification': 1,\n",
              " 'cf-orm': 1,\n",
              " 'cfarraybsearchvalues': 1,\n",
              " 'cfg': 1,\n",
              " 'cfstring': 1,\n",
              " 'cg.comp-geom': 1,\n",
              " 'cgbitmapcontext': 1,\n",
              " 'cgcontext': 1,\n",
              " 'cgi': 4,\n",
              " 'cgrect': 1,\n",
              " 'chain': 1,\n",
              " 'chaining': 1,\n",
              " 'changelog': 1,\n",
              " 'channel': 1,\n",
              " 'chapters': 1,\n",
              " 'char': 6,\n",
              " 'character': 1,\n",
              " 'character-encoding': 5,\n",
              " 'characters': 1,\n",
              " 'charger': 1,\n",
              " 'charts': 9,\n",
              " 'chat': 2,\n",
              " 'chdir': 1,\n",
              " 'check': 1,\n",
              " 'check-in': 1,\n",
              " 'check-out': 1,\n",
              " 'checkbox': 6,\n",
              " 'checkboxes': 1,\n",
              " 'checkboxlist': 1,\n",
              " 'checkedlistbox': 1,\n",
              " 'checkout': 1,\n",
              " 'checkpoint': 1,\n",
              " 'chef': 1,\n",
              " 'cherrypy': 2,\n",
              " 'child-theme': 1,\n",
              " 'childbrowser': 2,\n",
              " 'children': 2,\n",
              " 'chmod': 2,\n",
              " 'choice': 1,\n",
              " 'chrome': 2,\n",
              " 'chroot': 2,\n",
              " 'cics': 1,\n",
              " 'cifilter': 1,\n",
              " 'cil': 2,\n",
              " 'cin': 1,\n",
              " 'circle': 1,\n",
              " 'circuitikz': 1,\n",
              " 'cisco': 5,\n",
              " 'cisco-asa': 2,\n",
              " 'citations': 1,\n",
              " 'citrix': 2,\n",
              " 'city': 1,\n",
              " 'cjk': 3,\n",
              " 'ckeditor': 1,\n",
              " 'claims': 1,\n",
              " 'clamav': 1,\n",
              " 'clang': 1,\n",
              " 'class': 26,\n",
              " 'class-design': 4,\n",
              " 'class-diagram': 2,\n",
              " 'class-hierarchy': 1,\n",
              " 'classcastexception': 2,\n",
              " 'classical-analysis': 1,\n",
              " 'classical-mechanics': 1,\n",
              " 'classicthesis': 1,\n",
              " 'classloader': 5,\n",
              " 'classnotfoundexception': 1,\n",
              " 'classpath': 1,\n",
              " 'clean-code': 1,\n",
              " 'clean-urls': 1,\n",
              " 'cleanup': 1,\n",
              " 'clear': 1,\n",
              " 'cleartype': 1,\n",
              " 'clgeocoder': 1,\n",
              " 'cli': 1,\n",
              " 'click': 4,\n",
              " 'clickable': 1,\n",
              " 'client': 3,\n",
              " 'client-object-model': 1,\n",
              " 'client-server': 6,\n",
              " 'client-side': 2,\n",
              " 'client-side-templating': 1,\n",
              " 'climate-change': 1,\n",
              " 'climatology': 1,\n",
              " 'clipboard': 3,\n",
              " 'clisp': 1,\n",
              " 'cllocationmanager': 2,\n",
              " 'clock': 1,\n",
              " 'clojure': 8,\n",
              " 'clojurescript': 1,\n",
              " 'clone': 4,\n",
              " 'cloning': 2,\n",
              " 'close': 4,\n",
              " 'closing': 1,\n",
              " 'closures': 4,\n",
              " 'cloud': 10,\n",
              " 'cloud-computing': 2,\n",
              " 'cloud-storage': 1,\n",
              " 'cloudfoundry': 1,\n",
              " 'clr': 2,\n",
              " 'clsql': 1,\n",
              " 'clucene': 1,\n",
              " 'cluster': 3,\n",
              " 'cluster-computing': 5,\n",
              " 'clustering': 1,\n",
              " 'cmake': 4,\n",
              " 'cname-record': 1,\n",
              " 'co-workers': 1,\n",
              " 'co.combinatorics': 1,\n",
              " 'cobertura': 1,\n",
              " 'cobol': 2,\n",
              " 'cobol.net': 1,\n",
              " 'cocoa': 44,\n",
              " 'cocoa-bindings': 1,\n",
              " 'cocoa-design-patterns': 1,\n",
              " 'cocoa-touch': 47,\n",
              " 'cocoapods': 1,\n",
              " 'cocomo': 1,\n",
              " 'cocos2d': 7,\n",
              " 'cocos2d-android': 1,\n",
              " 'cocos2d-iphone': 10,\n",
              " 'code': 1,\n",
              " 'code-access-security': 2,\n",
              " 'code-analysis': 1,\n",
              " 'code-contracts': 2,\n",
              " 'code-coverage': 1,\n",
              " 'code-first': 2,\n",
              " 'code-first-migrations': 1,\n",
              " 'code-generation': 6,\n",
              " 'code-hinting': 1,\n",
              " 'code-metrics': 3,\n",
              " 'code-quality': 1,\n",
              " 'code-reuse': 1,\n",
              " 'code-review': 1,\n",
              " 'code-search-engine': 1,\n",
              " 'code-size': 1,\n",
              " 'code-smell': 1,\n",
              " 'codeblocks': 3,\n",
              " 'codec': 3,\n",
              " 'codeigniter': 40,\n",
              " 'codeigniter-2': 2,\n",
              " 'codeigniter-routing': 1,\n",
              " 'codenameone': 1,\n",
              " 'codenarc': 1,\n",
              " 'codesniffer': 1,\n",
              " 'coding-standards': 1,\n",
              " 'coding-style': 12,\n",
              " 'coding-theory': 1,\n",
              " 'coffeescript': 7,\n",
              " 'coldfusion': 13,\n",
              " 'coldfusion-10': 1,\n",
              " 'coldfusion-8': 1,\n",
              " 'coldfusion-9': 1,\n",
              " 'collaboration': 1,\n",
              " 'collaborative': 1,\n",
              " 'collaborative-filtering': 1,\n",
              " 'collation': 1,\n",
              " 'collections': 10,\n",
              " 'collision': 1,\n",
              " 'collision-detection': 3,\n",
              " 'color': 1,\n",
              " 'color-picker': 1,\n",
              " 'color-scheme': 1,\n",
              " 'colorbox': 1,\n",
              " 'colors': 16,\n",
              " 'column': 1,\n",
              " 'columns': 2,\n",
              " 'com': 11,\n",
              " 'com-interop': 1,\n",
              " 'combinations': 2,\n",
              " 'combinatorics': 16,\n",
              " 'combobox': 9,\n",
              " 'comet': 6,\n",
              " 'comm': 1,\n",
              " 'comma': 2,\n",
              " 'command': 8,\n",
              " 'command-line': 29,\n",
              " 'command-line-arguments': 4,\n",
              " 'commandbutton': 1,\n",
              " 'comments': 15,\n",
              " 'commercial': 1,\n",
              " 'commit': 2,\n",
              " 'common-lisp': 3,\n",
              " 'common-table-expression': 1,\n",
              " 'communication': 3,\n",
              " 'commutative-algebra': 3,\n",
              " 'compact-framework': 3,\n",
              " 'compact-operators': 1,\n",
              " 'compactness': 1,\n",
              " 'comparator': 1,\n",
              " 'compare': 5,\n",
              " 'comparevalidator': 1,\n",
              " 'comparison': 4,\n",
              " 'compass-css': 2,\n",
              " 'compatibility': 3,\n",
              " 'compilation': 5,\n",
              " 'compile': 1,\n",
              " 'compiler': 15,\n",
              " 'compiler-errors': 6,\n",
              " 'compiler-warnings': 2,\n",
              " 'compiling': 4,\n",
              " 'compiz': 1,\n",
              " 'complex-analysis': 11,\n",
              " 'complexity': 2,\n",
              " 'complexity-classes': 1,\n",
              " 'components': 3,\n",
              " 'composer-php': 2,\n",
              " 'composition': 4,\n",
              " 'composition-basics': 1,\n",
              " 'compression': 5,\n",
              " 'computability': 1,\n",
              " 'computation-theory': 2,\n",
              " 'computational-complexity': 2,\n",
              " 'computational-geometry': 4,\n",
              " 'computed-columns': 1,\n",
              " 'computer-science': 5,\n",
              " 'computer-vision': 4,\n",
              " 'concat': 2,\n",
              " 'concatenation': 1,\n",
              " 'concurrency': 10,\n",
              " 'concurrent-programming': 1,\n",
              " 'conditional': 2,\n",
              " 'conditional-formatting': 1,\n",
              " 'conditional-results': 1,\n",
              " 'conditionals': 1,\n",
              " 'conference': 1,\n",
              " 'conference-room': 1,\n",
              " 'config': 2,\n",
              " 'configurable-product': 1,\n",
              " 'configuration': 19,\n",
              " 'configuration-files': 1,\n",
              " ...}"
            ]
          },
          "metadata": {},
          "execution_count": 70
        }
      ]
    },
    {
      "cell_type": "code",
      "source": [
        "tag_df = pd.Series(tags_frequency)"
      ],
      "metadata": {
        "id": "0_jcxCyaAemc"
      },
      "execution_count": 71,
      "outputs": []
    },
    {
      "cell_type": "markdown",
      "source": [
        "Created a pandas series from tags_frequency dictionary"
      ],
      "metadata": {
        "id": "g_wTzSuABAFh"
      }
    },
    {
      "cell_type": "code",
      "source": [
        "tag_df"
      ],
      "metadata": {
        "colab": {
          "base_uri": "https://localhost:8080/"
        },
        "id": "Ca-zzN2eA8a_",
        "outputId": "df040e67-32e5-4bf1-9d1e-d865514f0247"
      },
      "execution_count": 74,
      "outputs": [
        {
          "output_type": "execute_result",
          "data": {
            "text/plain": [
              ".htaccess     40\n",
              ".net         302\n",
              ".net-2.0       6\n",
              ".net-3.5       7\n",
              ".net-4.0      10\n",
              "            ... \n",
              "zoom           3\n",
              "zooming        1\n",
              "zsh            6\n",
              "zshrc          2\n",
              "zxing          1\n",
              "Length: 6124, dtype: int64"
            ]
          },
          "metadata": {},
          "execution_count": 74
        }
      ]
    },
    {
      "cell_type": "code",
      "source": [
        "tag_df = tag_df.to_frame(name='counts')\n",
        "tag_df.head(3)"
      ],
      "metadata": {
        "colab": {
          "base_uri": "https://localhost:8080/",
          "height": 143
        },
        "id": "bL3N6gZcA-dF",
        "outputId": "be5ca7c2-e70a-4d60-e679-b7e1b6434a2a"
      },
      "execution_count": 75,
      "outputs": [
        {
          "output_type": "execute_result",
          "data": {
            "text/plain": [
              "           counts\n",
              ".htaccess      40\n",
              ".net          302\n",
              ".net-2.0        6"
            ],
            "text/html": [
              "\n",
              "  <div id=\"df-011bbf25-30d4-44f4-807e-89a135ffca6e\">\n",
              "    <div class=\"colab-df-container\">\n",
              "      <div>\n",
              "<style scoped>\n",
              "    .dataframe tbody tr th:only-of-type {\n",
              "        vertical-align: middle;\n",
              "    }\n",
              "\n",
              "    .dataframe tbody tr th {\n",
              "        vertical-align: top;\n",
              "    }\n",
              "\n",
              "    .dataframe thead th {\n",
              "        text-align: right;\n",
              "    }\n",
              "</style>\n",
              "<table border=\"1\" class=\"dataframe\">\n",
              "  <thead>\n",
              "    <tr style=\"text-align: right;\">\n",
              "      <th></th>\n",
              "      <th>counts</th>\n",
              "    </tr>\n",
              "  </thead>\n",
              "  <tbody>\n",
              "    <tr>\n",
              "      <th>.htaccess</th>\n",
              "      <td>40</td>\n",
              "    </tr>\n",
              "    <tr>\n",
              "      <th>.net</th>\n",
              "      <td>302</td>\n",
              "    </tr>\n",
              "    <tr>\n",
              "      <th>.net-2.0</th>\n",
              "      <td>6</td>\n",
              "    </tr>\n",
              "  </tbody>\n",
              "</table>\n",
              "</div>\n",
              "      <button class=\"colab-df-convert\" onclick=\"convertToInteractive('df-011bbf25-30d4-44f4-807e-89a135ffca6e')\"\n",
              "              title=\"Convert this dataframe to an interactive table.\"\n",
              "              style=\"display:none;\">\n",
              "        \n",
              "  <svg xmlns=\"http://www.w3.org/2000/svg\" height=\"24px\"viewBox=\"0 0 24 24\"\n",
              "       width=\"24px\">\n",
              "    <path d=\"M0 0h24v24H0V0z\" fill=\"none\"/>\n",
              "    <path d=\"M18.56 5.44l.94 2.06.94-2.06 2.06-.94-2.06-.94-.94-2.06-.94 2.06-2.06.94zm-11 1L8.5 8.5l.94-2.06 2.06-.94-2.06-.94L8.5 2.5l-.94 2.06-2.06.94zm10 10l.94 2.06.94-2.06 2.06-.94-2.06-.94-.94-2.06-.94 2.06-2.06.94z\"/><path d=\"M17.41 7.96l-1.37-1.37c-.4-.4-.92-.59-1.43-.59-.52 0-1.04.2-1.43.59L10.3 9.45l-7.72 7.72c-.78.78-.78 2.05 0 2.83L4 21.41c.39.39.9.59 1.41.59.51 0 1.02-.2 1.41-.59l7.78-7.78 2.81-2.81c.8-.78.8-2.07 0-2.86zM5.41 20L4 18.59l7.72-7.72 1.47 1.35L5.41 20z\"/>\n",
              "  </svg>\n",
              "      </button>\n",
              "      \n",
              "  <style>\n",
              "    .colab-df-container {\n",
              "      display:flex;\n",
              "      flex-wrap:wrap;\n",
              "      gap: 12px;\n",
              "    }\n",
              "\n",
              "    .colab-df-convert {\n",
              "      background-color: #E8F0FE;\n",
              "      border: none;\n",
              "      border-radius: 50%;\n",
              "      cursor: pointer;\n",
              "      display: none;\n",
              "      fill: #1967D2;\n",
              "      height: 32px;\n",
              "      padding: 0 0 0 0;\n",
              "      width: 32px;\n",
              "    }\n",
              "\n",
              "    .colab-df-convert:hover {\n",
              "      background-color: #E2EBFA;\n",
              "      box-shadow: 0px 1px 2px rgba(60, 64, 67, 0.3), 0px 1px 3px 1px rgba(60, 64, 67, 0.15);\n",
              "      fill: #174EA6;\n",
              "    }\n",
              "\n",
              "    [theme=dark] .colab-df-convert {\n",
              "      background-color: #3B4455;\n",
              "      fill: #D2E3FC;\n",
              "    }\n",
              "\n",
              "    [theme=dark] .colab-df-convert:hover {\n",
              "      background-color: #434B5C;\n",
              "      box-shadow: 0px 1px 3px 1px rgba(0, 0, 0, 0.15);\n",
              "      filter: drop-shadow(0px 1px 2px rgba(0, 0, 0, 0.3));\n",
              "      fill: #FFFFFF;\n",
              "    }\n",
              "  </style>\n",
              "\n",
              "      <script>\n",
              "        const buttonEl =\n",
              "          document.querySelector('#df-011bbf25-30d4-44f4-807e-89a135ffca6e button.colab-df-convert');\n",
              "        buttonEl.style.display =\n",
              "          google.colab.kernel.accessAllowed ? 'block' : 'none';\n",
              "\n",
              "        async function convertToInteractive(key) {\n",
              "          const element = document.querySelector('#df-011bbf25-30d4-44f4-807e-89a135ffca6e');\n",
              "          const dataTable =\n",
              "            await google.colab.kernel.invokeFunction('convertToInteractive',\n",
              "                                                     [key], {});\n",
              "          if (!dataTable) return;\n",
              "\n",
              "          const docLinkHtml = 'Like what you see? Visit the ' +\n",
              "            '<a target=\"_blank\" href=https://colab.research.google.com/notebooks/data_table.ipynb>data table notebook</a>'\n",
              "            + ' to learn more about interactive tables.';\n",
              "          element.innerHTML = '';\n",
              "          dataTable['output_type'] = 'display_data';\n",
              "          await google.colab.output.renderOutput(dataTable, element);\n",
              "          const docLink = document.createElement('div');\n",
              "          docLink.innerHTML = docLinkHtml;\n",
              "          element.appendChild(docLink);\n",
              "        }\n",
              "      </script>\n",
              "    </div>\n",
              "  </div>\n",
              "  "
            ]
          },
          "metadata": {},
          "execution_count": 75
        }
      ]
    },
    {
      "cell_type": "markdown",
      "source": [
        "Converted the pandas series to pandas dataframe"
      ],
      "metadata": {
        "id": "0UvweJiLBYwH"
      }
    },
    {
      "cell_type": "code",
      "source": [
        "sorted_df = tag_df.sort_values(['counts'],ascending=False)"
      ],
      "metadata": {
        "id": "FyUQj31mBW7Q"
      },
      "execution_count": 78,
      "outputs": []
    },
    {
      "cell_type": "markdown",
      "source": [
        "Sorted the dataframe by the counts column in descending order"
      ],
      "metadata": {
        "id": "Tg8kW0e6B70O"
      }
    },
    {
      "cell_type": "code",
      "source": [
        "tag_counts = sorted_df['counts'].values"
      ],
      "metadata": {
        "id": "bfWhxh9qCEIT"
      },
      "execution_count": 79,
      "outputs": []
    },
    {
      "cell_type": "code",
      "source": [
        "plt.plot(tag_counts)\n",
        "plt.title(\"Distribution of number of times tag appeared in questions\")\n",
        "plt.grid()\n",
        "plt.xlabel(\"Tag number\")\n",
        "plt.ylabel(\"Number of times tag appeared\")\n",
        "plt.show()"
      ],
      "metadata": {
        "colab": {
          "base_uri": "https://localhost:8080/",
          "height": 295
        },
        "id": "IbxV5-HACIkV",
        "outputId": "628aa256-6fca-43ea-9967-e4aef356183b"
      },
      "execution_count": 81,
      "outputs": [
        {
          "output_type": "display_data",
          "data": {
            "text/plain": [
              "<Figure size 432x288 with 1 Axes>"
            ],
            "image/png": "[encoded data removed]"
          },
          "metadata": {
            "needs_background": "light"
          }
        }
      ]
    },
    {
      "cell_type": "markdown",
      "source": [
        "The visualization is not very great when taking all tags. so, lets take first 100 tags and see their distribution."
      ],
      "metadata": {
        "id": "mibuZt-3CjmK"
      }
    },
    {
      "cell_type": "code",
      "source": [
        "plt.plot(tag_counts[0:100])\n",
        "plt.title('For first 100 tags Distribution of number of times tag appeared in questions')\n",
        "plt.grid()\n",
        "plt.xlabel(\"Tag number\")\n",
        "plt.ylabel(\"Number of times tag appeared\")\n",
        "plt.show()"
      ],
      "metadata": {
        "colab": {
          "base_uri": "https://localhost:8080/",
          "height": 295
        },
        "id": "hRq4sLrGCN7B",
        "outputId": "fa6c8af6-dd58-40a1-ceaf-02088fcf1025"
      },
      "execution_count": 83,
      "outputs": [
        {
          "output_type": "display_data",
          "data": {
            "text/plain": [
              "<Figure size 432x288 with 1 Axes>"
            ],
            "image/png": "[encoded data removed]"
          },
          "metadata": {
            "needs_background": "light"
          }
        }
      ]
    },
    {
      "cell_type": "code",
      "source": [
        "tag_question_count = tag_matrix.sum(axis=1).tolist()\n",
        "tag_question_count=[int(j) for i in tag_question_count for j in i]"
      ],
      "metadata": {
        "id": "xHBImLmlD3Ob"
      },
      "execution_count": 92,
      "outputs": []
    },
    {
      "cell_type": "code",
      "source": [
        "max_tags = max(tag_question_count)\n",
        "min_tags = min(tag_question_count)\n",
        "avg_tags = sum(tag_question_count)/len(tag_question_count)\n",
        "print('The maximum number of tags in a question is',max_tags)\n",
        "print('The minimum number of tags in a question is',min_tags)\n",
        "print('The average number of tags in a question is',avg_tags)"
      ],
      "metadata": {
        "colab": {
          "base_uri": "https://localhost:8080/"
        },
        "id": "LwZVH7hQEVm5",
        "outputId": "84cd71c4-12b1-40b3-da3e-ac031c37f0af"
      },
      "execution_count": 93,
      "outputs": [
        {
          "output_type": "stream",
          "name": "stdout",
          "text": [
            "The maximum number of tags in a question is 5\n",
            "The minimum number of tags in a question is 1\n",
            "The average number of tags in a question is 2.9166750025007504\n"
          ]
        }
      ]
    },
    {
      "cell_type": "code",
      "source": [
        "sorted_df.head(10).plot(kind='bar')\n",
        "plt.title('Top 30 most used tags')\n",
        "plt.xlabel('Tags')\n",
        "plt.ylabel('count')\n",
        "plt.show()"
      ],
      "metadata": {
        "colab": {
          "base_uri": "https://localhost:8080/",
          "height": 334
        },
        "id": "IjQ284LnEaQo",
        "outputId": "9d5d631c-cc31-4bd1-9d7e-757cf27c62ba"
      },
      "execution_count": 88,
      "outputs": [
        {
          "output_type": "display_data",
          "data": {
            "text/plain": [
              "<Figure size 432x288 with 1 Axes>"
            ],
            "image/png": "[encoded data removed]"
          },
          "metadata": {
            "needs_background": "light"
          }
        }
      ]
    },
    {
      "cell_type": "markdown",
      "source": [
        "So, c# is the most frequently occuring tag among all."
      ],
      "metadata": {
        "id": "fdWWAxBTE48t"
      }
    },
    {
      "cell_type": "code",
      "source": [
        "import re\n",
        "from nltk.tokenize import word_tokenize\n",
        "from nltk.stem.snowball import SnowballStemmer"
      ],
      "metadata": {
        "id": "Viam5z8eE1Yd"
      },
      "execution_count": 94,
      "outputs": []
    },
    {
      "cell_type": "code",
      "source": [
        "import nltk\n",
        "from nltk.corpus import stopwords\n",
        "nltk.download('stopwords')\n",
        "nltk.download('punkt')"
      ],
      "metadata": {
        "colab": {
          "base_uri": "https://localhost:8080/"
        },
        "id": "OA-jkoE1Ex4D",
        "outputId": "d259acb7-acd2-4bfd-e393-5ab40d03fc13"
      },
      "execution_count": 95,
      "outputs": [
        {
          "output_type": "stream",
          "name": "stderr",
          "text": [
            "[nltk_data] Downloading package stopwords to /root/nltk_data...\n",
            "[nltk_data]   Unzipping corpora/stopwords.zip.\n",
            "[nltk_data] Downloading package punkt to /root/nltk_data...\n",
            "[nltk_data]   Unzipping tokenizers/punkt.zip.\n"
          ]
        },
        {
          "output_type": "execute_result",
          "data": {
            "text/plain": [
              "True"
            ]
          },
          "metadata": {},
          "execution_count": 95
        }
      ]
    },
    {
      "cell_type": "code",
      "source": [
        "data.head(3)"
      ],
      "metadata": {
        "colab": {
          "base_uri": "https://localhost:8080/",
          "height": 240
        },
        "id": "xLHvvRnFH82O",
        "outputId": "148079fb-c808-4cb4-a180-5ec92616a602"
      },
      "execution_count": 96,
      "outputs": [
        {
          "output_type": "execute_result",
          "data": {
            "text/plain": [
              "                                               Title  \\\n",
              "0  How to check if an uploaded file is an image w...   \n",
              "1  How can I prevent firefox from closing when I ...   \n",
              "2           R Error Invalid type (list) for variable   \n",
              "\n",
              "                                                Body  \\\n",
              "0  <p>I'd like to check if an uploaded file is an...   \n",
              "1  <p>In my favorite editor (vim), I regularly us...   \n",
              "2  <p>I am import matlab file and construct a dat...   \n",
              "\n",
              "                                                Tags  \n",
              "0  php image-processing file-upload upload mime-t...  \n",
              "1                                            firefox  \n",
              "2                          r matlab machine-learning  "
            ],
            "text/html": [
              "\n",
              "  <div id=\"df-59bb418c-de72-49cc-96cd-c16f59e03d16\">\n",
              "    <div class=\"colab-df-container\">\n",
              "      <div>\n",
              "<style scoped>\n",
              "    .dataframe tbody tr th:only-of-type {\n",
              "        vertical-align: middle;\n",
              "    }\n",
              "\n",
              "    .dataframe tbody tr th {\n",
              "        vertical-align: top;\n",
              "    }\n",
              "\n",
              "    .dataframe thead th {\n",
              "        text-align: right;\n",
              "    }\n",
              "</style>\n",
              "<table border=\"1\" class=\"dataframe\">\n",
              "  <thead>\n",
              "    <tr style=\"text-align: right;\">\n",
              "      <th></th>\n",
              "      <th>Title</th>\n",
              "      <th>Body</th>\n",
              "      <th>Tags</th>\n",
              "    </tr>\n",
              "  </thead>\n",
              "  <tbody>\n",
              "    <tr>\n",
              "      <th>0</th>\n",
              "      <td>How to check if an uploaded file is an image w...</td>\n",
              "      <td>&lt;p&gt;I'd like to check if an uploaded file is an...</td>\n",
              "      <td>php image-processing file-upload upload mime-t...</td>\n",
              "    </tr>\n",
              "    <tr>\n",
              "      <th>1</th>\n",
              "      <td>How can I prevent firefox from closing when I ...</td>\n",
              "      <td>&lt;p&gt;In my favorite editor (vim), I regularly us...</td>\n",
              "      <td>firefox</td>\n",
              "    </tr>\n",
              "    <tr>\n",
              "      <th>2</th>\n",
              "      <td>R Error Invalid type (list) for variable</td>\n",
              "      <td>&lt;p&gt;I am import matlab file and construct a dat...</td>\n",
              "      <td>r matlab machine-learning</td>\n",
              "    </tr>\n",
              "  </tbody>\n",
              "</table>\n",
              "</div>\n",
              "      <button class=\"colab-df-convert\" onclick=\"convertToInteractive('df-59bb418c-de72-49cc-96cd-c16f59e03d16')\"\n",
              "              title=\"Convert this dataframe to an interactive table.\"\n",
              "              style=\"display:none;\">\n",
              "        \n",
              "  <svg xmlns=\"http://www.w3.org/2000/svg\" height=\"24px\"viewBox=\"0 0 24 24\"\n",
              "       width=\"24px\">\n",
              "    <path d=\"M0 0h24v24H0V0z\" fill=\"none\"/>\n",
              "    <path d=\"M18.56 5.44l.94 2.06.94-2.06 2.06-.94-2.06-.94-.94-2.06-.94 2.06-2.06.94zm-11 1L8.5 8.5l.94-2.06 2.06-.94-2.06-.94L8.5 2.5l-.94 2.06-2.06.94zm10 10l.94 2.06.94-2.06 2.06-.94-2.06-.94-.94-2.06-.94 2.06-2.06.94z\"/><path d=\"M17.41 7.96l-1.37-1.37c-.4-.4-.92-.59-1.43-.59-.52 0-1.04.2-1.43.59L10.3 9.45l-7.72 7.72c-.78.78-.78 2.05 0 2.83L4 21.41c.39.39.9.59 1.41.59.51 0 1.02-.2 1.41-.59l7.78-7.78 2.81-2.81c.8-.78.8-2.07 0-2.86zM5.41 20L4 18.59l7.72-7.72 1.47 1.35L5.41 20z\"/>\n",
              "  </svg>\n",
              "      </button>\n",
              "      \n",
              "  <style>\n",
              "    .colab-df-container {\n",
              "      display:flex;\n",
              "      flex-wrap:wrap;\n",
              "      gap: 12px;\n",
              "    }\n",
              "\n",
              "    .colab-df-convert {\n",
              "      background-color: #E8F0FE;\n",
              "      border: none;\n",
              "      border-radius: 50%;\n",
              "      cursor: pointer;\n",
              "      display: none;\n",
              "      fill: #1967D2;\n",
              "      height: 32px;\n",
              "      padding: 0 0 0 0;\n",
              "      width: 32px;\n",
              "    }\n",
              "\n",
              "    .colab-df-convert:hover {\n",
              "      background-color: #E2EBFA;\n",
              "      box-shadow: 0px 1px 2px rgba(60, 64, 67, 0.3), 0px 1px 3px 1px rgba(60, 64, 67, 0.15);\n",
              "      fill: #174EA6;\n",
              "    }\n",
              "\n",
              "    [theme=dark] .colab-df-convert {\n",
              "      background-color: #3B4455;\n",
              "      fill: #D2E3FC;\n",
              "    }\n",
              "\n",
              "    [theme=dark] .colab-df-convert:hover {\n",
              "      background-color: #434B5C;\n",
              "      box-shadow: 0px 1px 3px 1px rgba(0, 0, 0, 0.15);\n",
              "      filter: drop-shadow(0px 1px 2px rgba(0, 0, 0, 0.3));\n",
              "      fill: #FFFFFF;\n",
              "    }\n",
              "  </style>\n",
              "\n",
              "      <script>\n",
              "        const buttonEl =\n",
              "          document.querySelector('#df-59bb418c-de72-49cc-96cd-c16f59e03d16 button.colab-df-convert');\n",
              "        buttonEl.style.display =\n",
              "          google.colab.kernel.accessAllowed ? 'block' : 'none';\n",
              "\n",
              "        async function convertToInteractive(key) {\n",
              "          const element = document.querySelector('#df-59bb418c-de72-49cc-96cd-c16f59e03d16');\n",
              "          const dataTable =\n",
              "            await google.colab.kernel.invokeFunction('convertToInteractive',\n",
              "                                                     [key], {});\n",
              "          if (!dataTable) return;\n",
              "\n",
              "          const docLinkHtml = 'Like what you see? Visit the ' +\n",
              "            '<a target=\"_blank\" href=https://colab.research.google.com/notebooks/data_table.ipynb>data table notebook</a>'\n",
              "            + ' to learn more about interactive tables.';\n",
              "          element.innerHTML = '';\n",
              "          dataTable['output_type'] = 'display_data';\n",
              "          await google.colab.output.renderOutput(dataTable, element);\n",
              "          const docLink = document.createElement('div');\n",
              "          docLink.innerHTML = docLinkHtml;\n",
              "          element.appendChild(docLink);\n",
              "        }\n",
              "      </script>\n",
              "    </div>\n",
              "  </div>\n",
              "  "
            ]
          },
          "metadata": {},
          "execution_count": 96
        }
      ]
    },
    {
      "cell_type": "code",
      "source": [
        "new_data = data.drop('Body',axis=1)\n",
        "new_data.head(3)"
      ],
      "metadata": {
        "colab": {
          "base_uri": "https://localhost:8080/",
          "height": 143
        },
        "id": "t3Ea8pm-IApL",
        "outputId": "a7998a79-69a0-4b51-840b-62dc57c55c63"
      },
      "execution_count": 97,
      "outputs": [
        {
          "output_type": "execute_result",
          "data": {
            "text/plain": [
              "                                               Title  \\\n",
              "0  How to check if an uploaded file is an image w...   \n",
              "1  How can I prevent firefox from closing when I ...   \n",
              "2           R Error Invalid type (list) for variable   \n",
              "\n",
              "                                                Tags  \n",
              "0  php image-processing file-upload upload mime-t...  \n",
              "1                                            firefox  \n",
              "2                          r matlab machine-learning  "
            ],
            "text/html": [
              "\n",
              "  <div id=\"df-b5c27f24-e40f-455a-87af-97c0f44abb1a\">\n",
              "    <div class=\"colab-df-container\">\n",
              "      <div>\n",
              "<style scoped>\n",
              "    .dataframe tbody tr th:only-of-type {\n",
              "        vertical-align: middle;\n",
              "    }\n",
              "\n",
              "    .dataframe tbody tr th {\n",
              "        vertical-align: top;\n",
              "    }\n",
              "\n",
              "    .dataframe thead th {\n",
              "        text-align: right;\n",
              "    }\n",
              "</style>\n",
              "<table border=\"1\" class=\"dataframe\">\n",
              "  <thead>\n",
              "    <tr style=\"text-align: right;\">\n",
              "      <th></th>\n",
              "      <th>Title</th>\n",
              "      <th>Tags</th>\n",
              "    </tr>\n",
              "  </thead>\n",
              "  <tbody>\n",
              "    <tr>\n",
              "      <th>0</th>\n",
              "      <td>How to check if an uploaded file is an image w...</td>\n",
              "      <td>php image-processing file-upload upload mime-t...</td>\n",
              "    </tr>\n",
              "    <tr>\n",
              "      <th>1</th>\n",
              "      <td>How can I prevent firefox from closing when I ...</td>\n",
              "      <td>firefox</td>\n",
              "    </tr>\n",
              "    <tr>\n",
              "      <th>2</th>\n",
              "      <td>R Error Invalid type (list) for variable</td>\n",
              "      <td>r matlab machine-learning</td>\n",
              "    </tr>\n",
              "  </tbody>\n",
              "</table>\n",
              "</div>\n",
              "      <button class=\"colab-df-convert\" onclick=\"convertToInteractive('df-b5c27f24-e40f-455a-87af-97c0f44abb1a')\"\n",
              "              title=\"Convert this dataframe to an interactive table.\"\n",
              "              style=\"display:none;\">\n",
              "        \n",
              "  <svg xmlns=\"http://www.w3.org/2000/svg\" height=\"24px\"viewBox=\"0 0 24 24\"\n",
              "       width=\"24px\">\n",
              "    <path d=\"M0 0h24v24H0V0z\" fill=\"none\"/>\n",
              "    <path d=\"M18.56 5.44l.94 2.06.94-2.06 2.06-.94-2.06-.94-.94-2.06-.94 2.06-2.06.94zm-11 1L8.5 8.5l.94-2.06 2.06-.94-2.06-.94L8.5 2.5l-.94 2.06-2.06.94zm10 10l.94 2.06.94-2.06 2.06-.94-2.06-.94-.94-2.06-.94 2.06-2.06.94z\"/><path d=\"M17.41 7.96l-1.37-1.37c-.4-.4-.92-.59-1.43-.59-.52 0-1.04.2-1.43.59L10.3 9.45l-7.72 7.72c-.78.78-.78 2.05 0 2.83L4 21.41c.39.39.9.59 1.41.59.51 0 1.02-.2 1.41-.59l7.78-7.78 2.81-2.81c.8-.78.8-2.07 0-2.86zM5.41 20L4 18.59l7.72-7.72 1.47 1.35L5.41 20z\"/>\n",
              "  </svg>\n",
              "      </button>\n",
              "      \n",
              "  <style>\n",
              "    .colab-df-container {\n",
              "      display:flex;\n",
              "      flex-wrap:wrap;\n",
              "      gap: 12px;\n",
              "    }\n",
              "\n",
              "    .colab-df-convert {\n",
              "      background-color: #E8F0FE;\n",
              "      border: none;\n",
              "      border-radius: 50%;\n",
              "      cursor: pointer;\n",
              "      display: none;\n",
              "      fill: #1967D2;\n",
              "      height: 32px;\n",
              "      padding: 0 0 0 0;\n",
              "      width: 32px;\n",
              "    }\n",
              "\n",
              "    .colab-df-convert:hover {\n",
              "      background-color: #E2EBFA;\n",
              "      box-shadow: 0px 1px 2px rgba(60, 64, 67, 0.3), 0px 1px 3px 1px rgba(60, 64, 67, 0.15);\n",
              "      fill: #174EA6;\n",
              "    }\n",
              "\n",
              "    [theme=dark] .colab-df-convert {\n",
              "      background-color: #3B4455;\n",
              "      fill: #D2E3FC;\n",
              "    }\n",
              "\n",
              "    [theme=dark] .colab-df-convert:hover {\n",
              "      background-color: #434B5C;\n",
              "      box-shadow: 0px 1px 3px 1px rgba(0, 0, 0, 0.15);\n",
              "      filter: drop-shadow(0px 1px 2px rgba(0, 0, 0, 0.3));\n",
              "      fill: #FFFFFF;\n",
              "    }\n",
              "  </style>\n",
              "\n",
              "      <script>\n",
              "        const buttonEl =\n",
              "          document.querySelector('#df-b5c27f24-e40f-455a-87af-97c0f44abb1a button.colab-df-convert');\n",
              "        buttonEl.style.display =\n",
              "          google.colab.kernel.accessAllowed ? 'block' : 'none';\n",
              "\n",
              "        async function convertToInteractive(key) {\n",
              "          const element = document.querySelector('#df-b5c27f24-e40f-455a-87af-97c0f44abb1a');\n",
              "          const dataTable =\n",
              "            await google.colab.kernel.invokeFunction('convertToInteractive',\n",
              "                                                     [key], {});\n",
              "          if (!dataTable) return;\n",
              "\n",
              "          const docLinkHtml = 'Like what you see? Visit the ' +\n",
              "            '<a target=\"_blank\" href=https://colab.research.google.com/notebooks/data_table.ipynb>data table notebook</a>'\n",
              "            + ' to learn more about interactive tables.';\n",
              "          element.innerHTML = '';\n",
              "          dataTable['output_type'] = 'display_data';\n",
              "          await google.colab.output.renderOutput(dataTable, element);\n",
              "          const docLink = document.createElement('div');\n",
              "          docLink.innerHTML = docLinkHtml;\n",
              "          element.appendChild(docLink);\n",
              "        }\n",
              "      </script>\n",
              "    </div>\n",
              "  </div>\n",
              "  "
            ]
          },
          "metadata": {},
          "execution_count": 97
        }
      ]
    },
    {
      "cell_type": "code",
      "source": [
        "html_tag_remover = re.compile(r'<[^>]+>')\n",
        "\n",
        "def remove_tags(text):\n",
        "  return html_tag_remover.sub('', text)"
      ],
      "metadata": {
        "id": "k38YkEIlIqDG"
      },
      "execution_count": 98,
      "outputs": []
    },
    {
      "cell_type": "code",
      "source": [
        "def preprocess_text(sen):\n",
        "  sentence = sen.lower()\n",
        "  #Converted all texts to lower case\n",
        "\n",
        "  sentence = remove_tags(sentence)\n",
        "  #Removed html tags\n",
        "\n",
        "  sentence = re.sub('[^a-zA-Z]', ' ', sentence)\n",
        "  #Removed punctuations and numbers\n",
        "\n",
        "  sentence = re.sub(r\"\\s+[a-zA-Z]\\s+\", ' ', sentence) \n",
        "  #Removed apostrophe\n",
        "\n",
        "  sentence = re.sub(r'\\s+', ' ', sentence)\n",
        "  #Removed the extra spaces from the text\n",
        "\n",
        "  pattern = re.compile(r'\\b(' + r'|'.join(stopwords.words('english')) + r')\\b\\s*')\n",
        "  sentence = pattern.sub('', sentence)\n",
        "  #Removed Stopwords\n",
        "\n",
        "  return sentence"
      ],
      "metadata": {
        "id": "C4wdutlSI1rj"
      },
      "execution_count": 99,
      "outputs": []
    },
    {
      "cell_type": "code",
      "source": [
        "Preprocessed_data = []\n",
        "sentences = list(new_data['Title'])\n",
        "for i in sentences:\n",
        "  Preprocessed_data.append(preprocess_text(i))"
      ],
      "metadata": {
        "id": "cg7K553aI8Gp"
      },
      "execution_count": 100,
      "outputs": []
    },
    {
      "cell_type": "code",
      "source": [
        "Preprocessed_data[10]"
      ],
      "metadata": {
        "colab": {
          "base_uri": "https://localhost:8080/",
          "height": 35
        },
        "id": "IT7eXWSwJEnq",
        "outputId": "5bcf5f83-6965-44ed-cc54-8b2e792a7ae7"
      },
      "execution_count": 109,
      "outputs": [
        {
          "output_type": "execute_result",
          "data": {
            "text/plain": [
              "'commercial obfuscators achieve crash net reflector ildasm '"
            ],
            "application/vnd.google.colaboratory.intrinsic+json": {
              "type": "string"
            }
          },
          "metadata": {},
          "execution_count": 109
        }
      ]
    },
    {
      "cell_type": "code",
      "source": [
        "stemmer = SnowballStemmer(\"english\")"
      ],
      "metadata": {
        "id": "p2WPPqWlKCxE"
      },
      "execution_count": 103,
      "outputs": []
    },
    {
      "cell_type": "code",
      "source": [
        "new_data['Title'] = new_data['Title'].str.split()"
      ],
      "metadata": {
        "id": "UcEfriUXKC0E"
      },
      "execution_count": 104,
      "outputs": []
    },
    {
      "cell_type": "code",
      "source": [
        "new_data['stemmed_title'] = new_data['Title'].apply(lambda x: [stemmer.stem(y) for y in x])"
      ],
      "metadata": {
        "id": "r4ytdTeGKDTZ"
      },
      "execution_count": 105,
      "outputs": []
    },
    {
      "cell_type": "code",
      "source": [
        "new_data.head(3)"
      ],
      "metadata": {
        "colab": {
          "base_uri": "https://localhost:8080/",
          "height": 143
        },
        "id": "P12yr8ffKaYb",
        "outputId": "ca072539-89d0-46c6-ea65-86571ef5ae1c"
      },
      "execution_count": 106,
      "outputs": [
        {
          "output_type": "execute_result",
          "data": {
            "text/plain": [
              "                                               Title  \\\n",
              "0  [How, to, check, if, an, uploaded, file, is, a...   \n",
              "1  [How, can, I, prevent, firefox, from, closing,...   \n",
              "2   [R, Error, Invalid, type, (list), for, variable]   \n",
              "\n",
              "                                                Tags  \\\n",
              "0  php image-processing file-upload upload mime-t...   \n",
              "1                                            firefox   \n",
              "2                          r matlab machine-learning   \n",
              "\n",
              "                                       stemmed_title  \n",
              "0  [how, to, check, if, an, upload, file, is, an,...  \n",
              "1  [how, can, i, prevent, firefox, from, close, w...  \n",
              "2    [r, error, invalid, type, (list), for, variabl]  "
            ],
            "text/html": [
              "\n",
              "  <div id=\"df-c4337089-2038-4ba1-95b3-372c0db5dec6\">\n",
              "    <div class=\"colab-df-container\">\n",
              "      <div>\n",
              "<style scoped>\n",
              "    .dataframe tbody tr th:only-of-type {\n",
              "        vertical-align: middle;\n",
              "    }\n",
              "\n",
              "    .dataframe tbody tr th {\n",
              "        vertical-align: top;\n",
              "    }\n",
              "\n",
              "    .dataframe thead th {\n",
              "        text-align: right;\n",
              "    }\n",
              "</style>\n",
              "<table border=\"1\" class=\"dataframe\">\n",
              "  <thead>\n",
              "    <tr style=\"text-align: right;\">\n",
              "      <th></th>\n",
              "      <th>Title</th>\n",
              "      <th>Tags</th>\n",
              "      <th>stemmed_title</th>\n",
              "    </tr>\n",
              "  </thead>\n",
              "  <tbody>\n",
              "    <tr>\n",
              "      <th>0</th>\n",
              "      <td>[How, to, check, if, an, uploaded, file, is, a...</td>\n",
              "      <td>php image-processing file-upload upload mime-t...</td>\n",
              "      <td>[how, to, check, if, an, upload, file, is, an,...</td>\n",
              "    </tr>\n",
              "    <tr>\n",
              "      <th>1</th>\n",
              "      <td>[How, can, I, prevent, firefox, from, closing,...</td>\n",
              "      <td>firefox</td>\n",
              "      <td>[how, can, i, prevent, firefox, from, close, w...</td>\n",
              "    </tr>\n",
              "    <tr>\n",
              "      <th>2</th>\n",
              "      <td>[R, Error, Invalid, type, (list), for, variable]</td>\n",
              "      <td>r matlab machine-learning</td>\n",
              "      <td>[r, error, invalid, type, (list), for, variabl]</td>\n",
              "    </tr>\n",
              "  </tbody>\n",
              "</table>\n",
              "</div>\n",
              "      <button class=\"colab-df-convert\" onclick=\"convertToInteractive('df-c4337089-2038-4ba1-95b3-372c0db5dec6')\"\n",
              "              title=\"Convert this dataframe to an interactive table.\"\n",
              "              style=\"display:none;\">\n",
              "        \n",
              "  <svg xmlns=\"http://www.w3.org/2000/svg\" height=\"24px\"viewBox=\"0 0 24 24\"\n",
              "       width=\"24px\">\n",
              "    <path d=\"M0 0h24v24H0V0z\" fill=\"none\"/>\n",
              "    <path d=\"M18.56 5.44l.94 2.06.94-2.06 2.06-.94-2.06-.94-.94-2.06-.94 2.06-2.06.94zm-11 1L8.5 8.5l.94-2.06 2.06-.94-2.06-.94L8.5 2.5l-.94 2.06-2.06.94zm10 10l.94 2.06.94-2.06 2.06-.94-2.06-.94-.94-2.06-.94 2.06-2.06.94z\"/><path d=\"M17.41 7.96l-1.37-1.37c-.4-.4-.92-.59-1.43-.59-.52 0-1.04.2-1.43.59L10.3 9.45l-7.72 7.72c-.78.78-.78 2.05 0 2.83L4 21.41c.39.39.9.59 1.41.59.51 0 1.02-.2 1.41-.59l7.78-7.78 2.81-2.81c.8-.78.8-2.07 0-2.86zM5.41 20L4 18.59l7.72-7.72 1.47 1.35L5.41 20z\"/>\n",
              "  </svg>\n",
              "      </button>\n",
              "      \n",
              "  <style>\n",
              "    .colab-df-container {\n",
              "      display:flex;\n",
              "      flex-wrap:wrap;\n",
              "      gap: 12px;\n",
              "    }\n",
              "\n",
              "    .colab-df-convert {\n",
              "      background-color: #E8F0FE;\n",
              "      border: none;\n",
              "      border-radius: 50%;\n",
              "      cursor: pointer;\n",
              "      display: none;\n",
              "      fill: #1967D2;\n",
              "      height: 32px;\n",
              "      padding: 0 0 0 0;\n",
              "      width: 32px;\n",
              "    }\n",
              "\n",
              "    .colab-df-convert:hover {\n",
              "      background-color: #E2EBFA;\n",
              "      box-shadow: 0px 1px 2px rgba(60, 64, 67, 0.3), 0px 1px 3px 1px rgba(60, 64, 67, 0.15);\n",
              "      fill: #174EA6;\n",
              "    }\n",
              "\n",
              "    [theme=dark] .colab-df-convert {\n",
              "      background-color: #3B4455;\n",
              "      fill: #D2E3FC;\n",
              "    }\n",
              "\n",
              "    [theme=dark] .colab-df-convert:hover {\n",
              "      background-color: #434B5C;\n",
              "      box-shadow: 0px 1px 3px 1px rgba(0, 0, 0, 0.15);\n",
              "      filter: drop-shadow(0px 1px 2px rgba(0, 0, 0, 0.3));\n",
              "      fill: #FFFFFF;\n",
              "    }\n",
              "  </style>\n",
              "\n",
              "      <script>\n",
              "        const buttonEl =\n",
              "          document.querySelector('#df-c4337089-2038-4ba1-95b3-372c0db5dec6 button.colab-df-convert');\n",
              "        buttonEl.style.display =\n",
              "          google.colab.kernel.accessAllowed ? 'block' : 'none';\n",
              "\n",
              "        async function convertToInteractive(key) {\n",
              "          const element = document.querySelector('#df-c4337089-2038-4ba1-95b3-372c0db5dec6');\n",
              "          const dataTable =\n",
              "            await google.colab.kernel.invokeFunction('convertToInteractive',\n",
              "                                                     [key], {});\n",
              "          if (!dataTable) return;\n",
              "\n",
              "          const docLinkHtml = 'Like what you see? Visit the ' +\n",
              "            '<a target=\"_blank\" href=https://colab.research.google.com/notebooks/data_table.ipynb>data table notebook</a>'\n",
              "            + ' to learn more about interactive tables.';\n",
              "          element.innerHTML = '';\n",
              "          dataTable['output_type'] = 'display_data';\n",
              "          await google.colab.output.renderOutput(dataTable, element);\n",
              "          const docLink = document.createElement('div');\n",
              "          docLink.innerHTML = docLinkHtml;\n",
              "          element.appendChild(docLink);\n",
              "        }\n",
              "      </script>\n",
              "    </div>\n",
              "  </div>\n",
              "  "
            ]
          },
          "metadata": {},
          "execution_count": 106
        }
      ]
    },
    {
      "cell_type": "code",
      "source": [
        "new_data.drop('Title',axis=1,inplace=True)"
      ],
      "metadata": {
        "id": "Yi6yvnrTKd4P"
      },
      "execution_count": 107,
      "outputs": []
    },
    {
      "cell_type": "code",
      "source": [
        "new_data.head(3)"
      ],
      "metadata": {
        "colab": {
          "base_uri": "https://localhost:8080/",
          "height": 143
        },
        "id": "E174-iqSKwQi",
        "outputId": "cdb0453d-f143-4c4c-89f4-05e1bf67258f"
      },
      "execution_count": 108,
      "outputs": [
        {
          "output_type": "execute_result",
          "data": {
            "text/plain": [
              "                                                Tags  \\\n",
              "0  php image-processing file-upload upload mime-t...   \n",
              "1                                            firefox   \n",
              "2                          r matlab machine-learning   \n",
              "\n",
              "                                       stemmed_title  \n",
              "0  [how, to, check, if, an, upload, file, is, an,...  \n",
              "1  [how, can, i, prevent, firefox, from, close, w...  \n",
              "2    [r, error, invalid, type, (list), for, variabl]  "
            ],
            "text/html": [
              "\n",
              "  <div id=\"df-cf2c9554-14bf-4563-bac3-cba33eae7081\">\n",
              "    <div class=\"colab-df-container\">\n",
              "      <div>\n",
              "<style scoped>\n",
              "    .dataframe tbody tr th:only-of-type {\n",
              "        vertical-align: middle;\n",
              "    }\n",
              "\n",
              "    .dataframe tbody tr th {\n",
              "        vertical-align: top;\n",
              "    }\n",
              "\n",
              "    .dataframe thead th {\n",
              "        text-align: right;\n",
              "    }\n",
              "</style>\n",
              "<table border=\"1\" class=\"dataframe\">\n",
              "  <thead>\n",
              "    <tr style=\"text-align: right;\">\n",
              "      <th></th>\n",
              "      <th>Tags</th>\n",
              "      <th>stemmed_title</th>\n",
              "    </tr>\n",
              "  </thead>\n",
              "  <tbody>\n",
              "    <tr>\n",
              "      <th>0</th>\n",
              "      <td>php image-processing file-upload upload mime-t...</td>\n",
              "      <td>[how, to, check, if, an, upload, file, is, an,...</td>\n",
              "    </tr>\n",
              "    <tr>\n",
              "      <th>1</th>\n",
              "      <td>firefox</td>\n",
              "      <td>[how, can, i, prevent, firefox, from, close, w...</td>\n",
              "    </tr>\n",
              "    <tr>\n",
              "      <th>2</th>\n",
              "      <td>r matlab machine-learning</td>\n",
              "      <td>[r, error, invalid, type, (list), for, variabl]</td>\n",
              "    </tr>\n",
              "  </tbody>\n",
              "</table>\n",
              "</div>\n",
              "      <button class=\"colab-df-convert\" onclick=\"convertToInteractive('df-cf2c9554-14bf-4563-bac3-cba33eae7081')\"\n",
              "              title=\"Convert this dataframe to an interactive table.\"\n",
              "              style=\"display:none;\">\n",
              "        \n",
              "  <svg xmlns=\"http://www.w3.org/2000/svg\" height=\"24px\"viewBox=\"0 0 24 24\"\n",
              "       width=\"24px\">\n",
              "    <path d=\"M0 0h24v24H0V0z\" fill=\"none\"/>\n",
              "    <path d=\"M18.56 5.44l.94 2.06.94-2.06 2.06-.94-2.06-.94-.94-2.06-.94 2.06-2.06.94zm-11 1L8.5 8.5l.94-2.06 2.06-.94-2.06-.94L8.5 2.5l-.94 2.06-2.06.94zm10 10l.94 2.06.94-2.06 2.06-.94-2.06-.94-.94-2.06-.94 2.06-2.06.94z\"/><path d=\"M17.41 7.96l-1.37-1.37c-.4-.4-.92-.59-1.43-.59-.52 0-1.04.2-1.43.59L10.3 9.45l-7.72 7.72c-.78.78-.78 2.05 0 2.83L4 21.41c.39.39.9.59 1.41.59.51 0 1.02-.2 1.41-.59l7.78-7.78 2.81-2.81c.8-.78.8-2.07 0-2.86zM5.41 20L4 18.59l7.72-7.72 1.47 1.35L5.41 20z\"/>\n",
              "  </svg>\n",
              "      </button>\n",
              "      \n",
              "  <style>\n",
              "    .colab-df-container {\n",
              "      display:flex;\n",
              "      flex-wrap:wrap;\n",
              "      gap: 12px;\n",
              "    }\n",
              "\n",
              "    .colab-df-convert {\n",
              "      background-color: #E8F0FE;\n",
              "      border: none;\n",
              "      border-radius: 50%;\n",
              "      cursor: pointer;\n",
              "      display: none;\n",
              "      fill: #1967D2;\n",
              "      height: 32px;\n",
              "      padding: 0 0 0 0;\n",
              "      width: 32px;\n",
              "    }\n",
              "\n",
              "    .colab-df-convert:hover {\n",
              "      background-color: #E2EBFA;\n",
              "      box-shadow: 0px 1px 2px rgba(60, 64, 67, 0.3), 0px 1px 3px 1px rgba(60, 64, 67, 0.15);\n",
              "      fill: #174EA6;\n",
              "    }\n",
              "\n",
              "    [theme=dark] .colab-df-convert {\n",
              "      background-color: #3B4455;\n",
              "      fill: #D2E3FC;\n",
              "    }\n",
              "\n",
              "    [theme=dark] .colab-df-convert:hover {\n",
              "      background-color: #434B5C;\n",
              "      box-shadow: 0px 1px 3px 1px rgba(0, 0, 0, 0.15);\n",
              "      filter: drop-shadow(0px 1px 2px rgba(0, 0, 0, 0.3));\n",
              "      fill: #FFFFFF;\n",
              "    }\n",
              "  </style>\n",
              "\n",
              "      <script>\n",
              "        const buttonEl =\n",
              "          document.querySelector('#df-cf2c9554-14bf-4563-bac3-cba33eae7081 button.colab-df-convert');\n",
              "        buttonEl.style.display =\n",
              "          google.colab.kernel.accessAllowed ? 'block' : 'none';\n",
              "\n",
              "        async function convertToInteractive(key) {\n",
              "          const element = document.querySelector('#df-cf2c9554-14bf-4563-bac3-cba33eae7081');\n",
              "          const dataTable =\n",
              "            await google.colab.kernel.invokeFunction('convertToInteractive',\n",
              "                                                     [key], {});\n",
              "          if (!dataTable) return;\n",
              "\n",
              "          const docLinkHtml = 'Like what you see? Visit the ' +\n",
              "            '<a target=\"_blank\" href=https://colab.research.google.com/notebooks/data_table.ipynb>data table notebook</a>'\n",
              "            + ' to learn more about interactive tables.';\n",
              "          element.innerHTML = '';\n",
              "          dataTable['output_type'] = 'display_data';\n",
              "          await google.colab.output.renderOutput(dataTable, element);\n",
              "          const docLink = document.createElement('div');\n",
              "          docLink.innerHTML = docLinkHtml;\n",
              "          element.appendChild(docLink);\n",
              "        }\n",
              "      </script>\n",
              "    </div>\n",
              "  </div>\n",
              "  "
            ]
          },
          "metadata": {},
          "execution_count": 108
        }
      ]
    },
    {
      "cell_type": "code",
      "source": [],
      "metadata": {
        "id": "6__Gv8xnKzDH"
      },
      "execution_count": null,
      "outputs": []
    }
  ]
}