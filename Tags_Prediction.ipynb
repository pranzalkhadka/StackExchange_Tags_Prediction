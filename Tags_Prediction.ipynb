{
  "nbformat": 4,
  "nbformat_minor": 0,
  "metadata": {
    "colab": {
      "provenance": []
    },
    "kernelspec": {
      "name": "python3",
      "display_name": "Python 3"
    },
    "language_info": {
      "name": "python"
    },
    "gpuClass": "standard"
  },
  "cells": [
    {
      "cell_type": "code",
      "execution_count": 1,
      "metadata": {
        "colab": {
          "base_uri": "https://localhost:8080/"
        },
        "id": "sw0bsgV0oWm8",
        "outputId": "3cbbb1cb-372e-4504-abc5-28454fa4dba6"
      },
      "outputs": [
        {
          "output_type": "stream",
          "name": "stdout",
          "text": [
            "Mounted at /content/drive\n"
          ]
        }
      ],
      "source": [
        "from google.colab import drive\n",
        "drive.mount('/content/drive')"
      ]
    },
    {
      "cell_type": "markdown",
      "source": [
        "Mounting google drive to colab"
      ],
      "metadata": {
        "id": "Ti_qkWIFRFq4"
      }
    },
    {
      "cell_type": "code",
      "source": [
        "#!unzip /content/drive/MyDrive/facebook-recruiting-iii-keyword-extraction.zip"
      ],
      "metadata": {
        "id": "6_qWKDYFs8f9"
      },
      "execution_count": 2,
      "outputs": []
    },
    {
      "cell_type": "code",
      "source": [
        "#!unzip /content/Train.zip"
      ],
      "metadata": {
        "id": "Uui0iytVtPtT"
      },
      "execution_count": 3,
      "outputs": []
    },
    {
      "cell_type": "code",
      "source": [
        "import numpy as np\n",
        "import pandas as pd\n",
        "import matplotlib.pyplot as plt"
      ],
      "metadata": {
        "id": "NzIojYQewYlK"
      },
      "execution_count": 4,
      "outputs": []
    },
    {
      "cell_type": "code",
      "source": [
        "data = pd.read_csv('/content/drive/MyDrive/sliced_filename.csv')"
      ],
      "metadata": {
        "id": "4Y5dGdfDvKdA"
      },
      "execution_count": 5,
      "outputs": []
    },
    {
      "cell_type": "code",
      "source": [
        "data.shape"
      ],
      "metadata": {
        "colab": {
          "base_uri": "https://localhost:8080/"
        },
        "id": "EgBhqED0HObz",
        "outputId": "1ba7a916-8255-49a6-aa85-cee577d7cb37"
      },
      "execution_count": 6,
      "outputs": [
        {
          "output_type": "execute_result",
          "data": {
            "text/plain": [
              "(50000, 4)"
            ]
          },
          "metadata": {},
          "execution_count": 6
        }
      ]
    },
    {
      "cell_type": "code",
      "source": [
        "#sliced_df = train_data[:50000]"
      ],
      "metadata": {
        "id": "HBA3M5hBwjov"
      },
      "execution_count": 7,
      "outputs": []
    },
    {
      "cell_type": "code",
      "source": [
        "#sliced_df.to_csv('sliced_filename.csv', index=False)"
      ],
      "metadata": {
        "id": "G0xDBsyImOtj"
      },
      "execution_count": 8,
      "outputs": []
    },
    {
      "cell_type": "markdown",
      "source": [
        "The entire dataset contains more than 6 million datapoints which is difficult to work with in both colab and local environment. So, I took a slice of the data."
      ],
      "metadata": {
        "id": "cwyNFH7EGuSl"
      }
    },
    {
      "cell_type": "code",
      "source": [
        "data.head(3)"
      ],
      "metadata": {
        "colab": {
          "base_uri": "https://localhost:8080/",
          "height": 143
        },
        "id": "PFBNYa00xVCA",
        "outputId": "6287ef20-4395-4420-9075-92709311b484"
      },
      "execution_count": 9,
      "outputs": [
        {
          "output_type": "execute_result",
          "data": {
            "text/plain": [
              "   Id                                              Title  \\\n",
              "0   1  How to check if an uploaded file is an image w...   \n",
              "1   2  How can I prevent firefox from closing when I ...   \n",
              "2   3           R Error Invalid type (list) for variable   \n",
              "\n",
              "                                                Body  \\\n",
              "0  <p>I'd like to check if an uploaded file is an...   \n",
              "1  <p>In my favorite editor (vim), I regularly us...   \n",
              "2  <p>I am import matlab file and construct a dat...   \n",
              "\n",
              "                                                Tags  \n",
              "0  php image-processing file-upload upload mime-t...  \n",
              "1                                            firefox  \n",
              "2                          r matlab machine-learning  "
            ],
            "text/html": [
              "\n",
              "  <div id=\"df-a0812a23-7bad-483a-bde6-02d8fa42349b\">\n",
              "    <div class=\"colab-df-container\">\n",
              "      <div>\n",
              "<style scoped>\n",
              "    .dataframe tbody tr th:only-of-type {\n",
              "        vertical-align: middle;\n",
              "    }\n",
              "\n",
              "    .dataframe tbody tr th {\n",
              "        vertical-align: top;\n",
              "    }\n",
              "\n",
              "    .dataframe thead th {\n",
              "        text-align: right;\n",
              "    }\n",
              "</style>\n",
              "<table border=\"1\" class=\"dataframe\">\n",
              "  <thead>\n",
              "    <tr style=\"text-align: right;\">\n",
              "      <th></th>\n",
              "      <th>Id</th>\n",
              "      <th>Title</th>\n",
              "      <th>Body</th>\n",
              "      <th>Tags</th>\n",
              "    </tr>\n",
              "  </thead>\n",
              "  <tbody>\n",
              "    <tr>\n",
              "      <th>0</th>\n",
              "      <td>1</td>\n",
              "      <td>How to check if an uploaded file is an image w...</td>\n",
              "      <td>&lt;p&gt;I'd like to check if an uploaded file is an...</td>\n",
              "      <td>php image-processing file-upload upload mime-t...</td>\n",
              "    </tr>\n",
              "    <tr>\n",
              "      <th>1</th>\n",
              "      <td>2</td>\n",
              "      <td>How can I prevent firefox from closing when I ...</td>\n",
              "      <td>&lt;p&gt;In my favorite editor (vim), I regularly us...</td>\n",
              "      <td>firefox</td>\n",
              "    </tr>\n",
              "    <tr>\n",
              "      <th>2</th>\n",
              "      <td>3</td>\n",
              "      <td>R Error Invalid type (list) for variable</td>\n",
              "      <td>&lt;p&gt;I am import matlab file and construct a dat...</td>\n",
              "      <td>r matlab machine-learning</td>\n",
              "    </tr>\n",
              "  </tbody>\n",
              "</table>\n",
              "</div>\n",
              "      <button class=\"colab-df-convert\" onclick=\"convertToInteractive('df-a0812a23-7bad-483a-bde6-02d8fa42349b')\"\n",
              "              title=\"Convert this dataframe to an interactive table.\"\n",
              "              style=\"display:none;\">\n",
              "        \n",
              "  <svg xmlns=\"http://www.w3.org/2000/svg\" height=\"24px\"viewBox=\"0 0 24 24\"\n",
              "       width=\"24px\">\n",
              "    <path d=\"M0 0h24v24H0V0z\" fill=\"none\"/>\n",
              "    <path d=\"M18.56 5.44l.94 2.06.94-2.06 2.06-.94-2.06-.94-.94-2.06-.94 2.06-2.06.94zm-11 1L8.5 8.5l.94-2.06 2.06-.94-2.06-.94L8.5 2.5l-.94 2.06-2.06.94zm10 10l.94 2.06.94-2.06 2.06-.94-2.06-.94-.94-2.06-.94 2.06-2.06.94z\"/><path d=\"M17.41 7.96l-1.37-1.37c-.4-.4-.92-.59-1.43-.59-.52 0-1.04.2-1.43.59L10.3 9.45l-7.72 7.72c-.78.78-.78 2.05 0 2.83L4 21.41c.39.39.9.59 1.41.59.51 0 1.02-.2 1.41-.59l7.78-7.78 2.81-2.81c.8-.78.8-2.07 0-2.86zM5.41 20L4 18.59l7.72-7.72 1.47 1.35L5.41 20z\"/>\n",
              "  </svg>\n",
              "      </button>\n",
              "      \n",
              "  <style>\n",
              "    .colab-df-container {\n",
              "      display:flex;\n",
              "      flex-wrap:wrap;\n",
              "      gap: 12px;\n",
              "    }\n",
              "\n",
              "    .colab-df-convert {\n",
              "      background-color: #E8F0FE;\n",
              "      border: none;\n",
              "      border-radius: 50%;\n",
              "      cursor: pointer;\n",
              "      display: none;\n",
              "      fill: #1967D2;\n",
              "      height: 32px;\n",
              "      padding: 0 0 0 0;\n",
              "      width: 32px;\n",
              "    }\n",
              "\n",
              "    .colab-df-convert:hover {\n",
              "      background-color: #E2EBFA;\n",
              "      box-shadow: 0px 1px 2px rgba(60, 64, 67, 0.3), 0px 1px 3px 1px rgba(60, 64, 67, 0.15);\n",
              "      fill: #174EA6;\n",
              "    }\n",
              "\n",
              "    [theme=dark] .colab-df-convert {\n",
              "      background-color: #3B4455;\n",
              "      fill: #D2E3FC;\n",
              "    }\n",
              "\n",
              "    [theme=dark] .colab-df-convert:hover {\n",
              "      background-color: #434B5C;\n",
              "      box-shadow: 0px 1px 3px 1px rgba(0, 0, 0, 0.15);\n",
              "      filter: drop-shadow(0px 1px 2px rgba(0, 0, 0, 0.3));\n",
              "      fill: #FFFFFF;\n",
              "    }\n",
              "  </style>\n",
              "\n",
              "      <script>\n",
              "        const buttonEl =\n",
              "          document.querySelector('#df-a0812a23-7bad-483a-bde6-02d8fa42349b button.colab-df-convert');\n",
              "        buttonEl.style.display =\n",
              "          google.colab.kernel.accessAllowed ? 'block' : 'none';\n",
              "\n",
              "        async function convertToInteractive(key) {\n",
              "          const element = document.querySelector('#df-a0812a23-7bad-483a-bde6-02d8fa42349b');\n",
              "          const dataTable =\n",
              "            await google.colab.kernel.invokeFunction('convertToInteractive',\n",
              "                                                     [key], {});\n",
              "          if (!dataTable) return;\n",
              "\n",
              "          const docLinkHtml = 'Like what you see? Visit the ' +\n",
              "            '<a target=\"_blank\" href=https://colab.research.google.com/notebooks/data_table.ipynb>data table notebook</a>'\n",
              "            + ' to learn more about interactive tables.';\n",
              "          element.innerHTML = '';\n",
              "          dataTable['output_type'] = 'display_data';\n",
              "          await google.colab.output.renderOutput(dataTable, element);\n",
              "          const docLink = document.createElement('div');\n",
              "          docLink.innerHTML = docLinkHtml;\n",
              "          element.appendChild(docLink);\n",
              "        }\n",
              "      </script>\n",
              "    </div>\n",
              "  </div>\n",
              "  "
            ]
          },
          "metadata": {},
          "execution_count": 9
        }
      ]
    },
    {
      "cell_type": "markdown",
      "source": [
        "Our dataframe consist of four columns named Id, Title, Body and Tags"
      ],
      "metadata": {
        "id": "Jand1EDbR6qb"
      }
    },
    {
      "cell_type": "code",
      "source": [
        "data.drop('Id',axis=1,inplace=True)\n",
        "data.head(3)"
      ],
      "metadata": {
        "colab": {
          "base_uri": "https://localhost:8080/",
          "height": 143
        },
        "id": "qjTBYqiVxWp1",
        "outputId": "37171295-bb75-45b8-d992-43c3f3c6cac2"
      },
      "execution_count": 10,
      "outputs": [
        {
          "output_type": "execute_result",
          "data": {
            "text/plain": [
              "                                               Title  \\\n",
              "0  How to check if an uploaded file is an image w...   \n",
              "1  How can I prevent firefox from closing when I ...   \n",
              "2           R Error Invalid type (list) for variable   \n",
              "\n",
              "                                                Body  \\\n",
              "0  <p>I'd like to check if an uploaded file is an...   \n",
              "1  <p>In my favorite editor (vim), I regularly us...   \n",
              "2  <p>I am import matlab file and construct a dat...   \n",
              "\n",
              "                                                Tags  \n",
              "0  php image-processing file-upload upload mime-t...  \n",
              "1                                            firefox  \n",
              "2                          r matlab machine-learning  "
            ],
            "text/html": [
              "\n",
              "  <div id=\"df-d1d02181-029b-4414-98b8-db11e4236830\">\n",
              "    <div class=\"colab-df-container\">\n",
              "      <div>\n",
              "<style scoped>\n",
              "    .dataframe tbody tr th:only-of-type {\n",
              "        vertical-align: middle;\n",
              "    }\n",
              "\n",
              "    .dataframe tbody tr th {\n",
              "        vertical-align: top;\n",
              "    }\n",
              "\n",
              "    .dataframe thead th {\n",
              "        text-align: right;\n",
              "    }\n",
              "</style>\n",
              "<table border=\"1\" class=\"dataframe\">\n",
              "  <thead>\n",
              "    <tr style=\"text-align: right;\">\n",
              "      <th></th>\n",
              "      <th>Title</th>\n",
              "      <th>Body</th>\n",
              "      <th>Tags</th>\n",
              "    </tr>\n",
              "  </thead>\n",
              "  <tbody>\n",
              "    <tr>\n",
              "      <th>0</th>\n",
              "      <td>How to check if an uploaded file is an image w...</td>\n",
              "      <td>&lt;p&gt;I'd like to check if an uploaded file is an...</td>\n",
              "      <td>php image-processing file-upload upload mime-t...</td>\n",
              "    </tr>\n",
              "    <tr>\n",
              "      <th>1</th>\n",
              "      <td>How can I prevent firefox from closing when I ...</td>\n",
              "      <td>&lt;p&gt;In my favorite editor (vim), I regularly us...</td>\n",
              "      <td>firefox</td>\n",
              "    </tr>\n",
              "    <tr>\n",
              "      <th>2</th>\n",
              "      <td>R Error Invalid type (list) for variable</td>\n",
              "      <td>&lt;p&gt;I am import matlab file and construct a dat...</td>\n",
              "      <td>r matlab machine-learning</td>\n",
              "    </tr>\n",
              "  </tbody>\n",
              "</table>\n",
              "</div>\n",
              "      <button class=\"colab-df-convert\" onclick=\"convertToInteractive('df-d1d02181-029b-4414-98b8-db11e4236830')\"\n",
              "              title=\"Convert this dataframe to an interactive table.\"\n",
              "              style=\"display:none;\">\n",
              "        \n",
              "  <svg xmlns=\"http://www.w3.org/2000/svg\" height=\"24px\"viewBox=\"0 0 24 24\"\n",
              "       width=\"24px\">\n",
              "    <path d=\"M0 0h24v24H0V0z\" fill=\"none\"/>\n",
              "    <path d=\"M18.56 5.44l.94 2.06.94-2.06 2.06-.94-2.06-.94-.94-2.06-.94 2.06-2.06.94zm-11 1L8.5 8.5l.94-2.06 2.06-.94-2.06-.94L8.5 2.5l-.94 2.06-2.06.94zm10 10l.94 2.06.94-2.06 2.06-.94-2.06-.94-.94-2.06-.94 2.06-2.06.94z\"/><path d=\"M17.41 7.96l-1.37-1.37c-.4-.4-.92-.59-1.43-.59-.52 0-1.04.2-1.43.59L10.3 9.45l-7.72 7.72c-.78.78-.78 2.05 0 2.83L4 21.41c.39.39.9.59 1.41.59.51 0 1.02-.2 1.41-.59l7.78-7.78 2.81-2.81c.8-.78.8-2.07 0-2.86zM5.41 20L4 18.59l7.72-7.72 1.47 1.35L5.41 20z\"/>\n",
              "  </svg>\n",
              "      </button>\n",
              "      \n",
              "  <style>\n",
              "    .colab-df-container {\n",
              "      display:flex;\n",
              "      flex-wrap:wrap;\n",
              "      gap: 12px;\n",
              "    }\n",
              "\n",
              "    .colab-df-convert {\n",
              "      background-color: #E8F0FE;\n",
              "      border: none;\n",
              "      border-radius: 50%;\n",
              "      cursor: pointer;\n",
              "      display: none;\n",
              "      fill: #1967D2;\n",
              "      height: 32px;\n",
              "      padding: 0 0 0 0;\n",
              "      width: 32px;\n",
              "    }\n",
              "\n",
              "    .colab-df-convert:hover {\n",
              "      background-color: #E2EBFA;\n",
              "      box-shadow: 0px 1px 2px rgba(60, 64, 67, 0.3), 0px 1px 3px 1px rgba(60, 64, 67, 0.15);\n",
              "      fill: #174EA6;\n",
              "    }\n",
              "\n",
              "    [theme=dark] .colab-df-convert {\n",
              "      background-color: #3B4455;\n",
              "      fill: #D2E3FC;\n",
              "    }\n",
              "\n",
              "    [theme=dark] .colab-df-convert:hover {\n",
              "      background-color: #434B5C;\n",
              "      box-shadow: 0px 1px 3px 1px rgba(0, 0, 0, 0.15);\n",
              "      filter: drop-shadow(0px 1px 2px rgba(0, 0, 0, 0.3));\n",
              "      fill: #FFFFFF;\n",
              "    }\n",
              "  </style>\n",
              "\n",
              "      <script>\n",
              "        const buttonEl =\n",
              "          document.querySelector('#df-d1d02181-029b-4414-98b8-db11e4236830 button.colab-df-convert');\n",
              "        buttonEl.style.display =\n",
              "          google.colab.kernel.accessAllowed ? 'block' : 'none';\n",
              "\n",
              "        async function convertToInteractive(key) {\n",
              "          const element = document.querySelector('#df-d1d02181-029b-4414-98b8-db11e4236830');\n",
              "          const dataTable =\n",
              "            await google.colab.kernel.invokeFunction('convertToInteractive',\n",
              "                                                     [key], {});\n",
              "          if (!dataTable) return;\n",
              "\n",
              "          const docLinkHtml = 'Like what you see? Visit the ' +\n",
              "            '<a target=\"_blank\" href=https://colab.research.google.com/notebooks/data_table.ipynb>data table notebook</a>'\n",
              "            + ' to learn more about interactive tables.';\n",
              "          element.innerHTML = '';\n",
              "          dataTable['output_type'] = 'display_data';\n",
              "          await google.colab.output.renderOutput(dataTable, element);\n",
              "          const docLink = document.createElement('div');\n",
              "          docLink.innerHTML = docLinkHtml;\n",
              "          element.appendChild(docLink);\n",
              "        }\n",
              "      </script>\n",
              "    </div>\n",
              "  </div>\n",
              "  "
            ]
          },
          "metadata": {},
          "execution_count": 10
        }
      ]
    },
    {
      "cell_type": "code",
      "source": [
        "data.info()"
      ],
      "metadata": {
        "colab": {
          "base_uri": "https://localhost:8080/"
        },
        "id": "8K548m0W52Hb",
        "outputId": "58639c9a-400f-450c-bdbc-a4ebc4aefc5d"
      },
      "execution_count": 11,
      "outputs": [
        {
          "output_type": "stream",
          "name": "stdout",
          "text": [
            "<class 'pandas.core.frame.DataFrame'>\n",
            "RangeIndex: 50000 entries, 0 to 49999\n",
            "Data columns (total 3 columns):\n",
            " #   Column  Non-Null Count  Dtype \n",
            "---  ------  --------------  ----- \n",
            " 0   Title   50000 non-null  object\n",
            " 1   Body    50000 non-null  object\n",
            " 2   Tags    50000 non-null  object\n",
            "dtypes: object(3)\n",
            "memory usage: 1.1+ MB\n"
          ]
        }
      ]
    },
    {
      "cell_type": "code",
      "source": [
        "data.shape"
      ],
      "metadata": {
        "colab": {
          "base_uri": "https://localhost:8080/"
        },
        "id": "visl-ewX5_on",
        "outputId": "d42ada2e-ffe6-49fd-e3ea-5a389b0be427"
      },
      "execution_count": 12,
      "outputs": [
        {
          "output_type": "execute_result",
          "data": {
            "text/plain": [
              "(50000, 3)"
            ]
          },
          "metadata": {},
          "execution_count": 12
        }
      ]
    },
    {
      "cell_type": "code",
      "source": [
        "data.isnull().values.any()"
      ],
      "metadata": {
        "colab": {
          "base_uri": "https://localhost:8080/"
        },
        "id": "OPDiog-36Jlh",
        "outputId": "651577ab-fe3b-4062-cc7c-5503cddfdc0b"
      },
      "execution_count": 13,
      "outputs": [
        {
          "output_type": "execute_result",
          "data": {
            "text/plain": [
              "False"
            ]
          },
          "metadata": {},
          "execution_count": 13
        }
      ]
    },
    {
      "cell_type": "markdown",
      "source": [
        "Checking for null values and no null values are present"
      ],
      "metadata": {
        "id": "Gs9LoKYwSNqm"
      }
    },
    {
      "cell_type": "code",
      "source": [
        "data.columns"
      ],
      "metadata": {
        "colab": {
          "base_uri": "https://localhost:8080/"
        },
        "id": "56tczX7a6Pd_",
        "outputId": "761b245c-786f-4dfb-b2e3-b127432f0cdf"
      },
      "execution_count": 14,
      "outputs": [
        {
          "output_type": "execute_result",
          "data": {
            "text/plain": [
              "Index(['Title', 'Body', 'Tags'], dtype='object')"
            ]
          },
          "metadata": {},
          "execution_count": 14
        }
      ]
    },
    {
      "cell_type": "code",
      "source": [
        "data.duplicated().values.any()"
      ],
      "metadata": {
        "colab": {
          "base_uri": "https://localhost:8080/"
        },
        "id": "DuqhA5TN6bv7",
        "outputId": "9f55562e-5f91-4ce7-9a35-9204020df15e"
      },
      "execution_count": 15,
      "outputs": [
        {
          "output_type": "execute_result",
          "data": {
            "text/plain": [
              "True"
            ]
          },
          "metadata": {},
          "execution_count": 15
        }
      ]
    },
    {
      "cell_type": "code",
      "source": [
        "data.drop_duplicates(inplace=True)"
      ],
      "metadata": {
        "id": "bgjxUp116hWC"
      },
      "execution_count": 16,
      "outputs": []
    },
    {
      "cell_type": "code",
      "source": [
        "data.duplicated().values.any()"
      ],
      "metadata": {
        "colab": {
          "base_uri": "https://localhost:8080/"
        },
        "id": "XBhPjUNx6l2X",
        "outputId": "492ddfd0-c5eb-4fb5-b398-c9e04782fda3"
      },
      "execution_count": 17,
      "outputs": [
        {
          "output_type": "execute_result",
          "data": {
            "text/plain": [
              "False"
            ]
          },
          "metadata": {},
          "execution_count": 17
        }
      ]
    },
    {
      "cell_type": "markdown",
      "source": [
        "Detected and removed any duplicate values"
      ],
      "metadata": {
        "id": "jgJtC92DSXmG"
      }
    },
    {
      "cell_type": "code",
      "source": [
        "data.info()"
      ],
      "metadata": {
        "colab": {
          "base_uri": "https://localhost:8080/"
        },
        "id": "qfsPaCI26nkN",
        "outputId": "a76c2128-4d15-4164-f061-a3612312d95c"
      },
      "execution_count": 18,
      "outputs": [
        {
          "output_type": "stream",
          "name": "stdout",
          "text": [
            "<class 'pandas.core.frame.DataFrame'>\n",
            "Int64Index: 49857 entries, 0 to 49999\n",
            "Data columns (total 3 columns):\n",
            " #   Column  Non-Null Count  Dtype \n",
            "---  ------  --------------  ----- \n",
            " 0   Title   49857 non-null  object\n",
            " 1   Body    49857 non-null  object\n",
            " 2   Tags    49857 non-null  object\n",
            "dtypes: object(3)\n",
            "memory usage: 1.5+ MB\n"
          ]
        }
      ]
    },
    {
      "cell_type": "code",
      "source": [
        "sample_title=data[\"Title\"][20]\n",
        "sample_body=data[\"Body\"][20]"
      ],
      "metadata": {
        "id": "2sjr6b-b7czH"
      },
      "execution_count": 19,
      "outputs": []
    },
    {
      "cell_type": "code",
      "source": [
        "print(f\"Sample Title : {sample_title}\")\n",
        "print(f\"Sample Body : {sample_body}\")"
      ],
      "metadata": {
        "colab": {
          "base_uri": "https://localhost:8080/"
        },
        "id": "g9TNm4sw7nCn",
        "outputId": "20edea5c-db71-422b-e919-2ad1a9b8fb89"
      },
      "execution_count": 20,
      "outputs": [
        {
          "output_type": "stream",
          "name": "stdout",
          "text": [
            "Sample Title : Are cancer recovery rates the same as they were in 1920?\n",
            "Sample Body : <p><strong>Related:</strong> <a href=\"http://skeptics.stackexchange.com/questions/3131/have-any-cures-been-invented-since-the-1950s-or-so\">Have any “cures” been invented since the 1950's or so?</a></p>\n",
            "\n",
            "<hr>\n",
            "\n",
            "<p>I ran across the movie <a href=\"http://cutpoisonburn.com/\">Cut Poison Burn</a>, who's abstract is as follows:</p>\n",
            "\n",
            "<blockquote>\n",
            "  <p>Cut Poison Burn is a controversial, eye opening, and sometimes heartbreaking documentary that puts the business of cancer treatment under the microscope. Follow the frustrating journeys of critically ill cancer patients as they try to navigate the confusing and dangerous maze of treatment and encounter formidable obstacles in the “cancer industrial complex.”  A compelling critique of the influence of medical monopolies, the power of pharmaceutical companies and government agencies, Cut Poison Burn is essential viewing for anyone and everyone touched by cancer.</p>\n",
            "</blockquote>\n",
            "\n",
            "<p>The movie may advocate (haven't watched the whole thing) some kind of new, pennies-per-session treatment a la <a href=\"http://skeptics.stackexchange.com/questions/4611/does-burzynski-have-a-miracle-cancer-cure-being-suppressed-by-the-fda\">Burzynski</a>, or at least <a href=\"http://articles.mercola.com/sites/articles/archive/2011/09/19/cut-poison-burn.aspx\">Dr. Mercola is using it to do so</a>.</p>\n",
            "\n",
            "<p>There are a myriad of claims in the movie, I'm sure (I only watched the first 10min), but I'd like to address one in particular that struck me (<a href=\"http://vimeo.com/26874089\">occurs starting at the 7min mark</a>). It is made by Charles B. Simone, M.MS, M.D., founder of the <a href=\"http://www.drsimone.com/center.htm\">Simone Protective Cancer Center</a> (transcripted by me; may contain small errors):</p>\n",
            "\n",
            "<blockquote>\n",
            "  <p>From 1920 to the present time, we have made little or no progress in the treatment of adult cancers. So a person who gets prostate cancer or breast cancer today will live as long as a person who got it in 1920. No big change. With all the radiation therapy that began in the 10's and 20's, combination chemotherapy in the 60's, immunotherapy that began in the 70's, PET scans, MRI scans, you name it, billions and billions and billions of research dollar that we've thrown into this whole area of cancer research and treatment... little or no significant progress in the treatment of adult cancers.</p>\n",
            "</blockquote>\n",
            "\n",
            "<p>Is this the case? Has no treatment since 1920 done anything to increase the chance of [long-term] survival of adults who have cancer?</p>\n",
            "\n"
          ]
        }
      ]
    },
    {
      "cell_type": "code",
      "source": [
        "from sklearn.feature_extraction.text import CountVectorizer"
      ],
      "metadata": {
        "id": "s27ytGSi7rR9"
      },
      "execution_count": 21,
      "outputs": []
    },
    {
      "cell_type": "code",
      "source": [
        "vectorizer = CountVectorizer(tokenizer = lambda x: x.split())\n",
        "tag_matrix=vectorizer.fit_transform(data['Tags'])"
      ],
      "metadata": {
        "colab": {
          "base_uri": "https://localhost:8080/"
        },
        "id": "xGpdRVUP8jjo",
        "outputId": "18c59cab-a340-4eb9-d3c2-d89612ccc735"
      },
      "execution_count": 22,
      "outputs": [
        {
          "output_type": "stream",
          "name": "stderr",
          "text": [
            "/usr/local/lib/python3.8/dist-packages/sklearn/feature_extraction/text.py:528: UserWarning: The parameter 'token_pattern' will not be used since 'tokenizer' is not None'\n",
            "  warnings.warn(\n"
          ]
        }
      ]
    },
    {
      "cell_type": "markdown",
      "source": [
        "Converted the text data in Tags column to a matrix of token counts by breaking down the text into individual words"
      ],
      "metadata": {
        "id": "YNk-9xOk_rV-"
      }
    },
    {
      "cell_type": "code",
      "source": [
        "tag_matrix.shape"
      ],
      "metadata": {
        "colab": {
          "base_uri": "https://localhost:8080/"
        },
        "id": "6L0y0WTc8pqT",
        "outputId": "f68cab4f-3cc4-49fb-90a5-58fd14a9608a"
      },
      "execution_count": 23,
      "outputs": [
        {
          "output_type": "execute_result",
          "data": {
            "text/plain": [
              "(49857, 13892)"
            ]
          },
          "metadata": {},
          "execution_count": 23
        }
      ]
    },
    {
      "cell_type": "markdown",
      "source": [
        "We have 49857 unique datapoints and 13892 unique tags"
      ],
      "metadata": {
        "id": "AGKudEydF4yG"
      }
    },
    {
      "cell_type": "code",
      "source": [
        "import sklearn"
      ],
      "metadata": {
        "id": "TpA9RVO2-e93"
      },
      "execution_count": 24,
      "outputs": []
    },
    {
      "cell_type": "code",
      "source": [
        "print(sklearn.__version__)"
      ],
      "metadata": {
        "colab": {
          "base_uri": "https://localhost:8080/"
        },
        "id": "xCEbI4wt-0_V",
        "outputId": "febc8d9a-2634-43d5-96b9-b5253996ef86"
      },
      "execution_count": 25,
      "outputs": [
        {
          "output_type": "stream",
          "name": "stdout",
          "text": [
            "1.2.1\n"
          ]
        }
      ]
    },
    {
      "cell_type": "code",
      "source": [
        "tags = vectorizer.get_feature_names_out()"
      ],
      "metadata": {
        "id": "aHj7L5Q58sz-"
      },
      "execution_count": 26,
      "outputs": []
    },
    {
      "cell_type": "code",
      "source": [
        "print(tags[:10])"
      ],
      "metadata": {
        "colab": {
          "base_uri": "https://localhost:8080/"
        },
        "id": "-3UyfkYi-Cwu",
        "outputId": "f834ecf9-62e5-413c-b428-b7e21d959e1e"
      },
      "execution_count": 27,
      "outputs": [
        {
          "output_type": "stream",
          "name": "stdout",
          "text": [
            "['.class-file' '.each' '.emf' '.hgtags' '.htaccess' '.htpasswd' '.mov'\n",
            " '.net' '.net-1.1' '.net-2.0']\n"
          ]
        }
      ]
    },
    {
      "cell_type": "code",
      "source": [
        "frequency = tag_matrix.sum(axis=0).A1\n",
        "tags_frequency=dict(zip(tags,frequency))"
      ],
      "metadata": {
        "id": "dDz-phQb_HUa"
      },
      "execution_count": 28,
      "outputs": []
    },
    {
      "cell_type": "markdown",
      "source": [
        "Calculated the frequency of each tag in tag matrix and stored them in tags_frequency dictionary"
      ],
      "metadata": {
        "id": "aVzPjAKa_mYJ"
      }
    },
    {
      "cell_type": "code",
      "source": [
        "tags_frequency"
      ],
      "metadata": {
        "colab": {
          "base_uri": "https://localhost:8080/"
        },
        "id": "9eYGkY8d_Lm-",
        "outputId": "02a00030-a5ec-4519-8e92-97cdabf66dd3"
      },
      "execution_count": 29,
      "outputs": [
        {
          "output_type": "execute_result",
          "data": {
            "text/plain": [
              "{'.class-file': 1,\n",
              " '.each': 6,\n",
              " '.emf': 1,\n",
              " '.hgtags': 1,\n",
              " '.htaccess': 175,\n",
              " '.htpasswd': 1,\n",
              " '.mov': 1,\n",
              " '.net': 1319,\n",
              " '.net-1.1': 1,\n",
              " '.net-2.0': 17,\n",
              " '.net-3.5': 40,\n",
              " '.net-4.0': 62,\n",
              " '.net-4.5': 8,\n",
              " '.net-assembly': 12,\n",
              " '.net-cf-3.5': 1,\n",
              " '.net-framework': 2,\n",
              " '.net-remoting': 1,\n",
              " '.net2.0': 1,\n",
              " '.net4.0': 2,\n",
              " '.nettiers': 1,\n",
              " '.obj': 1,\n",
              " '.post': 2,\n",
              " '.refresh': 1,\n",
              " '.war': 1,\n",
              " '.x': 2,\n",
              " '1080p': 2,\n",
              " '10gbethernet': 1,\n",
              " '10gige': 1,\n",
              " '1and1': 2,\n",
              " '2003': 1,\n",
              " '2007': 43,\n",
              " '2010': 63,\n",
              " '2013': 8,\n",
              " '24bit': 1,\n",
              " '2d': 19,\n",
              " '2d-array': 7,\n",
              " '2d-games': 1,\n",
              " '2wire': 1,\n",
              " '3-tier': 1,\n",
              " '3.0': 9,\n",
              " '3.0.1': 1,\n",
              " '301-redirect': 1,\n",
              " '32-bit': 6,\n",
              " '32bit': 2,\n",
              " '32bit-64bit': 9,\n",
              " '3d': 46,\n",
              " '3d-engine': 1,\n",
              " '3d-model': 2,\n",
              " '3d-modelling': 1,\n",
              " '3des': 2,\n",
              " '3dsmax': 3,\n",
              " '3g': 8,\n",
              " '3rd-party-library': 1,\n",
              " '401': 1,\n",
              " '403': 1,\n",
              " '404': 1,\n",
              " '404-error': 5,\n",
              " '4d': 1,\n",
              " '5.1': 1,\n",
              " '500-error': 1,\n",
              " '64-bit': 36,\n",
              " '64bit': 17,\n",
              " '6502': 1,\n",
              " '6510': 1,\n",
              " '68000': 1,\n",
              " '7-zip': 5,\n",
              " '70-667': 1,\n",
              " '7zip': 5,\n",
              " '802.11': 1,\n",
              " '802.11n': 1,\n",
              " '8086': 3,\n",
              " '8bit': 1,\n",
              " '9-bit-serial': 1,\n",
              " '9p': 1,\n",
              " 'a-record': 3,\n",
              " 'a-star': 1,\n",
              " 'aabb': 1,\n",
              " 'aapt': 1,\n",
              " 'abaddressbook': 3,\n",
              " 'abap': 4,\n",
              " 'abelian-groups': 5,\n",
              " 'aberration': 1,\n",
              " 'abpersonviewcontroller': 1,\n",
              " 'abrecord': 1,\n",
              " 'absolute-path': 4,\n",
              " 'absolute-positioning': 6,\n",
              " 'absolute-value': 3,\n",
              " 'abstract': 8,\n",
              " 'abstract-algebra': 79,\n",
              " 'abstract-class': 9,\n",
              " 'abstract-data-type': 1,\n",
              " 'abstract-syntax-tree': 2,\n",
              " 'abstract-type': 1,\n",
              " 'abstraction': 3,\n",
              " 'abstracttablemodel': 1,\n",
              " 'abtest': 1,\n",
              " 'ac-adapter': 1,\n",
              " 'acc': 1,\n",
              " 'accelerate-framework': 1,\n",
              " 'accelerated-c++': 1,\n",
              " 'acceleration': 1,\n",
              " 'accelerometer': 8,\n",
              " 'accented-strings': 1,\n",
              " 'accept': 1,\n",
              " 'acceptance-testing': 1,\n",
              " 'access': 9,\n",
              " 'access-control': 6,\n",
              " 'access-denied': 2,\n",
              " 'access-list': 1,\n",
              " 'access-log': 1,\n",
              " 'access-modifiers': 3,\n",
              " 'access-point': 1,\n",
              " 'access-specifier': 1,\n",
              " 'access-token': 3,\n",
              " 'access-vba': 10,\n",
              " 'access-violation': 4,\n",
              " 'accessibility': 20,\n",
              " 'accessor': 4,\n",
              " 'accessory': 1,\n",
              " 'accordion': 10,\n",
              " 'accordionpane': 1,\n",
              " 'account': 3,\n",
              " 'account-restrictions': 1,\n",
              " 'accounting': 1,\n",
              " 'accountmanager': 2,\n",
              " 'accounts': 1,\n",
              " 'accuracy': 1,\n",
              " 'accurev': 1,\n",
              " 'ace': 2,\n",
              " 'acer-aspire': 2,\n",
              " 'acer-revo': 1,\n",
              " 'achartengine': 6,\n",
              " 'achemso': 1,\n",
              " 'ack': 1,\n",
              " 'ackermann': 2,\n",
              " 'acl': 8,\n",
              " 'acm': 1,\n",
              " 'acpi': 2,\n",
              " 'acrobat': 5,\n",
              " 'acronis': 1,\n",
              " 'acronyms': 6,\n",
              " 'acs': 1,\n",
              " 'action': 19,\n",
              " 'action-filter': 4,\n",
              " 'actionbarsherlock': 7,\n",
              " 'actionfilterattribute': 1,\n",
              " 'actionform': 1,\n",
              " 'actionlink': 6,\n",
              " 'actionlistener': 5,\n",
              " 'actionmailer': 9,\n",
              " 'actionmethod': 1,\n",
              " 'actions': 1,\n",
              " 'actionscript': 59,\n",
              " 'actionscript-2': 12,\n",
              " 'actionscript-3': 252,\n",
              " 'actionview': 2,\n",
              " 'activation': 5,\n",
              " 'active': 1,\n",
              " 'active-directory': 83,\n",
              " 'active-directory-group': 1,\n",
              " 'active-relation': 1,\n",
              " 'activeadmin': 7,\n",
              " 'activemerchant': 2,\n",
              " 'activemodel': 2,\n",
              " 'activemq': 14,\n",
              " 'activerecord': 90,\n",
              " 'activereports': 1,\n",
              " 'activestate': 1,\n",
              " 'activesync': 3,\n",
              " 'activex': 20,\n",
              " 'activex-exe': 1,\n",
              " 'activexobject': 4,\n",
              " 'activity': 49,\n",
              " 'activity-diagram': 1,\n",
              " 'activity-feed': 1,\n",
              " 'activity-finish': 1,\n",
              " 'activity-indicator': 1,\n",
              " 'activity-lifecycle': 2,\n",
              " 'activity-stack': 2,\n",
              " 'activity-state': 1,\n",
              " 'activitydesigner': 1,\n",
              " 'activitygroup': 1,\n",
              " 'actor': 5,\n",
              " 'acts-as-list': 2,\n",
              " 'ad-certificate-services': 3,\n",
              " 'ad-hoc': 1,\n",
              " 'ad-hoc-distribution': 1,\n",
              " 'ad-hoc-network': 3,\n",
              " 'ada': 7,\n",
              " 'adam': 1,\n",
              " 'adaptec': 1,\n",
              " 'adapter': 17,\n",
              " 'adb': 11,\n",
              " 'add': 8,\n",
              " 'add-action': 2,\n",
              " 'add-filter': 1,\n",
              " 'add-in': 21,\n",
              " 'add-on': 4,\n",
              " 'add-rewrite-rule': 2,\n",
              " 'add-settings-field': 1,\n",
              " 'add-settings-section': 1,\n",
              " 'addchild': 3,\n",
              " 'addclass': 2,\n",
              " 'addeventlistener': 1,\n",
              " 'adding': 5,\n",
              " 'addition': 1,\n",
              " 'addremoveprograms': 1,\n",
              " 'address': 6,\n",
              " 'address-bar': 1,\n",
              " 'address-book': 1,\n",
              " 'address-space': 1,\n",
              " 'addressbook': 4,\n",
              " 'addressing': 1,\n",
              " 'addsubview': 5,\n",
              " 'addthis': 2,\n",
              " 'adfs': 4,\n",
              " 'adfs2.0': 4,\n",
              " 'adhoc': 2,\n",
              " 'adhoc-network': 1,\n",
              " 'adium': 1,\n",
              " 'adjoint': 2,\n",
              " 'admin': 28,\n",
              " 'admin-bar': 4,\n",
              " 'admin-generator': 1,\n",
              " 'admin-menu': 2,\n",
              " 'adminhtml': 1,\n",
              " 'administration': 16,\n",
              " 'administrator': 12,\n",
              " 'admob': 13,\n",
              " 'ado': 11,\n",
              " 'ado-net-dataservices': 1,\n",
              " 'ado.net': 47,\n",
              " 'ado.net-entity-data-model': 6,\n",
              " 'adobe': 34,\n",
              " 'adobe-acrobat': 2,\n",
              " 'adobe-contribute': 1,\n",
              " 'adobe-cs4': 1,\n",
              " 'adobe-cs5': 2,\n",
              " 'adobe-fireworks': 1,\n",
              " 'adobe-flash': 2,\n",
              " 'adobe-illustrator': 9,\n",
              " 'adobe-indesign': 2,\n",
              " 'adobe-lightroom': 1,\n",
              " 'adobe-photoshop': 10,\n",
              " 'adobe-reader': 7,\n",
              " 'adodb': 4,\n",
              " 'adolf-hitler': 1,\n",
              " 'adomd.net': 1,\n",
              " 'adorner': 1,\n",
              " 'adrotator': 1,\n",
              " 'ads': 7,\n",
              " 'adsense': 6,\n",
              " 'adserver': 1,\n",
              " 'adsi': 1,\n",
              " 'adsl': 4,\n",
              " 'adt': 8,\n",
              " 'advanced-custom-fields': 2,\n",
              " 'advanced-format': 1,\n",
              " 'advanced-search': 1,\n",
              " 'advanceddatagrid': 3,\n",
              " 'advancements': 1,\n",
              " 'advantage-database-server': 2,\n",
              " 'adventureworks': 1,\n",
              " 'advertisement': 2,\n",
              " 'advertisements': 1,\n",
              " 'advertising': 2,\n",
              " 'advice': 4,\n",
              " 'adware': 1,\n",
              " 'adwhirl': 2,\n",
              " 'adwords': 3,\n",
              " 'aec': 1,\n",
              " 'aero': 5,\n",
              " 'aero-glass': 1,\n",
              " 'aero-snap': 1,\n",
              " 'aes': 20,\n",
              " 'affiliate': 1,\n",
              " 'affine-geometry': 1,\n",
              " 'affinity': 2,\n",
              " 'afnetworking': 3,\n",
              " 'aforge': 4,\n",
              " 'afp': 1,\n",
              " 'africa': 1,\n",
              " 'after-effects': 1,\n",
              " 'agda': 1,\n",
              " 'agent': 3,\n",
              " 'agents': 1,\n",
              " 'agents-jade': 1,\n",
              " 'aggregate': 15,\n",
              " 'aggregate-functions': 8,\n",
              " 'aggregation': 2,\n",
              " 'agile': 18,\n",
              " 'agpl': 2,\n",
              " 'aide': 1,\n",
              " 'aidl': 4,\n",
              " 'aif': 1,\n",
              " 'aio-write': 1,\n",
              " 'air': 48,\n",
              " 'air-conditioning': 1,\n",
              " 'air-native-extension': 2,\n",
              " 'aironet': 1,\n",
              " 'airplay': 2,\n",
              " 'airport': 2,\n",
              " 'airport-express': 1,\n",
              " 'airport-extreme': 1,\n",
              " 'airprint': 1,\n",
              " 'aix': 9,\n",
              " 'ajax': 480,\n",
              " 'ajax-upload': 4,\n",
              " 'ajax.net': 1,\n",
              " 'ajax4jsf': 4,\n",
              " 'ajaxcontroltoolkit': 10,\n",
              " 'ajaxform': 2,\n",
              " 'ajaxtoolkit': 6,\n",
              " 'ajdt': 1,\n",
              " 'ajp': 1,\n",
              " 'akka': 4,\n",
              " 'alarm': 4,\n",
              " 'alarmmanager': 7,\n",
              " 'alasset': 3,\n",
              " 'alassetslibrary': 2,\n",
              " 'albpm': 1,\n",
              " 'album-art': 2,\n",
              " 'aleph': 1,\n",
              " 'alert': 13,\n",
              " 'alertdialog': 10,\n",
              " 'alerts': 4,\n",
              " 'alertview': 1,\n",
              " 'alexa': 2,\n",
              " 'alfresco': 9,\n",
              " 'algebra': 1,\n",
              " 'algebra-precalculus': 75,\n",
              " 'algebraic-complexity': 1,\n",
              " 'algebraic-curves': 2,\n",
              " 'algebraic-geometry': 36,\n",
              " 'algebraic-groups': 1,\n",
              " 'algebraic-number-theory': 14,\n",
              " 'algebraic-topology': 24,\n",
              " 'alglib': 1,\n",
              " 'algorithm': 244,\n",
              " 'algorithmic-trading': 1,\n",
              " 'algorithms': 36,\n",
              " 'alias': 17,\n",
              " 'aliens': 2,\n",
              " 'alienware': 1,\n",
              " 'align': 10,\n",
              " 'alignment': 22,\n",
              " 'allegro': 2,\n",
              " 'allegrograph': 2,\n",
              " 'alloca': 1,\n",
              " 'allocation': 2,\n",
              " 'allocator': 2,\n",
              " 'alpha': 1,\n",
              " 'alpha-transparency': 1,\n",
              " 'alphabet': 2,\n",
              " 'alphabetical': 3,\n",
              " 'alphablending': 5,\n",
              " 'alphanumeric': 1,\n",
              " 'alsa': 2,\n",
              " 'alt': 4,\n",
              " 'alt-tab': 1,\n",
              " 'alter': 2,\n",
              " 'alter-table': 1,\n",
              " 'alternate-access-mapping': 2,\n",
              " 'alternate-access-mappings': 1,\n",
              " 'alternate-data-stream': 1,\n",
              " 'alternative': 2,\n",
              " 'alternative-proof': 2,\n",
              " 'alternatives-to': 2,\n",
              " 'altivec': 1,\n",
              " 'altova': 1,\n",
              " 'always-on-top': 1,\n",
              " 'amavis': 2,\n",
              " 'amazon': 15,\n",
              " 'amazon-ami': 3,\n",
              " 'amazon-cloudfront': 1,\n",
              " 'amazon-cloudsearch': 1,\n",
              " 'amazon-dynamodb': 3,\n",
              " 'amazon-ebs': 6,\n",
              " 'amazon-ec2': 91,\n",
              " 'amazon-elastic-ip': 2,\n",
              " 'amazon-elasticache': 1,\n",
              " 'amazon-elb': 1,\n",
              " 'amazon-emr': 2,\n",
              " 'amazon-product-api': 2,\n",
              " 'amazon-rds': 8,\n",
              " 'amazon-route53': 2,\n",
              " 'amazon-s3': 31,\n",
              " 'amazon-ses': 1,\n",
              " 'amazon-sqs': 2,\n",
              " 'amazon-vpc': 1,\n",
              " 'amazon-web-services': 64,\n",
              " 'ambiguity': 5,\n",
              " 'amd': 1,\n",
              " 'amd-catalyst': 2,\n",
              " 'amd-radeon': 1,\n",
              " 'amf': 4,\n",
              " 'amfphp': 1,\n",
              " 'ami': 1,\n",
              " 'amiga': 1,\n",
              " 'ampersand': 2,\n",
              " 'amplifyjs': 1,\n",
              " 'amqp': 3,\n",
              " 'amsart': 2,\n",
              " 'amsbook': 1,\n",
              " 'amsmath': 13,\n",
              " 'amsrefs': 1,\n",
              " 'amsthm': 1,\n",
              " 'anagram': 1,\n",
              " 'analysis': 79,\n",
              " 'analysis-services': 1,\n",
              " 'analytic-functions': 1,\n",
              " 'analytic-geometry': 8,\n",
              " 'analytic-number-theory': 6,\n",
              " 'analyticity': 1,\n",
              " 'analytics': 16,\n",
              " 'analyzer': 1,\n",
              " 'anchor': 12,\n",
              " 'and-operator': 2,\n",
              " 'andengine': 9,\n",
              " 'android': 2673,\n",
              " 'android-2.0': 1,\n",
              " 'android-2.3': 1,\n",
              " 'android-3.0': 2,\n",
              " 'android-3.1': 2,\n",
              " 'android-4.0': 6,\n",
              " 'android-account': 1,\n",
              " 'android-actionbar': 12,\n",
              " 'android-activity': 14,\n",
              " 'android-adapter': 2,\n",
              " 'android-adapterview': 1,\n",
              " 'android-alarms': 2,\n",
              " 'android-alertdialog': 6,\n",
              " 'android-animation': 7,\n",
              " 'android-annotations': 1,\n",
              " 'android-api': 1,\n",
              " 'android-apk': 2,\n",
              " 'android-arrayadapter': 9,\n",
              " 'android-assets': 1,\n",
              " 'android-asynctask': 21,\n",
              " 'android-audiorecord': 2,\n",
              " 'android-broadcast': 3,\n",
              " 'android-browser': 1,\n",
              " 'android-button': 3,\n",
              " 'android-c2dm': 5,\n",
              " 'android-camera': 10,\n",
              " 'android-canvas': 8,\n",
              " 'android-compat-lib': 1,\n",
              " 'android-contacts': 3,\n",
              " 'android-contentprovider': 7,\n",
              " 'android-contentresolver': 2,\n",
              " 'android-context': 1,\n",
              " 'android-cursor': 1,\n",
              " 'android-custom-view': 4,\n",
              " 'android-date': 1,\n",
              " 'android-datepicker': 2,\n",
              " 'android-dialog': 2,\n",
              " 'android-dialogfragment': 2,\n",
              " 'android-eclair': 1,\n",
              " 'android-edittext': 7,\n",
              " 'android-emulator': 37,\n",
              " 'android-event': 5,\n",
              " 'android-file': 2,\n",
              " 'android-fragmentactivity': 2,\n",
              " 'android-fragments': 25,\n",
              " 'android-framework': 1,\n",
              " 'android-froyo': 1,\n",
              " 'android-gallery': 6,\n",
              " 'android-gcm': 1,\n",
              " 'android-gridlayout': 1,\n",
              " 'android-gridview': 4,\n",
              " 'android-gui': 3,\n",
              " 'android-handler': 1,\n",
              " 'android-hardware': 1,\n",
              " 'android-holo-everywhere': 1,\n",
              " 'android-image': 1,\n",
              " 'android-images': 6,\n",
              " 'android-imageview': 10,\n",
              " 'android-input-method': 1,\n",
              " 'android-intent': 73,\n",
              " 'android-ksoap2': 1,\n",
              " 'android-launcher': 1,\n",
              " 'android-layout': 137,\n",
              " 'android-lifecycle': 1,\n",
              " 'android-linearlayout': 14,\n",
              " 'android-listfragment': 2,\n",
              " 'android-listview': 42,\n",
              " 'android-loader': 1,\n",
              " 'android-loadermanager': 1,\n",
              " 'android-location': 2,\n",
              " 'android-logcat': 3,\n",
              " 'android-lru-cache': 1,\n",
              " 'android-lvl': 2,\n",
              " 'android-manifest': 20,\n",
              " 'android-maps': 5,\n",
              " 'android-maps-v2': 2,\n",
              " 'android-mapview': 13,\n",
              " 'android-market': 9,\n",
              " 'android-mediaplayer': 5,\n",
              " 'android-mediarecorder': 1,\n",
              " 'android-mediascanner': 1,\n",
              " 'android-menu': 2,\n",
              " 'android-monkey': 1,\n",
              " 'android-music-player': 1,\n",
              " 'android-ndk': 40,\n",
              " 'android-ndk-r5': 1,\n",
              " 'android-networking': 1,\n",
              " 'android-notification-bar': 3,\n",
              " 'android-notifications': 6,\n",
              " 'android-optionsmenu': 1,\n",
              " 'android-orientation': 1,\n",
              " 'android-overscoll': 1,\n",
              " 'android-pageradapter': 1,\n",
              " 'android-pendingintent': 1,\n",
              " 'android-performance': 1,\n",
              " 'android-preferences': 5,\n",
              " 'android-progressbar': 2,\n",
              " 'android-resources': 2,\n",
              " 'android-screen': 1,\n",
              " 'android-scrollview': 1,\n",
              " 'android-sdcard': 3,\n",
              " 'android-sdk-2.1': 1,\n",
              " 'android-sdk-2.2': 5,\n",
              " 'android-sdk-2.3': 3,\n",
              " 'android-sdk-tools': 1,\n",
              " 'android-searchmanager': 2,\n",
              " 'android-sensors': 5,\n",
              " 'android-service': 16,\n",
              " 'android-sliding': 3,\n",
              " 'android-softkeyboard': 8,\n",
              " 'android-source': 9,\n",
              " 'android-spinner': 5,\n",
              " 'android-sqlite': 5,\n",
              " 'android-stylesheeets': 1,\n",
              " 'android-tabactivity': 4,\n",
              " 'android-tabhost': 9,\n",
              " 'android-tablelayout': 3,\n",
              " 'android-tablet': 1,\n",
              " 'android-tabs': 6,\n",
              " 'android-testing': 2,\n",
              " 'android-textview': 7,\n",
              " 'android-theme': 3,\n",
              " 'android-ui': 7,\n",
              " 'android-view': 7,\n",
              " 'android-viewbinder': 1,\n",
              " 'android-viewpager': 12,\n",
              " 'android-wake-lock': 1,\n",
              " 'android-websettings': 1,\n",
              " 'android-webview': 19,\n",
              " 'android-widget': 46,\n",
              " 'android-wifi': 4,\n",
              " 'android-windowmanager': 1,\n",
              " 'android-wireless': 1,\n",
              " 'android-xml': 6,\n",
              " 'angle': 3,\n",
              " 'angstrom': 1,\n",
              " 'angstrom-linux': 1,\n",
              " 'angular': 2,\n",
              " 'angular-ui': 1,\n",
              " 'angularjs': 35,\n",
              " 'angularjs-directive': 1,\n",
              " 'angularjs-ng-include': 1,\n",
              " 'angularjs-scope': 1,\n",
              " 'animals': 1,\n",
              " 'animate': 1,\n",
              " 'animated': 1,\n",
              " 'animated-gif': 3,\n",
              " 'animation': 95,\n",
              " 'animationdrawable': 1,\n",
              " 'ankhsvn': 1,\n",
              " 'annotate': 2,\n",
              " 'annotations': 30,\n",
              " 'anonymity': 1,\n",
              " 'anonymous': 1,\n",
              " 'anonymous-authentication': 1,\n",
              " 'anonymous-class': 2,\n",
              " 'anonymous-function': 6,\n",
              " 'anonymous-inner-class': 1,\n",
              " 'anonymous-methods': 1,\n",
              " 'anonymous-types': 2,\n",
              " 'anorm': 1,\n",
              " 'anova': 1,\n",
              " 'ansi': 8,\n",
              " 'ant': 68,\n",
              " 'anti-aliasing': 3,\n",
              " 'anti-hacking': 1,\n",
              " 'anti-patterns': 6,\n",
              " 'anti-spyware': 1,\n",
              " 'anti-virus': 12,\n",
              " 'antialiasing': 2,\n",
              " 'antivirus': 9,\n",
              " 'antivirus-integration': 1,\n",
              " 'antlr': 12,\n",
              " 'antlr2': 1,\n",
              " 'antlr3': 3,\n",
              " 'anycast': 1,\n",
              " 'anymote': 1,\n",
              " 'anythingslider': 1,\n",
              " 'anytime-upgrade': 1,\n",
              " 'aol': 1,\n",
              " 'aop': 10,\n",
              " 'apa-style': 3,\n",
              " 'apache': 226,\n",
              " 'apache-axis': 1,\n",
              " 'apache-camel': 9,\n",
              " 'apache-commons': 9,\n",
              " 'apache-commons-beanutils': 2,\n",
              " 'apache-commons-cli': 1,\n",
              " 'apache-commons-codec': 1,\n",
              " 'apache-commons-dbcp': 1,\n",
              " 'apache-commons-exec': 2,\n",
              " 'apache-commons-httpclient': 2,\n",
              " 'apache-commons-logging': 1,\n",
              " 'apache-commons-math': 1,\n",
              " 'apache-commons-net': 1,\n",
              " 'apache-commons-vfs': 1,\n",
              " 'apache-felix': 2,\n",
              " 'apache-fop': 1,\n",
              " 'apache-httpclient-4.x': 2,\n",
              " 'apache-karaf': 4,\n",
              " 'apache-license': 1,\n",
              " 'apache-mina': 3,\n",
              " 'apache-modules': 4,\n",
              " 'apache-poi': 19,\n",
              " 'apache-shindig': 1,\n",
              " 'apache-tiles': 1,\n",
              " 'apache1': 1,\n",
              " 'apache2': 214,\n",
              " 'apache2.2': 1,\n",
              " 'apachebench': 2,\n",
              " 'apacheds': 1,\n",
              " 'apc': 4,\n",
              " 'aperture': 5,\n",
              " 'aperture-blades': 1,\n",
              " 'apex-code': 5,\n",
              " 'api': 189,\n",
              " 'api-design': 4,\n",
              " 'apimemberattribute': 1,\n",
              " 'apk': 16,\n",
              " 'apns': 4,\n",
              " 'apostrophe': 1,\n",
              " 'app-code': 1,\n",
              " 'app-config': 9,\n",
              " 'app-engine-ndb': 2,\n",
              " 'app-engine-patch': 1,\n",
              " 'app-hub': 1,\n",
              " 'app-id': 1,\n",
              " 'app-secret': 1,\n",
              " 'app-startup': 2,\n",
              " 'app-store': 28,\n",
              " 'app-themes': 1,\n",
              " 'appbar': 1,\n",
              " 'appcelerator': 11,\n",
              " 'appcelerator-mobile': 3,\n",
              " 'appcmd': 1,\n",
              " 'appcompat': 1,\n",
              " 'appdelegate': 4,\n",
              " 'appdomain': 3,\n",
              " 'appearance': 2,\n",
              " 'append': 24,\n",
              " 'appender': 1,\n",
              " 'appendices': 2,\n",
              " 'appendto': 1,\n",
              " 'appfabric': 8,\n",
              " 'appfabric-caching': 1,\n",
              " 'appfog': 2,\n",
              " 'appfuse': 1,\n",
              " 'appharbor': 3,\n",
              " 'appkit': 3,\n",
              " 'applaud': 1,\n",
              " 'apple': 32,\n",
              " 'apple-mail': 3,\n",
              " 'apple-push-notifications': 8,\n",
              " 'appledoc': 1,\n",
              " 'applescript': 28,\n",
              " 'applescript-objc': 1,\n",
              " 'applet': 29,\n",
              " 'appliance': 1,\n",
              " 'application': 86,\n",
              " 'application-bar': 1,\n",
              " 'application-blocks': 1,\n",
              " 'application-design': 2,\n",
              " 'application-icon': 1,\n",
              " 'application-loader': 1,\n",
              " 'application-name': 1,\n",
              " 'application-pages': 2,\n",
              " 'application-pool': 1,\n",
              " 'application-pools': 1,\n",
              " 'application-restart': 1,\n",
              " 'application-server': 4,\n",
              " 'application-settings': 1,\n",
              " 'application-state': 1,\n",
              " 'application.cfc': 1,\n",
              " 'applicationcontext': 1,\n",
              " 'applications': 8,\n",
              " 'apply': 1,\n",
              " 'appmobi': 3,\n",
              " 'apprequests': 2,\n",
              " 'approval': 1,\n",
              " 'approval-process': 1,\n",
              " 'approximation': 13,\n",
              " 'approximation-algorithms': 2,\n",
              " 'approximation-theory': 1,\n",
              " 'apps': 5,\n",
              " 'appscript': 1,\n",
              " 'appsettings': 1,\n",
              " 'appstore-approval': 2,\n",
              " 'appstore-approval-process': 1,\n",
              " 'appwidget': 2,\n",
              " 'apr': 2,\n",
              " 'apt': 12,\n",
              " 'apt-get': 6,\n",
              " 'aptana': 15,\n",
              " 'aptitude': 4,\n",
              " 'aquamacs': 3,\n",
              " 'arabic': 5,\n",
              " 'arangodb': 1,\n",
              " 'arcgis': 4,\n",
              " 'arch-linux': 15,\n",
              " 'archetypes': 2,\n",
              " 'architecture': 97,\n",
              " 'archiva': 1,\n",
              " 'archive': 9,\n",
              " 'archives': 4,\n",
              " 'archiving': 4,\n",
              " 'archlinux': 3,\n",
              " 'arcpy': 1,\n",
              " 'arduino': 12,\n",
              " 'arduino-ide': 1,\n",
              " 'area': 5,\n",
              " 'areas': 1,\n",
              " 'arel': 5,\n",
              " 'argb': 1,\n",
              " 'argparse': 1,\n",
              " 'args': 1,\n",
              " 'argument-passing': 6,\n",
              " 'argumentexception': 1,\n",
              " 'arguments': 24,\n",
              " 'argv': 1,\n",
              " 'arithmetic': 10,\n",
              " 'arithmetic-functions': 1,\n",
              " 'arity': 1,\n",
              " 'arm': 21,\n",
              " 'arm7': 1,\n",
              " 'armv6': 2,\n",
              " 'arp': 5,\n",
              " 'arp-scan': 1,\n",
              " 'arr': 1,\n",
              " 'arrangeoverride': 1,\n",
              " 'array': 3,\n",
              " 'array-initialization': 2,\n",
              " 'array-merge': 5,\n",
              " 'array-slice': 1,\n",
              " 'array-sorting': 5,\n",
              " 'arraybuffer': 1,\n",
              " 'arraycollection': 2,\n",
              " 'arraydeque': 1,\n",
              " 'arraylist': 34,\n",
              " 'arrays': 409,\n",
              " 'arrow': 2,\n",
              " 'arrows': 2,\n",
              " 'article': 5,\n",
              " 'artifact': 1,\n",
              " 'artifacts': 1,\n",
              " 'artificial-intelligence': 20,\n",
              " 'artistic': 1,\n",
              " 'artwork': 1,\n",
              " 'asana': 1,\n",
              " 'ascending': 1,\n",
              " 'ascii': 23,\n",
              " 'asciidoc': 1,\n",
              " 'ascx': 4,\n",
              " 'asdf': 1,\n",
              " 'asenumerable': 2,\n",
              " 'asf': 1,\n",
              " 'ash': 1,\n",
              " 'ashx': 4,\n",
              " 'asianfonts': 1,\n",
              " 'asiformdatarequest': 2,\n",
              " 'asihttprequest': 4,\n",
              " 'asio': 3,\n",
              " 'asmack': 3,\n",
              " 'asmx': 17,\n",
              " 'asn.1': 3,\n",
              " 'asp': 3,\n",
              " 'asp-classic': 62,\n",
              " 'asp-placeholder': 2,\n",
              " 'asp.net': 1478,\n",
              " 'asp.net-2.0': 6,\n",
              " 'asp.net-3.5': 13,\n",
              " 'asp.net-4.0': 13,\n",
              " 'asp.net-4.5': 1,\n",
              " 'asp.net-ajax': 31,\n",
              " 'asp.net-authentication': 1,\n",
              " 'asp.net-authorization': 1,\n",
              " 'asp.net-charts': 2,\n",
              " 'asp.net-controls': 1,\n",
              " 'asp.net-development-serv': 1,\n",
              " 'asp.net-dynamic-data': 1,\n",
              " 'asp.net-membership': 28,\n",
              " 'asp.net-mvc': 456,\n",
              " 'asp.net-mvc-2': 64,\n",
              " 'asp.net-mvc-2-validation': 1,\n",
              " 'asp.net-mvc-3': 267,\n",
              " 'asp.net-mvc-3-areas': 2,\n",
              " 'asp.net-mvc-4': 54,\n",
              " 'asp.net-mvc-areas': 1,\n",
              " 'asp.net-mvc-partialview': 1,\n",
              " 'asp.net-mvc-routing': 13,\n",
              " 'asp.net-mvc-validation': 1,\n",
              " 'asp.net-optimization': 1,\n",
              " 'asp.net-profiles': 3,\n",
              " 'asp.net-roles': 2,\n",
              " 'asp.net-routing': 3,\n",
              " 'asp.net-web-api': 33,\n",
              " 'asp.net-webcontrol': 1,\n",
              " 'asp.net-webforms': 4,\n",
              " 'asp.net-webpages': 2,\n",
              " 'aspect': 1,\n",
              " 'aspect-oriented': 3,\n",
              " 'aspect-ratio': 2,\n",
              " 'aspectj': 8,\n",
              " 'aspects': 1,\n",
              " 'aspmenu': 1,\n",
              " 'aspmenu-control': 1,\n",
              " 'aspnet-regiis.exe': 1,\n",
              " 'aspose': 1,\n",
              " 'aspx': 3,\n",
              " 'aspxgridview': 1,\n",
              " 'asr': 2,\n",
              " 'assembla': 1,\n",
              " 'assemblies': 9,\n",
              " 'assembly': 80,\n",
              " 'assembly-references': 1,\n",
              " 'assemblyinfo': 1,\n",
              " 'assert': 3,\n",
              " 'assertion': 2,\n",
              " 'assertions': 4,\n",
              " 'asset': 3,\n",
              " 'asset-management': 1,\n",
              " 'asset-pipeline': 17,\n",
              " 'asset-tracking': 1,\n",
              " 'assetic': 1,\n",
              " 'assets': 6,\n",
              " 'assetslibrary': 1,\n",
              " 'assign': 3,\n",
              " 'assignment-operator': 2,\n",
              " 'associations': 25,\n",
              " 'associative': 2,\n",
              " 'associative-array': 4,\n",
              " 'ast': 6,\n",
              " 'asterisk': 8,\n",
              " 'astronomy': 2,\n",
              " 'astrophotography': 1,\n",
              " 'asus': 1,\n",
              " 'asx': 1,\n",
              " 'asymptote': 1,\n",
              " 'asymptotic-complexity': 2,\n",
              " 'asymptotics': 10,\n",
              " 'async': 1,\n",
              " 'async-await': 5,\n",
              " 'async-ctp': 2,\n",
              " 'asyncfileupload': 3,\n",
              " 'asynchronous': 60,\n",
              " 'asynchronous-programming': 1,\n",
              " 'asynchronous-wcf-call': 1,\n",
              " 'asynchronously': 1,\n",
              " 'asyncore': 1,\n",
              " 'asyncsocket': 5,\n",
              " 'ata': 1,\n",
              " 'atd': 1,\n",
              " 'atheros': 1,\n",
              " 'ati': 7,\n",
              " 'ati-radeon': 1,\n",
              " 'atk4': 2,\n",
              " 'atl': 4,\n",
              " 'atlas': 1,\n",
              " 'atlassian': 1,\n",
              " 'atlassian-fisheye': 1,\n",
              " 'atoi': 4,\n",
              " 'atom': 5,\n",
              " 'attach': 1,\n",
              " 'attached-properties': 2,\n",
              " 'attachedbehaviors': 1,\n",
              " 'attachment': 6,\n",
              " 'attachments': 10,\n",
              " 'attack': 2,\n",
              " 'attr': 4,\n",
              " 'attr-accessible': 1,\n",
              " 'attr-accessor': 1,\n",
              " 'attribute': 1,\n",
              " 'attributes': 46,\n",
              " 'atx': 1,\n",
              " 'auctex': 5,\n",
              " 'auction': 1,\n",
              " 'audience-targeting': 1,\n",
              " 'audiences': 2,\n",
              " 'audio': 121,\n",
              " 'audio-fingerprinting': 2,\n",
              " 'audio-playback-agent': 1,\n",
              " 'audio-recording': 11,\n",
              " 'audio-streaming': 8,\n",
              " 'audioqueue': 1,\n",
              " 'audioqueueservices': 1,\n",
              " 'audiotrack': 1,\n",
              " 'audit': 9,\n",
              " 'audit-trail': 1,\n",
              " 'auditing': 3,\n",
              " 'augmented-reality': 10,\n",
              " 'auth-token': 1,\n",
              " 'authblk': 1,\n",
              " 'authentication': 132,\n",
              " 'authlogic': 4,\n",
              " 'author': 4,\n",
              " 'author-number': 1,\n",
              " 'author-template': 1,\n",
              " 'authorization': 25,\n",
              " 'authorize-attribute': 2,\n",
              " 'authorize.net': 2,\n",
              " 'authorizeattribute': 1,\n",
              " 'auto': 2,\n",
              " 'auto-compile': 1,\n",
              " 'auto-detect': 1,\n",
              " 'auto-generate': 3,\n",
              " 'auto-increment': 4,\n",
              " 'auto-populate': 1,\n",
              " 'auto-properties': 1,\n",
              " 'auto-pst-pdf': 1,\n",
              " 'auto-renewing': 1,\n",
              " 'auto-reply': 1,\n",
              " 'auto-update': 3,\n",
              " 'auto-updates': 1,\n",
              " 'autoarchive': 1,\n",
              " 'autocad': 1,\n",
              " 'autocomplete': 45,\n",
              " 'autocompleteextender': 2,\n",
              " 'autocompletetextview': 4,\n",
              " 'autoconf': 4,\n",
              " 'autofac': 2,\n",
              " 'autofill': 3,\n",
              " 'autofilter': 1,\n",
              " 'autofixture': 1,\n",
              " 'autofocus': 4,\n",
              " 'autoformatting': 1,\n",
              " 'autofs': 2,\n",
              " 'autogeneratecolumn': 1,\n",
              " 'autohotkey': 13,\n",
              " 'autoincrement': 3,\n",
              " 'autoit': 5,\n",
              " 'autolayout': 3,\n",
              " 'autoload': 5,\n",
              " 'autoloader': 3,\n",
              " 'autologin': 1,\n",
              " 'automake': 3,\n",
              " 'automapper': 7,\n",
              " 'automata': 7,\n",
              " 'automata-theory': 1,\n",
              " 'automated-deploy': 2,\n",
              " 'automated-install': 2,\n",
              " 'automated-testing': 2,\n",
              " 'automated-tests': 10,\n",
              " 'automatic': 3,\n",
              " 'automatic-logon': 1,\n",
              " 'automatic-programming': 1,\n",
              " 'automatic-properties': 1,\n",
              " 'automatic-ref-counting': 20,\n",
              " 'automaticupdates': 1,\n",
              " 'automation': 55,\n",
              " 'automator': 2,\n",
              " 'automount': 3,\n",
              " 'automounting': 2,\n",
              " 'autoplay': 2,\n",
              " 'autoproxy': 1,\n",
              " 'autorelease': 1,\n",
              " 'autoresize': 1,\n",
              " 'autoresizingmask': 2,\n",
              " 'autorotate': 3,\n",
              " 'autorun': 2,\n",
              " 'autosave': 1,\n",
              " 'autoscroll': 1,\n",
              " 'autosize': 2,\n",
              " 'autostart': 1,\n",
              " 'autosuggest': 2,\n",
              " 'autosys': 1,\n",
              " 'autotest': 1,\n",
              " 'autotools': 6,\n",
              " 'autoupdate': 1,\n",
              " 'autowire': 3,\n",
              " 'autowired': 1,\n",
              " 'auxiliary-files': 2,\n",
              " 'av': 1,\n",
              " 'avahi': 1,\n",
              " 'availability': 1,\n",
              " 'avalondock': 1,\n",
              " 'avassetwriter': 1,\n",
              " 'avaudioplayer': 11,\n",
              " 'avaudiorecorder': 3,\n",
              " 'avcapturedevice': 1,\n",
              " 'avcapturesession': 6,\n",
              " 'avchd': 2,\n",
              " 'avd': 6,\n",
              " ...}"
            ]
          },
          "metadata": {},
          "execution_count": 29
        }
      ]
    },
    {
      "cell_type": "code",
      "source": [
        "tag_df = pd.Series(tags_frequency)"
      ],
      "metadata": {
        "id": "0_jcxCyaAemc"
      },
      "execution_count": 30,
      "outputs": []
    },
    {
      "cell_type": "markdown",
      "source": [
        "Created a pandas series from tags_frequency dictionary"
      ],
      "metadata": {
        "id": "g_wTzSuABAFh"
      }
    },
    {
      "cell_type": "code",
      "source": [
        "tag_df"
      ],
      "metadata": {
        "colab": {
          "base_uri": "https://localhost:8080/"
        },
        "id": "Ca-zzN2eA8a_",
        "outputId": "a25fba0d-172b-44c6-e69c-fef8cd492e93"
      },
      "execution_count": 31,
      "outputs": [
        {
          "output_type": "execute_result",
          "data": {
            "text/plain": [
              ".class-file          1\n",
              ".each                6\n",
              ".emf                 1\n",
              ".hgtags              1\n",
              ".htaccess          175\n",
              "                  ... \n",
              "zune                 1\n",
              "zune-hd              1\n",
              "zurb-foundation      1\n",
              "zwoptex              1\n",
              "zxing                4\n",
              "Length: 13892, dtype: int64"
            ]
          },
          "metadata": {},
          "execution_count": 31
        }
      ]
    },
    {
      "cell_type": "code",
      "source": [
        "tag_df = tag_df.to_frame(name='counts')\n",
        "tag_df.head(3)"
      ],
      "metadata": {
        "colab": {
          "base_uri": "https://localhost:8080/",
          "height": 143
        },
        "id": "bL3N6gZcA-dF",
        "outputId": "5ebce33a-9ea8-46c1-ed0e-db2c78237360"
      },
      "execution_count": 32,
      "outputs": [
        {
          "output_type": "execute_result",
          "data": {
            "text/plain": [
              "             counts\n",
              ".class-file       1\n",
              ".each             6\n",
              ".emf              1"
            ],
            "text/html": [
              "\n",
              "  <div id=\"df-381cb5d0-7ea7-4ca1-a7cd-6fd926c1d7a8\">\n",
              "    <div class=\"colab-df-container\">\n",
              "      <div>\n",
              "<style scoped>\n",
              "    .dataframe tbody tr th:only-of-type {\n",
              "        vertical-align: middle;\n",
              "    }\n",
              "\n",
              "    .dataframe tbody tr th {\n",
              "        vertical-align: top;\n",
              "    }\n",
              "\n",
              "    .dataframe thead th {\n",
              "        text-align: right;\n",
              "    }\n",
              "</style>\n",
              "<table border=\"1\" class=\"dataframe\">\n",
              "  <thead>\n",
              "    <tr style=\"text-align: right;\">\n",
              "      <th></th>\n",
              "      <th>counts</th>\n",
              "    </tr>\n",
              "  </thead>\n",
              "  <tbody>\n",
              "    <tr>\n",
              "      <th>.class-file</th>\n",
              "      <td>1</td>\n",
              "    </tr>\n",
              "    <tr>\n",
              "      <th>.each</th>\n",
              "      <td>6</td>\n",
              "    </tr>\n",
              "    <tr>\n",
              "      <th>.emf</th>\n",
              "      <td>1</td>\n",
              "    </tr>\n",
              "  </tbody>\n",
              "</table>\n",
              "</div>\n",
              "      <button class=\"colab-df-convert\" onclick=\"convertToInteractive('df-381cb5d0-7ea7-4ca1-a7cd-6fd926c1d7a8')\"\n",
              "              title=\"Convert this dataframe to an interactive table.\"\n",
              "              style=\"display:none;\">\n",
              "        \n",
              "  <svg xmlns=\"http://www.w3.org/2000/svg\" height=\"24px\"viewBox=\"0 0 24 24\"\n",
              "       width=\"24px\">\n",
              "    <path d=\"M0 0h24v24H0V0z\" fill=\"none\"/>\n",
              "    <path d=\"M18.56 5.44l.94 2.06.94-2.06 2.06-.94-2.06-.94-.94-2.06-.94 2.06-2.06.94zm-11 1L8.5 8.5l.94-2.06 2.06-.94-2.06-.94L8.5 2.5l-.94 2.06-2.06.94zm10 10l.94 2.06.94-2.06 2.06-.94-2.06-.94-.94-2.06-.94 2.06-2.06.94z\"/><path d=\"M17.41 7.96l-1.37-1.37c-.4-.4-.92-.59-1.43-.59-.52 0-1.04.2-1.43.59L10.3 9.45l-7.72 7.72c-.78.78-.78 2.05 0 2.83L4 21.41c.39.39.9.59 1.41.59.51 0 1.02-.2 1.41-.59l7.78-7.78 2.81-2.81c.8-.78.8-2.07 0-2.86zM5.41 20L4 18.59l7.72-7.72 1.47 1.35L5.41 20z\"/>\n",
              "  </svg>\n",
              "      </button>\n",
              "      \n",
              "  <style>\n",
              "    .colab-df-container {\n",
              "      display:flex;\n",
              "      flex-wrap:wrap;\n",
              "      gap: 12px;\n",
              "    }\n",
              "\n",
              "    .colab-df-convert {\n",
              "      background-color: #E8F0FE;\n",
              "      border: none;\n",
              "      border-radius: 50%;\n",
              "      cursor: pointer;\n",
              "      display: none;\n",
              "      fill: #1967D2;\n",
              "      height: 32px;\n",
              "      padding: 0 0 0 0;\n",
              "      width: 32px;\n",
              "    }\n",
              "\n",
              "    .colab-df-convert:hover {\n",
              "      background-color: #E2EBFA;\n",
              "      box-shadow: 0px 1px 2px rgba(60, 64, 67, 0.3), 0px 1px 3px 1px rgba(60, 64, 67, 0.15);\n",
              "      fill: #174EA6;\n",
              "    }\n",
              "\n",
              "    [theme=dark] .colab-df-convert {\n",
              "      background-color: #3B4455;\n",
              "      fill: #D2E3FC;\n",
              "    }\n",
              "\n",
              "    [theme=dark] .colab-df-convert:hover {\n",
              "      background-color: #434B5C;\n",
              "      box-shadow: 0px 1px 3px 1px rgba(0, 0, 0, 0.15);\n",
              "      filter: drop-shadow(0px 1px 2px rgba(0, 0, 0, 0.3));\n",
              "      fill: #FFFFFF;\n",
              "    }\n",
              "  </style>\n",
              "\n",
              "      <script>\n",
              "        const buttonEl =\n",
              "          document.querySelector('#df-381cb5d0-7ea7-4ca1-a7cd-6fd926c1d7a8 button.colab-df-convert');\n",
              "        buttonEl.style.display =\n",
              "          google.colab.kernel.accessAllowed ? 'block' : 'none';\n",
              "\n",
              "        async function convertToInteractive(key) {\n",
              "          const element = document.querySelector('#df-381cb5d0-7ea7-4ca1-a7cd-6fd926c1d7a8');\n",
              "          const dataTable =\n",
              "            await google.colab.kernel.invokeFunction('convertToInteractive',\n",
              "                                                     [key], {});\n",
              "          if (!dataTable) return;\n",
              "\n",
              "          const docLinkHtml = 'Like what you see? Visit the ' +\n",
              "            '<a target=\"_blank\" href=https://colab.research.google.com/notebooks/data_table.ipynb>data table notebook</a>'\n",
              "            + ' to learn more about interactive tables.';\n",
              "          element.innerHTML = '';\n",
              "          dataTable['output_type'] = 'display_data';\n",
              "          await google.colab.output.renderOutput(dataTable, element);\n",
              "          const docLink = document.createElement('div');\n",
              "          docLink.innerHTML = docLinkHtml;\n",
              "          element.appendChild(docLink);\n",
              "        }\n",
              "      </script>\n",
              "    </div>\n",
              "  </div>\n",
              "  "
            ]
          },
          "metadata": {},
          "execution_count": 32
        }
      ]
    },
    {
      "cell_type": "markdown",
      "source": [
        "Converted the pandas series to pandas dataframe"
      ],
      "metadata": {
        "id": "0UvweJiLBYwH"
      }
    },
    {
      "cell_type": "code",
      "source": [
        "sorted_df = tag_df.sort_values(['counts'],ascending=False)"
      ],
      "metadata": {
        "id": "FyUQj31mBW7Q"
      },
      "execution_count": 33,
      "outputs": []
    },
    {
      "cell_type": "markdown",
      "source": [
        "Sorted the dataframe by the counts column in descending order"
      ],
      "metadata": {
        "id": "Tg8kW0e6B70O"
      }
    },
    {
      "cell_type": "code",
      "source": [
        "tag_counts = sorted_df['counts'].values"
      ],
      "metadata": {
        "id": "bfWhxh9qCEIT"
      },
      "execution_count": 34,
      "outputs": []
    },
    {
      "cell_type": "code",
      "source": [
        "plt.plot(tag_counts)\n",
        "plt.title(\"Distribution of number of times tag appeared in questions\")\n",
        "plt.grid()\n",
        "plt.xlabel(\"Tag number\")\n",
        "plt.ylabel(\"Number of times tag appeared\")\n",
        "plt.show()"
      ],
      "metadata": {
        "colab": {
          "base_uri": "https://localhost:8080/",
          "height": 295
        },
        "id": "IbxV5-HACIkV",
        "outputId": "c68fe1ea-4bcb-4d9c-d37e-72bfb379b242"
      },
      "execution_count": 35,
      "outputs": [
        {
          "output_type": "display_data",
          "data": {
            "text/plain": [
              "<Figure size 432x288 with 1 Axes>"
            ],
            "image/png": "[encoded data removed]"
          },
          "metadata": {
            "needs_background": "light"
          }
        }
      ]
    },
    {
      "cell_type": "markdown",
      "source": [
        "The visualization is not very great when taking all tags. so, lets take first 100 tags and see their distribution."
      ],
      "metadata": {
        "id": "mibuZt-3CjmK"
      }
    },
    {
      "cell_type": "code",
      "source": [
        "plt.plot(tag_counts[0:100])\n",
        "plt.title('For first 100 tags Distribution of number of times tag appeared in questions')\n",
        "plt.grid()\n",
        "plt.xlabel(\"Tag number\")\n",
        "plt.ylabel(\"Number of times tag appeared\")\n",
        "plt.show()"
      ],
      "metadata": {
        "colab": {
          "base_uri": "https://localhost:8080/",
          "height": 295
        },
        "id": "hRq4sLrGCN7B",
        "outputId": "ab34e34c-92b8-4e00-f298-ef5a1f84c712"
      },
      "execution_count": 36,
      "outputs": [
        {
          "output_type": "display_data",
          "data": {
            "text/plain": [
              "<Figure size 432x288 with 1 Axes>"
            ],
            "image/png": "[encoded data removed]"
          },
          "metadata": {
            "needs_background": "light"
          }
        }
      ]
    },
    {
      "cell_type": "code",
      "source": [
        "tag_question_count = tag_matrix.sum(axis=1).tolist()\n",
        "tag_question_count=[int(j) for i in tag_question_count for j in i]"
      ],
      "metadata": {
        "id": "xHBImLmlD3Ob"
      },
      "execution_count": 37,
      "outputs": []
    },
    {
      "cell_type": "code",
      "source": [
        "max_tags = max(tag_question_count)\n",
        "min_tags = min(tag_question_count)\n",
        "avg_tags = sum(tag_question_count)/len(tag_question_count)\n",
        "print('The maximum number of tags in a question is',max_tags)\n",
        "print('The minimum number of tags in a question is',min_tags)\n",
        "print('The average number of tags in a question is',avg_tags)"
      ],
      "metadata": {
        "colab": {
          "base_uri": "https://localhost:8080/"
        },
        "id": "LwZVH7hQEVm5",
        "outputId": "ad3ae8bc-373a-44a4-9cb1-dd06553ffc7c"
      },
      "execution_count": 38,
      "outputs": [
        {
          "output_type": "stream",
          "name": "stdout",
          "text": [
            "The maximum number of tags in a question is 5\n",
            "The minimum number of tags in a question is 1\n",
            "The average number of tags in a question is 2.885652967487013\n"
          ]
        }
      ]
    },
    {
      "cell_type": "code",
      "source": [
        "sorted_df.head(10).plot(kind='bar')\n",
        "plt.title('Top 30 most used tags')\n",
        "plt.xlabel('Tags')\n",
        "plt.ylabel('count')\n",
        "plt.show()"
      ],
      "metadata": {
        "colab": {
          "base_uri": "https://localhost:8080/",
          "height": 334
        },
        "id": "IjQ284LnEaQo",
        "outputId": "2610ef8e-d1fc-4c08-d52a-1d147a28bc55"
      },
      "execution_count": 39,
      "outputs": [
        {
          "output_type": "display_data",
          "data": {
            "text/plain": [
              "<Figure size 432x288 with 1 Axes>"
            ],
            "image/png": "[encoded data removed]"
          },
          "metadata": {
            "needs_background": "light"
          }
        }
      ]
    },
    {
      "cell_type": "markdown",
      "source": [
        "So, c# is the most frequently occuring tag among all."
      ],
      "metadata": {
        "id": "fdWWAxBTE48t"
      }
    },
    {
      "cell_type": "code",
      "source": [
        "import re\n",
        "from nltk.tokenize import word_tokenize\n",
        "from nltk.stem.snowball import SnowballStemmer"
      ],
      "metadata": {
        "id": "Viam5z8eE1Yd"
      },
      "execution_count": 40,
      "outputs": []
    },
    {
      "cell_type": "code",
      "source": [
        "import nltk\n",
        "from nltk.corpus import stopwords\n",
        "nltk.download('stopwords')"
      ],
      "metadata": {
        "colab": {
          "base_uri": "https://localhost:8080/"
        },
        "id": "OA-jkoE1Ex4D",
        "outputId": "02fd1147-ec28-46ea-e716-a7818744ad49"
      },
      "execution_count": 41,
      "outputs": [
        {
          "output_type": "stream",
          "name": "stderr",
          "text": [
            "[nltk_data] Downloading package stopwords to /root/nltk_data...\n",
            "[nltk_data]   Unzipping corpora/stopwords.zip.\n"
          ]
        },
        {
          "output_type": "execute_result",
          "data": {
            "text/plain": [
              "True"
            ]
          },
          "metadata": {},
          "execution_count": 41
        }
      ]
    },
    {
      "cell_type": "code",
      "source": [
        "data.head(3)"
      ],
      "metadata": {
        "colab": {
          "base_uri": "https://localhost:8080/",
          "height": 143
        },
        "id": "xLHvvRnFH82O",
        "outputId": "919b92d5-fd19-4a83-f5f5-f8cf4d4c6a91"
      },
      "execution_count": 42,
      "outputs": [
        {
          "output_type": "execute_result",
          "data": {
            "text/plain": [
              "                                               Title  \\\n",
              "0  How to check if an uploaded file is an image w...   \n",
              "1  How can I prevent firefox from closing when I ...   \n",
              "2           R Error Invalid type (list) for variable   \n",
              "\n",
              "                                                Body  \\\n",
              "0  <p>I'd like to check if an uploaded file is an...   \n",
              "1  <p>In my favorite editor (vim), I regularly us...   \n",
              "2  <p>I am import matlab file and construct a dat...   \n",
              "\n",
              "                                                Tags  \n",
              "0  php image-processing file-upload upload mime-t...  \n",
              "1                                            firefox  \n",
              "2                          r matlab machine-learning  "
            ],
            "text/html": [
              "\n",
              "  <div id=\"df-e79d1330-9166-4936-9c6b-8dabcf127089\">\n",
              "    <div class=\"colab-df-container\">\n",
              "      <div>\n",
              "<style scoped>\n",
              "    .dataframe tbody tr th:only-of-type {\n",
              "        vertical-align: middle;\n",
              "    }\n",
              "\n",
              "    .dataframe tbody tr th {\n",
              "        vertical-align: top;\n",
              "    }\n",
              "\n",
              "    .dataframe thead th {\n",
              "        text-align: right;\n",
              "    }\n",
              "</style>\n",
              "<table border=\"1\" class=\"dataframe\">\n",
              "  <thead>\n",
              "    <tr style=\"text-align: right;\">\n",
              "      <th></th>\n",
              "      <th>Title</th>\n",
              "      <th>Body</th>\n",
              "      <th>Tags</th>\n",
              "    </tr>\n",
              "  </thead>\n",
              "  <tbody>\n",
              "    <tr>\n",
              "      <th>0</th>\n",
              "      <td>How to check if an uploaded file is an image w...</td>\n",
              "      <td>&lt;p&gt;I'd like to check if an uploaded file is an...</td>\n",
              "      <td>php image-processing file-upload upload mime-t...</td>\n",
              "    </tr>\n",
              "    <tr>\n",
              "      <th>1</th>\n",
              "      <td>How can I prevent firefox from closing when I ...</td>\n",
              "      <td>&lt;p&gt;In my favorite editor (vim), I regularly us...</td>\n",
              "      <td>firefox</td>\n",
              "    </tr>\n",
              "    <tr>\n",
              "      <th>2</th>\n",
              "      <td>R Error Invalid type (list) for variable</td>\n",
              "      <td>&lt;p&gt;I am import matlab file and construct a dat...</td>\n",
              "      <td>r matlab machine-learning</td>\n",
              "    </tr>\n",
              "  </tbody>\n",
              "</table>\n",
              "</div>\n",
              "      <button class=\"colab-df-convert\" onclick=\"convertToInteractive('df-e79d1330-9166-4936-9c6b-8dabcf127089')\"\n",
              "              title=\"Convert this dataframe to an interactive table.\"\n",
              "              style=\"display:none;\">\n",
              "        \n",
              "  <svg xmlns=\"http://www.w3.org/2000/svg\" height=\"24px\"viewBox=\"0 0 24 24\"\n",
              "       width=\"24px\">\n",
              "    <path d=\"M0 0h24v24H0V0z\" fill=\"none\"/>\n",
              "    <path d=\"M18.56 5.44l.94 2.06.94-2.06 2.06-.94-2.06-.94-.94-2.06-.94 2.06-2.06.94zm-11 1L8.5 8.5l.94-2.06 2.06-.94-2.06-.94L8.5 2.5l-.94 2.06-2.06.94zm10 10l.94 2.06.94-2.06 2.06-.94-2.06-.94-.94-2.06-.94 2.06-2.06.94z\"/><path d=\"M17.41 7.96l-1.37-1.37c-.4-.4-.92-.59-1.43-.59-.52 0-1.04.2-1.43.59L10.3 9.45l-7.72 7.72c-.78.78-.78 2.05 0 2.83L4 21.41c.39.39.9.59 1.41.59.51 0 1.02-.2 1.41-.59l7.78-7.78 2.81-2.81c.8-.78.8-2.07 0-2.86zM5.41 20L4 18.59l7.72-7.72 1.47 1.35L5.41 20z\"/>\n",
              "  </svg>\n",
              "      </button>\n",
              "      \n",
              "  <style>\n",
              "    .colab-df-container {\n",
              "      display:flex;\n",
              "      flex-wrap:wrap;\n",
              "      gap: 12px;\n",
              "    }\n",
              "\n",
              "    .colab-df-convert {\n",
              "      background-color: #E8F0FE;\n",
              "      border: none;\n",
              "      border-radius: 50%;\n",
              "      cursor: pointer;\n",
              "      display: none;\n",
              "      fill: #1967D2;\n",
              "      height: 32px;\n",
              "      padding: 0 0 0 0;\n",
              "      width: 32px;\n",
              "    }\n",
              "\n",
              "    .colab-df-convert:hover {\n",
              "      background-color: #E2EBFA;\n",
              "      box-shadow: 0px 1px 2px rgba(60, 64, 67, 0.3), 0px 1px 3px 1px rgba(60, 64, 67, 0.15);\n",
              "      fill: #174EA6;\n",
              "    }\n",
              "\n",
              "    [theme=dark] .colab-df-convert {\n",
              "      background-color: #3B4455;\n",
              "      fill: #D2E3FC;\n",
              "    }\n",
              "\n",
              "    [theme=dark] .colab-df-convert:hover {\n",
              "      background-color: #434B5C;\n",
              "      box-shadow: 0px 1px 3px 1px rgba(0, 0, 0, 0.15);\n",
              "      filter: drop-shadow(0px 1px 2px rgba(0, 0, 0, 0.3));\n",
              "      fill: #FFFFFF;\n",
              "    }\n",
              "  </style>\n",
              "\n",
              "      <script>\n",
              "        const buttonEl =\n",
              "          document.querySelector('#df-e79d1330-9166-4936-9c6b-8dabcf127089 button.colab-df-convert');\n",
              "        buttonEl.style.display =\n",
              "          google.colab.kernel.accessAllowed ? 'block' : 'none';\n",
              "\n",
              "        async function convertToInteractive(key) {\n",
              "          const element = document.querySelector('#df-e79d1330-9166-4936-9c6b-8dabcf127089');\n",
              "          const dataTable =\n",
              "            await google.colab.kernel.invokeFunction('convertToInteractive',\n",
              "                                                     [key], {});\n",
              "          if (!dataTable) return;\n",
              "\n",
              "          const docLinkHtml = 'Like what you see? Visit the ' +\n",
              "            '<a target=\"_blank\" href=https://colab.research.google.com/notebooks/data_table.ipynb>data table notebook</a>'\n",
              "            + ' to learn more about interactive tables.';\n",
              "          element.innerHTML = '';\n",
              "          dataTable['output_type'] = 'display_data';\n",
              "          await google.colab.output.renderOutput(dataTable, element);\n",
              "          const docLink = document.createElement('div');\n",
              "          docLink.innerHTML = docLinkHtml;\n",
              "          element.appendChild(docLink);\n",
              "        }\n",
              "      </script>\n",
              "    </div>\n",
              "  </div>\n",
              "  "
            ]
          },
          "metadata": {},
          "execution_count": 42
        }
      ]
    },
    {
      "cell_type": "markdown",
      "source": [
        "As we can see, our text data contains html tags,apostrophees,stopwords which provide no semantic meaning for the algorithm. So, i remove them and cleaned up the text."
      ],
      "metadata": {
        "id": "nPBfde7mTGCu"
      }
    },
    {
      "cell_type": "code",
      "source": [
        "from bs4 import BeautifulSoup"
      ],
      "metadata": {
        "id": "_EemB6zJO8IU"
      },
      "execution_count": 43,
      "outputs": []
    },
    {
      "cell_type": "code",
      "source": [
        "def remove_html_tags(text):\n",
        "    soup = BeautifulSoup(text, \"html.parser\")\n",
        "    return soup.get_text()"
      ],
      "metadata": {
        "id": "S4NhWkd-PbE_"
      },
      "execution_count": 44,
      "outputs": []
    },
    {
      "cell_type": "markdown",
      "source": [
        "BeautifulSoup is a library that can be used to remove html tags eficiently. Here, i imported the library and defined a function that can remove the html tags."
      ],
      "metadata": {
        "id": "GBZzV_X7TuIJ"
      }
    },
    {
      "cell_type": "code",
      "source": [
        "data['Body'] = data['Body'].apply(remove_html_tags)\n",
        "data['Title'] = data['Title'].apply(remove_html_tags)"
      ],
      "metadata": {
        "id": "FmKlUMZpPsvU"
      },
      "execution_count": 45,
      "outputs": []
    },
    {
      "cell_type": "markdown",
      "source": [
        "Applied the html tags remover function to our data."
      ],
      "metadata": {
        "id": "vuSGwBJOUFg9"
      }
    },
    {
      "cell_type": "code",
      "source": [
        "data['Title'] = data['Title'].str.replace(\"'\", '')\n",
        "data['Body'] = data['Body'].str.replace(\"'\", '')"
      ],
      "metadata": {
        "id": "AiEeZ7-tSXwS"
      },
      "execution_count": 46,
      "outputs": []
    },
    {
      "cell_type": "markdown",
      "source": [
        "Replaced all apostrophees with an empty string"
      ],
      "metadata": {
        "id": "C8m0mTimUMdr"
      }
    },
    {
      "cell_type": "code",
      "source": [
        "data.head(3)"
      ],
      "metadata": {
        "colab": {
          "base_uri": "https://localhost:8080/",
          "height": 143
        },
        "id": "qLdw9n63R-5T",
        "outputId": "5463438e-8a3c-4cfa-9bd7-20035200cc61"
      },
      "execution_count": 47,
      "outputs": [
        {
          "output_type": "execute_result",
          "data": {
            "text/plain": [
              "                                               Title  \\\n",
              "0  How to check if an uploaded file is an image w...   \n",
              "1  How can I prevent firefox from closing when I ...   \n",
              "2           R Error Invalid type (list) for variable   \n",
              "\n",
              "                                                Body  \\\n",
              "0  Id like to check if an uploaded file is an ima...   \n",
              "1  In my favorite editor (vim), I regularly use c...   \n",
              "2  I am import matlab file and construct a data f...   \n",
              "\n",
              "                                                Tags  \n",
              "0  php image-processing file-upload upload mime-t...  \n",
              "1                                            firefox  \n",
              "2                          r matlab machine-learning  "
            ],
            "text/html": [
              "\n",
              "  <div id=\"df-1d405ca4-e523-409b-8289-7a83ed6641ad\">\n",
              "    <div class=\"colab-df-container\">\n",
              "      <div>\n",
              "<style scoped>\n",
              "    .dataframe tbody tr th:only-of-type {\n",
              "        vertical-align: middle;\n",
              "    }\n",
              "\n",
              "    .dataframe tbody tr th {\n",
              "        vertical-align: top;\n",
              "    }\n",
              "\n",
              "    .dataframe thead th {\n",
              "        text-align: right;\n",
              "    }\n",
              "</style>\n",
              "<table border=\"1\" class=\"dataframe\">\n",
              "  <thead>\n",
              "    <tr style=\"text-align: right;\">\n",
              "      <th></th>\n",
              "      <th>Title</th>\n",
              "      <th>Body</th>\n",
              "      <th>Tags</th>\n",
              "    </tr>\n",
              "  </thead>\n",
              "  <tbody>\n",
              "    <tr>\n",
              "      <th>0</th>\n",
              "      <td>How to check if an uploaded file is an image w...</td>\n",
              "      <td>Id like to check if an uploaded file is an ima...</td>\n",
              "      <td>php image-processing file-upload upload mime-t...</td>\n",
              "    </tr>\n",
              "    <tr>\n",
              "      <th>1</th>\n",
              "      <td>How can I prevent firefox from closing when I ...</td>\n",
              "      <td>In my favorite editor (vim), I regularly use c...</td>\n",
              "      <td>firefox</td>\n",
              "    </tr>\n",
              "    <tr>\n",
              "      <th>2</th>\n",
              "      <td>R Error Invalid type (list) for variable</td>\n",
              "      <td>I am import matlab file and construct a data f...</td>\n",
              "      <td>r matlab machine-learning</td>\n",
              "    </tr>\n",
              "  </tbody>\n",
              "</table>\n",
              "</div>\n",
              "      <button class=\"colab-df-convert\" onclick=\"convertToInteractive('df-1d405ca4-e523-409b-8289-7a83ed6641ad')\"\n",
              "              title=\"Convert this dataframe to an interactive table.\"\n",
              "              style=\"display:none;\">\n",
              "        \n",
              "  <svg xmlns=\"http://www.w3.org/2000/svg\" height=\"24px\"viewBox=\"0 0 24 24\"\n",
              "       width=\"24px\">\n",
              "    <path d=\"M0 0h24v24H0V0z\" fill=\"none\"/>\n",
              "    <path d=\"M18.56 5.44l.94 2.06.94-2.06 2.06-.94-2.06-.94-.94-2.06-.94 2.06-2.06.94zm-11 1L8.5 8.5l.94-2.06 2.06-.94-2.06-.94L8.5 2.5l-.94 2.06-2.06.94zm10 10l.94 2.06.94-2.06 2.06-.94-2.06-.94-.94-2.06-.94 2.06-2.06.94z\"/><path d=\"M17.41 7.96l-1.37-1.37c-.4-.4-.92-.59-1.43-.59-.52 0-1.04.2-1.43.59L10.3 9.45l-7.72 7.72c-.78.78-.78 2.05 0 2.83L4 21.41c.39.39.9.59 1.41.59.51 0 1.02-.2 1.41-.59l7.78-7.78 2.81-2.81c.8-.78.8-2.07 0-2.86zM5.41 20L4 18.59l7.72-7.72 1.47 1.35L5.41 20z\"/>\n",
              "  </svg>\n",
              "      </button>\n",
              "      \n",
              "  <style>\n",
              "    .colab-df-container {\n",
              "      display:flex;\n",
              "      flex-wrap:wrap;\n",
              "      gap: 12px;\n",
              "    }\n",
              "\n",
              "    .colab-df-convert {\n",
              "      background-color: #E8F0FE;\n",
              "      border: none;\n",
              "      border-radius: 50%;\n",
              "      cursor: pointer;\n",
              "      display: none;\n",
              "      fill: #1967D2;\n",
              "      height: 32px;\n",
              "      padding: 0 0 0 0;\n",
              "      width: 32px;\n",
              "    }\n",
              "\n",
              "    .colab-df-convert:hover {\n",
              "      background-color: #E2EBFA;\n",
              "      box-shadow: 0px 1px 2px rgba(60, 64, 67, 0.3), 0px 1px 3px 1px rgba(60, 64, 67, 0.15);\n",
              "      fill: #174EA6;\n",
              "    }\n",
              "\n",
              "    [theme=dark] .colab-df-convert {\n",
              "      background-color: #3B4455;\n",
              "      fill: #D2E3FC;\n",
              "    }\n",
              "\n",
              "    [theme=dark] .colab-df-convert:hover {\n",
              "      background-color: #434B5C;\n",
              "      box-shadow: 0px 1px 3px 1px rgba(0, 0, 0, 0.15);\n",
              "      filter: drop-shadow(0px 1px 2px rgba(0, 0, 0, 0.3));\n",
              "      fill: #FFFFFF;\n",
              "    }\n",
              "  </style>\n",
              "\n",
              "      <script>\n",
              "        const buttonEl =\n",
              "          document.querySelector('#df-1d405ca4-e523-409b-8289-7a83ed6641ad button.colab-df-convert');\n",
              "        buttonEl.style.display =\n",
              "          google.colab.kernel.accessAllowed ? 'block' : 'none';\n",
              "\n",
              "        async function convertToInteractive(key) {\n",
              "          const element = document.querySelector('#df-1d405ca4-e523-409b-8289-7a83ed6641ad');\n",
              "          const dataTable =\n",
              "            await google.colab.kernel.invokeFunction('convertToInteractive',\n",
              "                                                     [key], {});\n",
              "          if (!dataTable) return;\n",
              "\n",
              "          const docLinkHtml = 'Like what you see? Visit the ' +\n",
              "            '<a target=\"_blank\" href=https://colab.research.google.com/notebooks/data_table.ipynb>data table notebook</a>'\n",
              "            + ' to learn more about interactive tables.';\n",
              "          element.innerHTML = '';\n",
              "          dataTable['output_type'] = 'display_data';\n",
              "          await google.colab.output.renderOutput(dataTable, element);\n",
              "          const docLink = document.createElement('div');\n",
              "          docLink.innerHTML = docLinkHtml;\n",
              "          element.appendChild(docLink);\n",
              "        }\n",
              "      </script>\n",
              "    </div>\n",
              "  </div>\n",
              "  "
            ]
          },
          "metadata": {},
          "execution_count": 47
        }
      ]
    },
    {
      "cell_type": "code",
      "source": [
        "def remove_stopwords(text):\n",
        "    stop_words = set(stopwords.words('english'))\n",
        "    words = text.split()\n",
        "    filtered_words = [word for word in words if word.lower() not in stop_words]\n",
        "    return ' '.join(filtered_words)"
      ],
      "metadata": {
        "id": "TfQ3EUMooXml"
      },
      "execution_count": 48,
      "outputs": []
    },
    {
      "cell_type": "markdown",
      "source": [
        "Stopwords can add noise to the data and also increase the text complexity. So, it is better to remove them. Here, i Defined a function that can remove stopwords"
      ],
      "metadata": {
        "id": "_BkbgHqOUr-G"
      }
    },
    {
      "cell_type": "code",
      "source": [
        "data['Title'] = data['Title'].apply(remove_stopwords)"
      ],
      "metadata": {
        "id": "awL8nD8koZQ9"
      },
      "execution_count": 49,
      "outputs": []
    },
    {
      "cell_type": "code",
      "source": [
        "data['Body'] = data['Body'].apply(remove_stopwords)"
      ],
      "metadata": {
        "id": "ZHTaNWI_oqFb"
      },
      "execution_count": 50,
      "outputs": []
    },
    {
      "cell_type": "markdown",
      "source": [
        "Applied the stopwords removal function to our data."
      ],
      "metadata": {
        "id": "k5j8S7eRU19V"
      }
    },
    {
      "cell_type": "code",
      "source": [
        "data.head(3)"
      ],
      "metadata": {
        "colab": {
          "base_uri": "https://localhost:8080/",
          "height": 143
        },
        "id": "3DtzIT36o49j",
        "outputId": "656983a3-900e-49cb-d65e-77a1256d6610"
      },
      "execution_count": 51,
      "outputs": [
        {
          "output_type": "execute_result",
          "data": {
            "text/plain": [
              "                                          Title  \\\n",
              "0  check uploaded file image without mime type?   \n",
              "1          prevent firefox closing press ctrl-w   \n",
              "2          R Error Invalid type (list) variable   \n",
              "\n",
              "                                                Body  \\\n",
              "0  Id like check uploaded file image file (e.g pn...   \n",
              "1  favorite editor (vim), regularly use ctrl-w ex...   \n",
              "2  import matlab file construct data frame, matla...   \n",
              "\n",
              "                                                Tags  \n",
              "0  php image-processing file-upload upload mime-t...  \n",
              "1                                            firefox  \n",
              "2                          r matlab machine-learning  "
            ],
            "text/html": [
              "\n",
              "  <div id=\"df-b1c3c016-2f1b-4ec2-ba01-1f6f453e511d\">\n",
              "    <div class=\"colab-df-container\">\n",
              "      <div>\n",
              "<style scoped>\n",
              "    .dataframe tbody tr th:only-of-type {\n",
              "        vertical-align: middle;\n",
              "    }\n",
              "\n",
              "    .dataframe tbody tr th {\n",
              "        vertical-align: top;\n",
              "    }\n",
              "\n",
              "    .dataframe thead th {\n",
              "        text-align: right;\n",
              "    }\n",
              "</style>\n",
              "<table border=\"1\" class=\"dataframe\">\n",
              "  <thead>\n",
              "    <tr style=\"text-align: right;\">\n",
              "      <th></th>\n",
              "      <th>Title</th>\n",
              "      <th>Body</th>\n",
              "      <th>Tags</th>\n",
              "    </tr>\n",
              "  </thead>\n",
              "  <tbody>\n",
              "    <tr>\n",
              "      <th>0</th>\n",
              "      <td>check uploaded file image without mime type?</td>\n",
              "      <td>Id like check uploaded file image file (e.g pn...</td>\n",
              "      <td>php image-processing file-upload upload mime-t...</td>\n",
              "    </tr>\n",
              "    <tr>\n",
              "      <th>1</th>\n",
              "      <td>prevent firefox closing press ctrl-w</td>\n",
              "      <td>favorite editor (vim), regularly use ctrl-w ex...</td>\n",
              "      <td>firefox</td>\n",
              "    </tr>\n",
              "    <tr>\n",
              "      <th>2</th>\n",
              "      <td>R Error Invalid type (list) variable</td>\n",
              "      <td>import matlab file construct data frame, matla...</td>\n",
              "      <td>r matlab machine-learning</td>\n",
              "    </tr>\n",
              "  </tbody>\n",
              "</table>\n",
              "</div>\n",
              "      <button class=\"colab-df-convert\" onclick=\"convertToInteractive('df-b1c3c016-2f1b-4ec2-ba01-1f6f453e511d')\"\n",
              "              title=\"Convert this dataframe to an interactive table.\"\n",
              "              style=\"display:none;\">\n",
              "        \n",
              "  <svg xmlns=\"http://www.w3.org/2000/svg\" height=\"24px\"viewBox=\"0 0 24 24\"\n",
              "       width=\"24px\">\n",
              "    <path d=\"M0 0h24v24H0V0z\" fill=\"none\"/>\n",
              "    <path d=\"M18.56 5.44l.94 2.06.94-2.06 2.06-.94-2.06-.94-.94-2.06-.94 2.06-2.06.94zm-11 1L8.5 8.5l.94-2.06 2.06-.94-2.06-.94L8.5 2.5l-.94 2.06-2.06.94zm10 10l.94 2.06.94-2.06 2.06-.94-2.06-.94-.94-2.06-.94 2.06-2.06.94z\"/><path d=\"M17.41 7.96l-1.37-1.37c-.4-.4-.92-.59-1.43-.59-.52 0-1.04.2-1.43.59L10.3 9.45l-7.72 7.72c-.78.78-.78 2.05 0 2.83L4 21.41c.39.39.9.59 1.41.59.51 0 1.02-.2 1.41-.59l7.78-7.78 2.81-2.81c.8-.78.8-2.07 0-2.86zM5.41 20L4 18.59l7.72-7.72 1.47 1.35L5.41 20z\"/>\n",
              "  </svg>\n",
              "      </button>\n",
              "      \n",
              "  <style>\n",
              "    .colab-df-container {\n",
              "      display:flex;\n",
              "      flex-wrap:wrap;\n",
              "      gap: 12px;\n",
              "    }\n",
              "\n",
              "    .colab-df-convert {\n",
              "      background-color: #E8F0FE;\n",
              "      border: none;\n",
              "      border-radius: 50%;\n",
              "      cursor: pointer;\n",
              "      display: none;\n",
              "      fill: #1967D2;\n",
              "      height: 32px;\n",
              "      padding: 0 0 0 0;\n",
              "      width: 32px;\n",
              "    }\n",
              "\n",
              "    .colab-df-convert:hover {\n",
              "      background-color: #E2EBFA;\n",
              "      box-shadow: 0px 1px 2px rgba(60, 64, 67, 0.3), 0px 1px 3px 1px rgba(60, 64, 67, 0.15);\n",
              "      fill: #174EA6;\n",
              "    }\n",
              "\n",
              "    [theme=dark] .colab-df-convert {\n",
              "      background-color: #3B4455;\n",
              "      fill: #D2E3FC;\n",
              "    }\n",
              "\n",
              "    [theme=dark] .colab-df-convert:hover {\n",
              "      background-color: #434B5C;\n",
              "      box-shadow: 0px 1px 3px 1px rgba(0, 0, 0, 0.15);\n",
              "      filter: drop-shadow(0px 1px 2px rgba(0, 0, 0, 0.3));\n",
              "      fill: #FFFFFF;\n",
              "    }\n",
              "  </style>\n",
              "\n",
              "      <script>\n",
              "        const buttonEl =\n",
              "          document.querySelector('#df-b1c3c016-2f1b-4ec2-ba01-1f6f453e511d button.colab-df-convert');\n",
              "        buttonEl.style.display =\n",
              "          google.colab.kernel.accessAllowed ? 'block' : 'none';\n",
              "\n",
              "        async function convertToInteractive(key) {\n",
              "          const element = document.querySelector('#df-b1c3c016-2f1b-4ec2-ba01-1f6f453e511d');\n",
              "          const dataTable =\n",
              "            await google.colab.kernel.invokeFunction('convertToInteractive',\n",
              "                                                     [key], {});\n",
              "          if (!dataTable) return;\n",
              "\n",
              "          const docLinkHtml = 'Like what you see? Visit the ' +\n",
              "            '<a target=\"_blank\" href=https://colab.research.google.com/notebooks/data_table.ipynb>data table notebook</a>'\n",
              "            + ' to learn more about interactive tables.';\n",
              "          element.innerHTML = '';\n",
              "          dataTable['output_type'] = 'display_data';\n",
              "          await google.colab.output.renderOutput(dataTable, element);\n",
              "          const docLink = document.createElement('div');\n",
              "          docLink.innerHTML = docLinkHtml;\n",
              "          element.appendChild(docLink);\n",
              "        }\n",
              "      </script>\n",
              "    </div>\n",
              "  </div>\n",
              "  "
            ]
          },
          "metadata": {},
          "execution_count": 51
        }
      ]
    },
    {
      "cell_type": "code",
      "source": [
        "data['text'] = data['Title'].str.cat(data['Body'], sep=' ')"
      ],
      "metadata": {
        "id": "EiC_Vz1QpmlT"
      },
      "execution_count": 52,
      "outputs": []
    },
    {
      "cell_type": "markdown",
      "source": [
        "Concatenated the Title and Body column into a single column to make this less complex."
      ],
      "metadata": {
        "id": "tBpWMsB1VWPI"
      }
    },
    {
      "cell_type": "code",
      "source": [
        "data.head(3)"
      ],
      "metadata": {
        "id": "EeIXzFumqW_U",
        "colab": {
          "base_uri": "https://localhost:8080/",
          "height": 240
        },
        "outputId": "5b8544f9-a217-4f93-9cee-a91e585e56d1"
      },
      "execution_count": 53,
      "outputs": [
        {
          "output_type": "execute_result",
          "data": {
            "text/plain": [
              "                                          Title  \\\n",
              "0  check uploaded file image without mime type?   \n",
              "1          prevent firefox closing press ctrl-w   \n",
              "2          R Error Invalid type (list) variable   \n",
              "\n",
              "                                                Body  \\\n",
              "0  Id like check uploaded file image file (e.g pn...   \n",
              "1  favorite editor (vim), regularly use ctrl-w ex...   \n",
              "2  import matlab file construct data frame, matla...   \n",
              "\n",
              "                                                Tags  \\\n",
              "0  php image-processing file-upload upload mime-t...   \n",
              "1                                            firefox   \n",
              "2                          r matlab machine-learning   \n",
              "\n",
              "                                                text  \n",
              "0  check uploaded file image without mime type? I...  \n",
              "1  prevent firefox closing press ctrl-w favorite ...  \n",
              "2  R Error Invalid type (list) variable import ma...  "
            ],
            "text/html": [
              "\n",
              "  <div id=\"df-376cab5a-c363-42f4-9d78-d144cb0b5303\">\n",
              "    <div class=\"colab-df-container\">\n",
              "      <div>\n",
              "<style scoped>\n",
              "    .dataframe tbody tr th:only-of-type {\n",
              "        vertical-align: middle;\n",
              "    }\n",
              "\n",
              "    .dataframe tbody tr th {\n",
              "        vertical-align: top;\n",
              "    }\n",
              "\n",
              "    .dataframe thead th {\n",
              "        text-align: right;\n",
              "    }\n",
              "</style>\n",
              "<table border=\"1\" class=\"dataframe\">\n",
              "  <thead>\n",
              "    <tr style=\"text-align: right;\">\n",
              "      <th></th>\n",
              "      <th>Title</th>\n",
              "      <th>Body</th>\n",
              "      <th>Tags</th>\n",
              "      <th>text</th>\n",
              "    </tr>\n",
              "  </thead>\n",
              "  <tbody>\n",
              "    <tr>\n",
              "      <th>0</th>\n",
              "      <td>check uploaded file image without mime type?</td>\n",
              "      <td>Id like check uploaded file image file (e.g pn...</td>\n",
              "      <td>php image-processing file-upload upload mime-t...</td>\n",
              "      <td>check uploaded file image without mime type? I...</td>\n",
              "    </tr>\n",
              "    <tr>\n",
              "      <th>1</th>\n",
              "      <td>prevent firefox closing press ctrl-w</td>\n",
              "      <td>favorite editor (vim), regularly use ctrl-w ex...</td>\n",
              "      <td>firefox</td>\n",
              "      <td>prevent firefox closing press ctrl-w favorite ...</td>\n",
              "    </tr>\n",
              "    <tr>\n",
              "      <th>2</th>\n",
              "      <td>R Error Invalid type (list) variable</td>\n",
              "      <td>import matlab file construct data frame, matla...</td>\n",
              "      <td>r matlab machine-learning</td>\n",
              "      <td>R Error Invalid type (list) variable import ma...</td>\n",
              "    </tr>\n",
              "  </tbody>\n",
              "</table>\n",
              "</div>\n",
              "      <button class=\"colab-df-convert\" onclick=\"convertToInteractive('df-376cab5a-c363-42f4-9d78-d144cb0b5303')\"\n",
              "              title=\"Convert this dataframe to an interactive table.\"\n",
              "              style=\"display:none;\">\n",
              "        \n",
              "  <svg xmlns=\"http://www.w3.org/2000/svg\" height=\"24px\"viewBox=\"0 0 24 24\"\n",
              "       width=\"24px\">\n",
              "    <path d=\"M0 0h24v24H0V0z\" fill=\"none\"/>\n",
              "    <path d=\"M18.56 5.44l.94 2.06.94-2.06 2.06-.94-2.06-.94-.94-2.06-.94 2.06-2.06.94zm-11 1L8.5 8.5l.94-2.06 2.06-.94-2.06-.94L8.5 2.5l-.94 2.06-2.06.94zm10 10l.94 2.06.94-2.06 2.06-.94-2.06-.94-.94-2.06-.94 2.06-2.06.94z\"/><path d=\"M17.41 7.96l-1.37-1.37c-.4-.4-.92-.59-1.43-.59-.52 0-1.04.2-1.43.59L10.3 9.45l-7.72 7.72c-.78.78-.78 2.05 0 2.83L4 21.41c.39.39.9.59 1.41.59.51 0 1.02-.2 1.41-.59l7.78-7.78 2.81-2.81c.8-.78.8-2.07 0-2.86zM5.41 20L4 18.59l7.72-7.72 1.47 1.35L5.41 20z\"/>\n",
              "  </svg>\n",
              "      </button>\n",
              "      \n",
              "  <style>\n",
              "    .colab-df-container {\n",
              "      display:flex;\n",
              "      flex-wrap:wrap;\n",
              "      gap: 12px;\n",
              "    }\n",
              "\n",
              "    .colab-df-convert {\n",
              "      background-color: #E8F0FE;\n",
              "      border: none;\n",
              "      border-radius: 50%;\n",
              "      cursor: pointer;\n",
              "      display: none;\n",
              "      fill: #1967D2;\n",
              "      height: 32px;\n",
              "      padding: 0 0 0 0;\n",
              "      width: 32px;\n",
              "    }\n",
              "\n",
              "    .colab-df-convert:hover {\n",
              "      background-color: #E2EBFA;\n",
              "      box-shadow: 0px 1px 2px rgba(60, 64, 67, 0.3), 0px 1px 3px 1px rgba(60, 64, 67, 0.15);\n",
              "      fill: #174EA6;\n",
              "    }\n",
              "\n",
              "    [theme=dark] .colab-df-convert {\n",
              "      background-color: #3B4455;\n",
              "      fill: #D2E3FC;\n",
              "    }\n",
              "\n",
              "    [theme=dark] .colab-df-convert:hover {\n",
              "      background-color: #434B5C;\n",
              "      box-shadow: 0px 1px 3px 1px rgba(0, 0, 0, 0.15);\n",
              "      filter: drop-shadow(0px 1px 2px rgba(0, 0, 0, 0.3));\n",
              "      fill: #FFFFFF;\n",
              "    }\n",
              "  </style>\n",
              "\n",
              "      <script>\n",
              "        const buttonEl =\n",
              "          document.querySelector('#df-376cab5a-c363-42f4-9d78-d144cb0b5303 button.colab-df-convert');\n",
              "        buttonEl.style.display =\n",
              "          google.colab.kernel.accessAllowed ? 'block' : 'none';\n",
              "\n",
              "        async function convertToInteractive(key) {\n",
              "          const element = document.querySelector('#df-376cab5a-c363-42f4-9d78-d144cb0b5303');\n",
              "          const dataTable =\n",
              "            await google.colab.kernel.invokeFunction('convertToInteractive',\n",
              "                                                     [key], {});\n",
              "          if (!dataTable) return;\n",
              "\n",
              "          const docLinkHtml = 'Like what you see? Visit the ' +\n",
              "            '<a target=\"_blank\" href=https://colab.research.google.com/notebooks/data_table.ipynb>data table notebook</a>'\n",
              "            + ' to learn more about interactive tables.';\n",
              "          element.innerHTML = '';\n",
              "          dataTable['output_type'] = 'display_data';\n",
              "          await google.colab.output.renderOutput(dataTable, element);\n",
              "          const docLink = document.createElement('div');\n",
              "          docLink.innerHTML = docLinkHtml;\n",
              "          element.appendChild(docLink);\n",
              "        }\n",
              "      </script>\n",
              "    </div>\n",
              "  </div>\n",
              "  "
            ]
          },
          "metadata": {},
          "execution_count": 53
        }
      ]
    },
    {
      "cell_type": "code",
      "source": [
        "data[\"text\"][0]"
      ],
      "metadata": {
        "colab": {
          "base_uri": "https://localhost:8080/",
          "height": 70
        },
        "id": "yHQS3EBDsODy",
        "outputId": "9dd49c63-44af-4a5e-92ed-f6e21f3783bc"
      },
      "execution_count": 54,
      "outputs": [
        {
          "output_type": "execute_result",
          "data": {
            "text/plain": [
              "'check uploaded file image without mime type? Id like check uploaded file image file (e.g png, jpg, jpeg, gif, bmp) another file. problem Im using Uploadify upload files, changes mime type gives text/octal something mime type, matter file type upload. way check uploaded file image apart checking file extension using PHP?'"
            ],
            "application/vnd.google.colaboratory.intrinsic+json": {
              "type": "string"
            }
          },
          "metadata": {},
          "execution_count": 54
        }
      ]
    },
    {
      "cell_type": "code",
      "source": [
        "data= data.drop('Body',axis=1)\n",
        "data= data.drop('Title',axis=1)"
      ],
      "metadata": {
        "id": "tkXPqb9xqJem"
      },
      "execution_count": 55,
      "outputs": []
    },
    {
      "cell_type": "code",
      "source": [
        "data.head(3)"
      ],
      "metadata": {
        "colab": {
          "base_uri": "https://localhost:8080/",
          "height": 143
        },
        "id": "aR8oTfj8sXYs",
        "outputId": "53a86f4e-a2de-4624-98f1-83a9dd5233ea"
      },
      "execution_count": 56,
      "outputs": [
        {
          "output_type": "execute_result",
          "data": {
            "text/plain": [
              "                                                Tags  \\\n",
              "0  php image-processing file-upload upload mime-t...   \n",
              "1                                            firefox   \n",
              "2                          r matlab machine-learning   \n",
              "\n",
              "                                                text  \n",
              "0  check uploaded file image without mime type? I...  \n",
              "1  prevent firefox closing press ctrl-w favorite ...  \n",
              "2  R Error Invalid type (list) variable import ma...  "
            ],
            "text/html": [
              "\n",
              "  <div id=\"df-6e899dab-7070-404b-9564-8378fb7e726a\">\n",
              "    <div class=\"colab-df-container\">\n",
              "      <div>\n",
              "<style scoped>\n",
              "    .dataframe tbody tr th:only-of-type {\n",
              "        vertical-align: middle;\n",
              "    }\n",
              "\n",
              "    .dataframe tbody tr th {\n",
              "        vertical-align: top;\n",
              "    }\n",
              "\n",
              "    .dataframe thead th {\n",
              "        text-align: right;\n",
              "    }\n",
              "</style>\n",
              "<table border=\"1\" class=\"dataframe\">\n",
              "  <thead>\n",
              "    <tr style=\"text-align: right;\">\n",
              "      <th></th>\n",
              "      <th>Tags</th>\n",
              "      <th>text</th>\n",
              "    </tr>\n",
              "  </thead>\n",
              "  <tbody>\n",
              "    <tr>\n",
              "      <th>0</th>\n",
              "      <td>php image-processing file-upload upload mime-t...</td>\n",
              "      <td>check uploaded file image without mime type? I...</td>\n",
              "    </tr>\n",
              "    <tr>\n",
              "      <th>1</th>\n",
              "      <td>firefox</td>\n",
              "      <td>prevent firefox closing press ctrl-w favorite ...</td>\n",
              "    </tr>\n",
              "    <tr>\n",
              "      <th>2</th>\n",
              "      <td>r matlab machine-learning</td>\n",
              "      <td>R Error Invalid type (list) variable import ma...</td>\n",
              "    </tr>\n",
              "  </tbody>\n",
              "</table>\n",
              "</div>\n",
              "      <button class=\"colab-df-convert\" onclick=\"convertToInteractive('df-6e899dab-7070-404b-9564-8378fb7e726a')\"\n",
              "              title=\"Convert this dataframe to an interactive table.\"\n",
              "              style=\"display:none;\">\n",
              "        \n",
              "  <svg xmlns=\"http://www.w3.org/2000/svg\" height=\"24px\"viewBox=\"0 0 24 24\"\n",
              "       width=\"24px\">\n",
              "    <path d=\"M0 0h24v24H0V0z\" fill=\"none\"/>\n",
              "    <path d=\"M18.56 5.44l.94 2.06.94-2.06 2.06-.94-2.06-.94-.94-2.06-.94 2.06-2.06.94zm-11 1L8.5 8.5l.94-2.06 2.06-.94-2.06-.94L8.5 2.5l-.94 2.06-2.06.94zm10 10l.94 2.06.94-2.06 2.06-.94-2.06-.94-.94-2.06-.94 2.06-2.06.94z\"/><path d=\"M17.41 7.96l-1.37-1.37c-.4-.4-.92-.59-1.43-.59-.52 0-1.04.2-1.43.59L10.3 9.45l-7.72 7.72c-.78.78-.78 2.05 0 2.83L4 21.41c.39.39.9.59 1.41.59.51 0 1.02-.2 1.41-.59l7.78-7.78 2.81-2.81c.8-.78.8-2.07 0-2.86zM5.41 20L4 18.59l7.72-7.72 1.47 1.35L5.41 20z\"/>\n",
              "  </svg>\n",
              "      </button>\n",
              "      \n",
              "  <style>\n",
              "    .colab-df-container {\n",
              "      display:flex;\n",
              "      flex-wrap:wrap;\n",
              "      gap: 12px;\n",
              "    }\n",
              "\n",
              "    .colab-df-convert {\n",
              "      background-color: #E8F0FE;\n",
              "      border: none;\n",
              "      border-radius: 50%;\n",
              "      cursor: pointer;\n",
              "      display: none;\n",
              "      fill: #1967D2;\n",
              "      height: 32px;\n",
              "      padding: 0 0 0 0;\n",
              "      width: 32px;\n",
              "    }\n",
              "\n",
              "    .colab-df-convert:hover {\n",
              "      background-color: #E2EBFA;\n",
              "      box-shadow: 0px 1px 2px rgba(60, 64, 67, 0.3), 0px 1px 3px 1px rgba(60, 64, 67, 0.15);\n",
              "      fill: #174EA6;\n",
              "    }\n",
              "\n",
              "    [theme=dark] .colab-df-convert {\n",
              "      background-color: #3B4455;\n",
              "      fill: #D2E3FC;\n",
              "    }\n",
              "\n",
              "    [theme=dark] .colab-df-convert:hover {\n",
              "      background-color: #434B5C;\n",
              "      box-shadow: 0px 1px 3px 1px rgba(0, 0, 0, 0.15);\n",
              "      filter: drop-shadow(0px 1px 2px rgba(0, 0, 0, 0.3));\n",
              "      fill: #FFFFFF;\n",
              "    }\n",
              "  </style>\n",
              "\n",
              "      <script>\n",
              "        const buttonEl =\n",
              "          document.querySelector('#df-6e899dab-7070-404b-9564-8378fb7e726a button.colab-df-convert');\n",
              "        buttonEl.style.display =\n",
              "          google.colab.kernel.accessAllowed ? 'block' : 'none';\n",
              "\n",
              "        async function convertToInteractive(key) {\n",
              "          const element = document.querySelector('#df-6e899dab-7070-404b-9564-8378fb7e726a');\n",
              "          const dataTable =\n",
              "            await google.colab.kernel.invokeFunction('convertToInteractive',\n",
              "                                                     [key], {});\n",
              "          if (!dataTable) return;\n",
              "\n",
              "          const docLinkHtml = 'Like what you see? Visit the ' +\n",
              "            '<a target=\"_blank\" href=https://colab.research.google.com/notebooks/data_table.ipynb>data table notebook</a>'\n",
              "            + ' to learn more about interactive tables.';\n",
              "          element.innerHTML = '';\n",
              "          dataTable['output_type'] = 'display_data';\n",
              "          await google.colab.output.renderOutput(dataTable, element);\n",
              "          const docLink = document.createElement('div');\n",
              "          docLink.innerHTML = docLinkHtml;\n",
              "          element.appendChild(docLink);\n",
              "        }\n",
              "      </script>\n",
              "    </div>\n",
              "  </div>\n",
              "  "
            ]
          },
          "metadata": {},
          "execution_count": 56
        }
      ]
    },
    {
      "cell_type": "code",
      "source": [
        "stemmer = SnowballStemmer(\"english\")"
      ],
      "metadata": {
        "id": "p2WPPqWlKCxE"
      },
      "execution_count": 57,
      "outputs": []
    },
    {
      "cell_type": "markdown",
      "source": [
        "Stemming is a process of minimizing a word to its root form. It helps in reducing the total number of words in the corpus."
      ],
      "metadata": {
        "id": "fyDWf0sUV7C1"
      }
    },
    {
      "cell_type": "code",
      "source": [
        "data['text'] = data['text'].str.split()"
      ],
      "metadata": {
        "id": "UcEfriUXKC0E"
      },
      "execution_count": 58,
      "outputs": []
    },
    {
      "cell_type": "markdown",
      "source": [
        "Splitting the data in text column into individual words based on whitespace as part of stemming."
      ],
      "metadata": {
        "id": "OlwKhxPKWb7S"
      }
    },
    {
      "cell_type": "code",
      "source": [
        "data['stemmed_text'] = data['text'].apply(lambda x: [stemmer.stem(y) for y in x])"
      ],
      "metadata": {
        "id": "r4ytdTeGKDTZ"
      },
      "execution_count": 59,
      "outputs": []
    },
    {
      "cell_type": "markdown",
      "source": [
        "Applied the stemming function to our data."
      ],
      "metadata": {
        "id": "d4wkq6VLWwCC"
      }
    },
    {
      "cell_type": "code",
      "source": [
        "data.head(3)"
      ],
      "metadata": {
        "colab": {
          "base_uri": "https://localhost:8080/",
          "height": 143
        },
        "id": "P12yr8ffKaYb",
        "outputId": "4d859957-6766-4657-eddf-170c96001f5a"
      },
      "execution_count": 60,
      "outputs": [
        {
          "output_type": "execute_result",
          "data": {
            "text/plain": [
              "                                                Tags  \\\n",
              "0  php image-processing file-upload upload mime-t...   \n",
              "1                                            firefox   \n",
              "2                          r matlab machine-learning   \n",
              "\n",
              "                                                text  \\\n",
              "0  [check, uploaded, file, image, without, mime, ...   \n",
              "1  [prevent, firefox, closing, press, ctrl-w, fav...   \n",
              "2  [R, Error, Invalid, type, (list), variable, im...   \n",
              "\n",
              "                                        stemmed_text  \n",
              "0  [check, upload, file, imag, without, mime, typ...  \n",
              "1  [prevent, firefox, close, press, ctrl-w, favor...  \n",
              "2  [r, error, invalid, type, (list), variabl, imp...  "
            ],
            "text/html": [
              "\n",
              "  <div id=\"df-62018dd9-a848-4533-b333-727de59e04e9\">\n",
              "    <div class=\"colab-df-container\">\n",
              "      <div>\n",
              "<style scoped>\n",
              "    .dataframe tbody tr th:only-of-type {\n",
              "        vertical-align: middle;\n",
              "    }\n",
              "\n",
              "    .dataframe tbody tr th {\n",
              "        vertical-align: top;\n",
              "    }\n",
              "\n",
              "    .dataframe thead th {\n",
              "        text-align: right;\n",
              "    }\n",
              "</style>\n",
              "<table border=\"1\" class=\"dataframe\">\n",
              "  <thead>\n",
              "    <tr style=\"text-align: right;\">\n",
              "      <th></th>\n",
              "      <th>Tags</th>\n",
              "      <th>text</th>\n",
              "      <th>stemmed_text</th>\n",
              "    </tr>\n",
              "  </thead>\n",
              "  <tbody>\n",
              "    <tr>\n",
              "      <th>0</th>\n",
              "      <td>php image-processing file-upload upload mime-t...</td>\n",
              "      <td>[check, uploaded, file, image, without, mime, ...</td>\n",
              "      <td>[check, upload, file, imag, without, mime, typ...</td>\n",
              "    </tr>\n",
              "    <tr>\n",
              "      <th>1</th>\n",
              "      <td>firefox</td>\n",
              "      <td>[prevent, firefox, closing, press, ctrl-w, fav...</td>\n",
              "      <td>[prevent, firefox, close, press, ctrl-w, favor...</td>\n",
              "    </tr>\n",
              "    <tr>\n",
              "      <th>2</th>\n",
              "      <td>r matlab machine-learning</td>\n",
              "      <td>[R, Error, Invalid, type, (list), variable, im...</td>\n",
              "      <td>[r, error, invalid, type, (list), variabl, imp...</td>\n",
              "    </tr>\n",
              "  </tbody>\n",
              "</table>\n",
              "</div>\n",
              "      <button class=\"colab-df-convert\" onclick=\"convertToInteractive('df-62018dd9-a848-4533-b333-727de59e04e9')\"\n",
              "              title=\"Convert this dataframe to an interactive table.\"\n",
              "              style=\"display:none;\">\n",
              "        \n",
              "  <svg xmlns=\"http://www.w3.org/2000/svg\" height=\"24px\"viewBox=\"0 0 24 24\"\n",
              "       width=\"24px\">\n",
              "    <path d=\"M0 0h24v24H0V0z\" fill=\"none\"/>\n",
              "    <path d=\"M18.56 5.44l.94 2.06.94-2.06 2.06-.94-2.06-.94-.94-2.06-.94 2.06-2.06.94zm-11 1L8.5 8.5l.94-2.06 2.06-.94-2.06-.94L8.5 2.5l-.94 2.06-2.06.94zm10 10l.94 2.06.94-2.06 2.06-.94-2.06-.94-.94-2.06-.94 2.06-2.06.94z\"/><path d=\"M17.41 7.96l-1.37-1.37c-.4-.4-.92-.59-1.43-.59-.52 0-1.04.2-1.43.59L10.3 9.45l-7.72 7.72c-.78.78-.78 2.05 0 2.83L4 21.41c.39.39.9.59 1.41.59.51 0 1.02-.2 1.41-.59l7.78-7.78 2.81-2.81c.8-.78.8-2.07 0-2.86zM5.41 20L4 18.59l7.72-7.72 1.47 1.35L5.41 20z\"/>\n",
              "  </svg>\n",
              "      </button>\n",
              "      \n",
              "  <style>\n",
              "    .colab-df-container {\n",
              "      display:flex;\n",
              "      flex-wrap:wrap;\n",
              "      gap: 12px;\n",
              "    }\n",
              "\n",
              "    .colab-df-convert {\n",
              "      background-color: #E8F0FE;\n",
              "      border: none;\n",
              "      border-radius: 50%;\n",
              "      cursor: pointer;\n",
              "      display: none;\n",
              "      fill: #1967D2;\n",
              "      height: 32px;\n",
              "      padding: 0 0 0 0;\n",
              "      width: 32px;\n",
              "    }\n",
              "\n",
              "    .colab-df-convert:hover {\n",
              "      background-color: #E2EBFA;\n",
              "      box-shadow: 0px 1px 2px rgba(60, 64, 67, 0.3), 0px 1px 3px 1px rgba(60, 64, 67, 0.15);\n",
              "      fill: #174EA6;\n",
              "    }\n",
              "\n",
              "    [theme=dark] .colab-df-convert {\n",
              "      background-color: #3B4455;\n",
              "      fill: #D2E3FC;\n",
              "    }\n",
              "\n",
              "    [theme=dark] .colab-df-convert:hover {\n",
              "      background-color: #434B5C;\n",
              "      box-shadow: 0px 1px 3px 1px rgba(0, 0, 0, 0.15);\n",
              "      filter: drop-shadow(0px 1px 2px rgba(0, 0, 0, 0.3));\n",
              "      fill: #FFFFFF;\n",
              "    }\n",
              "  </style>\n",
              "\n",
              "      <script>\n",
              "        const buttonEl =\n",
              "          document.querySelector('#df-62018dd9-a848-4533-b333-727de59e04e9 button.colab-df-convert');\n",
              "        buttonEl.style.display =\n",
              "          google.colab.kernel.accessAllowed ? 'block' : 'none';\n",
              "\n",
              "        async function convertToInteractive(key) {\n",
              "          const element = document.querySelector('#df-62018dd9-a848-4533-b333-727de59e04e9');\n",
              "          const dataTable =\n",
              "            await google.colab.kernel.invokeFunction('convertToInteractive',\n",
              "                                                     [key], {});\n",
              "          if (!dataTable) return;\n",
              "\n",
              "          const docLinkHtml = 'Like what you see? Visit the ' +\n",
              "            '<a target=\"_blank\" href=https://colab.research.google.com/notebooks/data_table.ipynb>data table notebook</a>'\n",
              "            + ' to learn more about interactive tables.';\n",
              "          element.innerHTML = '';\n",
              "          dataTable['output_type'] = 'display_data';\n",
              "          await google.colab.output.renderOutput(dataTable, element);\n",
              "          const docLink = document.createElement('div');\n",
              "          docLink.innerHTML = docLinkHtml;\n",
              "          element.appendChild(docLink);\n",
              "        }\n",
              "      </script>\n",
              "    </div>\n",
              "  </div>\n",
              "  "
            ]
          },
          "metadata": {},
          "execution_count": 60
        }
      ]
    },
    {
      "cell_type": "code",
      "source": [
        "data.drop('text',axis=1,inplace=True)"
      ],
      "metadata": {
        "id": "Yi6yvnrTKd4P"
      },
      "execution_count": 61,
      "outputs": []
    },
    {
      "cell_type": "code",
      "source": [
        "data.head(3)"
      ],
      "metadata": {
        "colab": {
          "base_uri": "https://localhost:8080/",
          "height": 143
        },
        "id": "E174-iqSKwQi",
        "outputId": "b47388e1-452a-4338-b635-fdfaf2a8b3f5"
      },
      "execution_count": 62,
      "outputs": [
        {
          "output_type": "execute_result",
          "data": {
            "text/plain": [
              "                                                Tags  \\\n",
              "0  php image-processing file-upload upload mime-t...   \n",
              "1                                            firefox   \n",
              "2                          r matlab machine-learning   \n",
              "\n",
              "                                        stemmed_text  \n",
              "0  [check, upload, file, imag, without, mime, typ...  \n",
              "1  [prevent, firefox, close, press, ctrl-w, favor...  \n",
              "2  [r, error, invalid, type, (list), variabl, imp...  "
            ],
            "text/html": [
              "\n",
              "  <div id=\"df-79ea8a14-cf98-4593-ad23-b4d9d23dea96\">\n",
              "    <div class=\"colab-df-container\">\n",
              "      <div>\n",
              "<style scoped>\n",
              "    .dataframe tbody tr th:only-of-type {\n",
              "        vertical-align: middle;\n",
              "    }\n",
              "\n",
              "    .dataframe tbody tr th {\n",
              "        vertical-align: top;\n",
              "    }\n",
              "\n",
              "    .dataframe thead th {\n",
              "        text-align: right;\n",
              "    }\n",
              "</style>\n",
              "<table border=\"1\" class=\"dataframe\">\n",
              "  <thead>\n",
              "    <tr style=\"text-align: right;\">\n",
              "      <th></th>\n",
              "      <th>Tags</th>\n",
              "      <th>stemmed_text</th>\n",
              "    </tr>\n",
              "  </thead>\n",
              "  <tbody>\n",
              "    <tr>\n",
              "      <th>0</th>\n",
              "      <td>php image-processing file-upload upload mime-t...</td>\n",
              "      <td>[check, upload, file, imag, without, mime, typ...</td>\n",
              "    </tr>\n",
              "    <tr>\n",
              "      <th>1</th>\n",
              "      <td>firefox</td>\n",
              "      <td>[prevent, firefox, close, press, ctrl-w, favor...</td>\n",
              "    </tr>\n",
              "    <tr>\n",
              "      <th>2</th>\n",
              "      <td>r matlab machine-learning</td>\n",
              "      <td>[r, error, invalid, type, (list), variabl, imp...</td>\n",
              "    </tr>\n",
              "  </tbody>\n",
              "</table>\n",
              "</div>\n",
              "      <button class=\"colab-df-convert\" onclick=\"convertToInteractive('df-79ea8a14-cf98-4593-ad23-b4d9d23dea96')\"\n",
              "              title=\"Convert this dataframe to an interactive table.\"\n",
              "              style=\"display:none;\">\n",
              "        \n",
              "  <svg xmlns=\"http://www.w3.org/2000/svg\" height=\"24px\"viewBox=\"0 0 24 24\"\n",
              "       width=\"24px\">\n",
              "    <path d=\"M0 0h24v24H0V0z\" fill=\"none\"/>\n",
              "    <path d=\"M18.56 5.44l.94 2.06.94-2.06 2.06-.94-2.06-.94-.94-2.06-.94 2.06-2.06.94zm-11 1L8.5 8.5l.94-2.06 2.06-.94-2.06-.94L8.5 2.5l-.94 2.06-2.06.94zm10 10l.94 2.06.94-2.06 2.06-.94-2.06-.94-.94-2.06-.94 2.06-2.06.94z\"/><path d=\"M17.41 7.96l-1.37-1.37c-.4-.4-.92-.59-1.43-.59-.52 0-1.04.2-1.43.59L10.3 9.45l-7.72 7.72c-.78.78-.78 2.05 0 2.83L4 21.41c.39.39.9.59 1.41.59.51 0 1.02-.2 1.41-.59l7.78-7.78 2.81-2.81c.8-.78.8-2.07 0-2.86zM5.41 20L4 18.59l7.72-7.72 1.47 1.35L5.41 20z\"/>\n",
              "  </svg>\n",
              "      </button>\n",
              "      \n",
              "  <style>\n",
              "    .colab-df-container {\n",
              "      display:flex;\n",
              "      flex-wrap:wrap;\n",
              "      gap: 12px;\n",
              "    }\n",
              "\n",
              "    .colab-df-convert {\n",
              "      background-color: #E8F0FE;\n",
              "      border: none;\n",
              "      border-radius: 50%;\n",
              "      cursor: pointer;\n",
              "      display: none;\n",
              "      fill: #1967D2;\n",
              "      height: 32px;\n",
              "      padding: 0 0 0 0;\n",
              "      width: 32px;\n",
              "    }\n",
              "\n",
              "    .colab-df-convert:hover {\n",
              "      background-color: #E2EBFA;\n",
              "      box-shadow: 0px 1px 2px rgba(60, 64, 67, 0.3), 0px 1px 3px 1px rgba(60, 64, 67, 0.15);\n",
              "      fill: #174EA6;\n",
              "    }\n",
              "\n",
              "    [theme=dark] .colab-df-convert {\n",
              "      background-color: #3B4455;\n",
              "      fill: #D2E3FC;\n",
              "    }\n",
              "\n",
              "    [theme=dark] .colab-df-convert:hover {\n",
              "      background-color: #434B5C;\n",
              "      box-shadow: 0px 1px 3px 1px rgba(0, 0, 0, 0.15);\n",
              "      filter: drop-shadow(0px 1px 2px rgba(0, 0, 0, 0.3));\n",
              "      fill: #FFFFFF;\n",
              "    }\n",
              "  </style>\n",
              "\n",
              "      <script>\n",
              "        const buttonEl =\n",
              "          document.querySelector('#df-79ea8a14-cf98-4593-ad23-b4d9d23dea96 button.colab-df-convert');\n",
              "        buttonEl.style.display =\n",
              "          google.colab.kernel.accessAllowed ? 'block' : 'none';\n",
              "\n",
              "        async function convertToInteractive(key) {\n",
              "          const element = document.querySelector('#df-79ea8a14-cf98-4593-ad23-b4d9d23dea96');\n",
              "          const dataTable =\n",
              "            await google.colab.kernel.invokeFunction('convertToInteractive',\n",
              "                                                     [key], {});\n",
              "          if (!dataTable) return;\n",
              "\n",
              "          const docLinkHtml = 'Like what you see? Visit the ' +\n",
              "            '<a target=\"_blank\" href=https://colab.research.google.com/notebooks/data_table.ipynb>data table notebook</a>'\n",
              "            + ' to learn more about interactive tables.';\n",
              "          element.innerHTML = '';\n",
              "          dataTable['output_type'] = 'display_data';\n",
              "          await google.colab.output.renderOutput(dataTable, element);\n",
              "          const docLink = document.createElement('div');\n",
              "          docLink.innerHTML = docLinkHtml;\n",
              "          element.appendChild(docLink);\n",
              "        }\n",
              "      </script>\n",
              "    </div>\n",
              "  </div>\n",
              "  "
            ]
          },
          "metadata": {},
          "execution_count": 62
        }
      ]
    },
    {
      "cell_type": "markdown",
      "source": [
        "Instead of taking all tags, i will take a sample of it due to limited computing capacity"
      ],
      "metadata": {
        "id": "VlS1WLV7lEAv"
      }
    },
    {
      "cell_type": "code",
      "source": [
        "def tags_to_choose(n):\n",
        "    t = tag_matrix.sum(axis=0).tolist()[0]\n",
        "    sorted_tags_i = sorted(range(len(t)), key=lambda i: t[i], reverse=True)\n",
        "    multilabel_yn=tag_matrix[:,sorted_tags_i[:n]]\n",
        "    return multilabel_yn"
      ],
      "metadata": {
        "id": "C-lURmXPUD9q"
      },
      "execution_count": 63,
      "outputs": []
    },
    {
      "cell_type": "code",
      "source": [
        "def questions_explained_fn(n):\n",
        "    multilabel_yn = tags_to_choose(n)\n",
        "    x= multilabel_yn.sum(axis=1)\n",
        "    return (np.count_nonzero(x==0))"
      ],
      "metadata": {
        "id": "ks40SewXZ534"
      },
      "execution_count": 64,
      "outputs": []
    },
    {
      "cell_type": "code",
      "source": [
        "questions_explained = []\n",
        "total_tags=tag_matrix.shape[1]\n",
        "total_qs=data.shape[0]\n",
        "for i in range(500, total_tags, 100):\n",
        "    questions_explained.append(np.round(((total_qs-questions_explained_fn(i))/total_qs)*100,3))"
      ],
      "metadata": {
        "id": "3G-RaxTWaDYT"
      },
      "execution_count": 65,
      "outputs": []
    },
    {
      "cell_type": "code",
      "source": [
        "fig, ax = plt.subplots()\n",
        "ax.plot(questions_explained)\n",
        "xlabel = list(500+np.array(range(-50,450,50))*50)\n",
        "ax.set_xticklabels(xlabel)\n",
        "plt.xlabel(\"Number of tags\")\n",
        "plt.ylabel(\"Number Questions coverd partially\")\n",
        "plt.grid()\n",
        "plt.show()\n",
        "print(\"With around\",8000,\"tags we can cover 99% % of questions\")"
      ],
      "metadata": {
        "colab": {
          "base_uri": "https://localhost:8080/",
          "height": 331
        },
        "id": "dKwH5rhZaDjH",
        "outputId": "d6f923fa-38c5-4011-eab5-73d6cb363ff6"
      },
      "execution_count": 66,
      "outputs": [
        {
          "output_type": "stream",
          "name": "stderr",
          "text": [
            "<ipython-input-66-b1a5c81f623e>:4: UserWarning: FixedFormatter should only be used together with FixedLocator\n",
            "  ax.set_xticklabels(xlabel)\n"
          ]
        },
        {
          "output_type": "display_data",
          "data": {
            "text/plain": [
              "<Figure size 432x288 with 1 Axes>"
            ],
            "image/png": "[encoded data removed]"
          },
          "metadata": {
            "needs_background": "light"
          }
        },
        {
          "output_type": "stream",
          "name": "stdout",
          "text": [
            "With around 8000 tags we can cover 99% % of questions\n"
          ]
        }
      ]
    },
    {
      "cell_type": "code",
      "source": [
        "multilabel_yx = tags_to_choose(8000)"
      ],
      "metadata": {
        "id": "FL1rsbM1URMJ"
      },
      "execution_count": 67,
      "outputs": []
    },
    {
      "cell_type": "code",
      "source": [
        "total_size = data.shape[0]\n",
        "train_size = int(0.80 * total_size)\n",
        "x_train = data.head(train_size)\n",
        "x_test = data.tail(total_size - train_size)\n",
        "y_train = multilabel_yx[0:train_size,:]\n",
        "y_test = multilabel_yx[train_size:total_size,:]"
      ],
      "metadata": {
        "id": "YRIMK8Xub8-z"
      },
      "execution_count": 68,
      "outputs": []
    },
    {
      "cell_type": "markdown",
      "source": [
        "Splitted our data into train and test set."
      ],
      "metadata": {
        "id": "pbjDtPqfgj0Y"
      }
    },
    {
      "cell_type": "code",
      "source": [
        "print(x_train.shape)\n",
        "print(x_test.shape)\n",
        "print(y_train.shape)\n",
        "print(y_test.shape)"
      ],
      "metadata": {
        "colab": {
          "base_uri": "https://localhost:8080/"
        },
        "id": "xXszeH7BgbeP",
        "outputId": "68d31fbf-3301-41a5-95dd-72534c04e738"
      },
      "execution_count": 69,
      "outputs": [
        {
          "output_type": "stream",
          "name": "stdout",
          "text": [
            "(39885, 2)\n",
            "(9972, 2)\n",
            "(39885, 8000)\n",
            "(9972, 8000)\n"
          ]
        }
      ]
    },
    {
      "cell_type": "code",
      "source": [
        "!pip install scikit-multilearn"
      ],
      "metadata": {
        "colab": {
          "base_uri": "https://localhost:8080/"
        },
        "id": "sluHDMe6gq5e",
        "outputId": "5ea19909-8281-4606-fc89-28a4ae76fed1"
      },
      "execution_count": 70,
      "outputs": [
        {
          "output_type": "stream",
          "name": "stdout",
          "text": [
            "Looking in indexes: https://pypi.org/simple, https://us-python.pkg.dev/colab-wheels/public/simple/\n",
            "Collecting scikit-multilearn\n",
            "  Downloading scikit_multilearn-0.2.0-py3-none-any.whl (89 kB)\n",
            "\u001b[?25l     \u001b[90m━━━━━━━━━━━━━━━━━━━━━━━━━━━━━━━━━━━━━━━━\u001b[0m \u001b[32m0.0/89.4 KB\u001b[0m \u001b[31m?\u001b[0m eta \u001b[36m-:--:--\u001b[0m\r\u001b[2K     \u001b[90m━━━━━━━━━━━━━━━━━━━━━━━━━━━━━━━━━━━━━━━━\u001b[0m \u001b[32m89.4/89.4 KB\u001b[0m \u001b[31m3.8 MB/s\u001b[0m eta \u001b[36m0:00:00\u001b[0m\n",
            "\u001b[?25hInstalling collected packages: scikit-multilearn\n",
            "Successfully installed scikit-multilearn-0.2.0\n"
          ]
        }
      ]
    },
    {
      "cell_type": "code",
      "source": [
        "from sklearn.feature_extraction.text import TfidfVectorizer"
      ],
      "metadata": {
        "id": "CTwoLQ4PcB4d"
      },
      "execution_count": 71,
      "outputs": []
    },
    {
      "cell_type": "markdown",
      "source": [
        "Any algorithm can only process numerical values. Tfidf is a method of converting text documents to numerical feature matrix."
      ],
      "metadata": {
        "id": "zMx43XkzcKw5"
      }
    },
    {
      "cell_type": "code",
      "source": [
        "data['stemmed_text'] = data['stemmed_text'].astype(str)"
      ],
      "metadata": {
        "id": "BXU27kLCcB7B"
      },
      "execution_count": 72,
      "outputs": []
    },
    {
      "cell_type": "code",
      "source": [
        "vectorizer = TfidfVectorizer(min_df=0.00009, max_features=100000, smooth_idf=True, norm=\"l2\", \\\n",
        "                             tokenizer = lambda x: x.split(), sublinear_tf=False, ngram_range=(1,3))\n",
        "x_train_multilabel = vectorizer.fit_transform(x_train['stemmed_text'])\n",
        "x_test_multilabel = vectorizer.transform(x_test['stemmed_text'])"
      ],
      "metadata": {
        "colab": {
          "base_uri": "https://localhost:8080/"
        },
        "id": "iPd846C5cB9D",
        "outputId": "573eda9a-9b5b-405a-c44b-567d85b422d5"
      },
      "execution_count": 73,
      "outputs": [
        {
          "output_type": "stream",
          "name": "stderr",
          "text": [
            "/usr/local/lib/python3.8/dist-packages/sklearn/feature_extraction/text.py:528: UserWarning: The parameter 'token_pattern' will not be used since 'tokenizer' is not None'\n",
            "  warnings.warn(\n"
          ]
        }
      ]
    },
    {
      "cell_type": "code",
      "source": [
        "print(\"Dimensions of train data X:\",x_train_multilabel.shape, \"Y :\",y_train.shape)\n",
        "print(\"Dimensions of test data X:\",x_test_multilabel.shape,\"Y:\",y_test.shape)"
      ],
      "metadata": {
        "colab": {
          "base_uri": "https://localhost:8080/"
        },
        "id": "WJZH3PTHiE4s",
        "outputId": "cb13019c-e4d9-4ffd-d24e-ed85157408dc"
      },
      "execution_count": 74,
      "outputs": [
        {
          "output_type": "stream",
          "name": "stdout",
          "text": [
            "Dimensions of train data X: (39885, 100000) Y : (39885, 8000)\n",
            "Dimensions of test data X: (9972, 100000) Y: (9972, 8000)\n"
          ]
        }
      ]
    },
    {
      "cell_type": "code",
      "source": [
        "from sklearn.multiclass import OneVsRestClassifier\n",
        "from sklearn.linear_model import LogisticRegression\n",
        "from sklearn.linear_model import SGDClassifier\n",
        "from sklearn import metrics\n",
        "from sklearn.metrics import accuracy_score, f1_score"
      ],
      "metadata": {
        "id": "MjR10knmUygJ"
      },
      "execution_count": 75,
      "outputs": []
    },
    {
      "cell_type": "code",
      "source": [
        "classifier = OneVsRestClassifier(LogisticRegression(penalty='l2'), n_jobs=-1)\n",
        "classifier.fit(x_train_multilabel, y_train)\n",
        "predictions= classifier.predict(x_test_multilabel)\n",
        "\n",
        "accuracy = accuracy_score(y_test, predictions)\n",
        "macro_f1 = f1_score(y_test, predictions, average='macro', zero_division=1)\n",
        "micro_f1 = f1_score(y_test, predictions, average='micro', zero_division=1)"
      ],
      "metadata": {
        "id": "XKorNOUJEsCy"
      },
      "execution_count": 77,
      "outputs": []
    },
    {
      "cell_type": "code",
      "source": [
        "print(\"Accuracy:\", accuracy)\n",
        "print(\"Macro F1 score:\", macro_f1)\n",
        "print(\"Micro F1 score:\", micro_f1)"
      ],
      "metadata": {
        "id": "SKHJTKJmni-7",
        "colab": {
          "base_uri": "https://localhost:8080/"
        },
        "outputId": "52d40017-49a3-4859-89ee-71bfa9ef49a5"
      },
      "execution_count": 78,
      "outputs": [
        {
          "output_type": "stream",
          "name": "stdout",
          "text": [
            "Accuracy: 0.03118732450862415\n",
            "Macro F1 score: 0.3776499990680424\n",
            "Micro F1 score: 0.15807178549266795\n"
          ]
        }
      ]
    },
    {
      "cell_type": "code",
      "source": [],
      "metadata": {
        "id": "Zz4Zk0RRe_nA"
      },
      "execution_count": null,
      "outputs": []
    }
  ]
}